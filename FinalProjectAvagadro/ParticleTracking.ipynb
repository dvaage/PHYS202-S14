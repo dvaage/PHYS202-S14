{
 "metadata": {
  "name": "",
  "signature": "sha256:e1efd882e62802ba2bf37d2fc410f4e5f8caef20c4b8b717c1c8852024e112af"
 },
 "nbformat": 3,
 "nbformat_minor": 0,
 "worksheets": [
  {
   "cells": [
    {
     "cell_type": "heading",
     "level": 1,
     "metadata": {},
     "source": [
      "Particle tracking"
     ]
    },
    {
     "cell_type": "code",
     "collapsed": false,
     "input": [
      "from BlobFinder import *\n",
      "from PIL import Image"
     ],
     "language": "python",
     "metadata": {},
     "outputs": [],
     "prompt_number": 3
    },
    {
     "cell_type": "markdown",
     "metadata": {},
     "source": [
      "\n",
      "The next step is to determine how far a bead moved from one time step t to the next t+\u0394t. For the test data, \u0394t = 0.5 seconds per frame. Assume the data is such that each bead moves a relatively small amount, and that two beads do not collide. (However, you must account for the possibility that the bead disappears from the frame, either by departing the microscope's field of view in the x- or y- direction, or moving out of the microscope's depth of focus in the z-direction.) Thus, for each bead at timet+\u0394t, calculate the closest bead at time t (in Euclidean distance) and identify these two as the same beads. However, if the distance is too large (greater than \u0394ppixels) assume that one of the beads has either just begun or ended its journey. Record the displacement that each bead travels in the \u0394t units of time.\n",
      "\n",
      "Write a function that takes an integer P, a floating point value \u03c4, a floating point value \u0394p, and a sequence of JPEG filenames as arguments, identifies the beads (using the specified values of P and \u03c4) in each JPEG image (using BlobFinder), and writes to a file (one per line, formatted with 4 decimal places to the right of decimal point) the radial displacement that each bead moves from one frame to the next (assuming it is no more than \u0394p). Note that it is not necessary to explicitly track a bead through a sequence of frames\u2014you only need to worry about identifying the same bead in two consecutive frames.\n"
     ]
    },
    {
     "cell_type": "code",
     "collapsed": false,
     "input": [
      "#comments needed\n",
      "def ImageComparison(frame1, frame2, P, tau, deltaP):\n",
      "    \"\"\"Returns the displacement of each particle from one frame to the next\"\"\"\n",
      "    f1 = Image.open(frame1)\n",
      "    frame1_blobs = getBeads(P, BlobFinder(f1, tau))\n",
      "    f2 = Image.open(frame2)\n",
      "    frame2_blobs = getBeads(P, BlobFinder(f2, tau))\n",
      "    displacements = []\n",
      "    #comments needed\n",
      "    for i in range(len(frame1_blobs)):\n",
      "        min_dr = deltaP\n",
      "        for j in range(len(frame2_blobs)):\n",
      "            dr = frame1_blobs[i].distanceTo(frame2_blobs[j])\n",
      "            if(dr < min_dr):\n",
      "                min_dr = dr\n",
      "                closestBlob = j\n",
      "        if min_dr < deltaP:\n",
      "            displacements.append(str(min_dr)+'\\n')          \n",
      "            del frame2_blobs[closestBlob]\n",
      "    return displacements\n",
      "#comments needed        \n",
      "def record_motion(P, tau, deltaP, images, out_file_name):\n",
      "    displacements = []\n",
      "    out = open(out_file_name, 'w')\n",
      "    for i in xrange(len(images) - 1):\n",
      "        displacements += ImageComparison(images[i], images[i+1], P, tau, deltaP)\n",
      "        print \"Image frame comparison #\", i, \"is finished being recorded\"\n",
      "    out.writelines(displacements)\n",
      "    out.close()"
     ],
     "language": "python",
     "metadata": {},
     "outputs": [],
     "prompt_number": 6
    },
    {
     "cell_type": "code",
     "collapsed": false,
     "input": [
      "#Here are the values I selected for P, Tau and Delta P \n",
      "P = 25\n",
      "tau = 700\n",
      "deltaP = 20"
     ],
     "language": "python",
     "metadata": {},
     "outputs": []
    },
    {
     "cell_type": "code",
     "collapsed": false,
     "input": [
      "#This is the for loop work for the Run4 data\n",
      "for k in range(4, 5):\n",
      "    frames = []\n",
      "    for i in range(200):\n",
      "        num = '00'\n",
      "        for j in range(3 - len(str(i))):\n",
      "            num += '0'\n",
      "        num += str(i)\n",
      "        frames.append('RunData/run'+str(k)+'/frame%s.jpg' % num) \n",
      "#comments needed here        \n",
      "    out_file = 'ANRun' + str(k) + 'Data' + '.dat'\n",
      "    record_motion(P, tau, deltaP, frames, out_file)\n",
      "    print 'All Displacement Comparisons have finished'"
     ],
     "language": "python",
     "metadata": {},
     "outputs": [
      {
       "output_type": "stream",
       "stream": "stdout",
       "text": [
        "Image frame comparison # 0 is finished being recorded\n",
        "Image frame comparison #"
       ]
      },
      {
       "output_type": "stream",
       "stream": "stdout",
       "text": [
        " 1 is finished being recorded\n",
        "Image frame comparison #"
       ]
      },
      {
       "output_type": "stream",
       "stream": "stdout",
       "text": [
        " 2 is finished being recorded\n",
        "Image frame comparison #"
       ]
      },
      {
       "output_type": "stream",
       "stream": "stdout",
       "text": [
        " 3 is finished being recorded\n",
        "Image frame comparison #"
       ]
      },
      {
       "output_type": "stream",
       "stream": "stdout",
       "text": [
        " 4 is finished being recorded\n",
        "Image frame comparison #"
       ]
      },
      {
       "output_type": "stream",
       "stream": "stdout",
       "text": [
        " 5 is finished being recorded\n",
        "Image frame comparison #"
       ]
      },
      {
       "output_type": "stream",
       "stream": "stdout",
       "text": [
        " 6 is finished being recorded\n",
        "Image frame comparison #"
       ]
      },
      {
       "output_type": "stream",
       "stream": "stdout",
       "text": [
        " 7 is finished being recorded\n",
        "Image frame comparison #"
       ]
      },
      {
       "output_type": "stream",
       "stream": "stdout",
       "text": [
        " 8 is finished being recorded\n",
        "Image frame comparison #"
       ]
      },
      {
       "output_type": "stream",
       "stream": "stdout",
       "text": [
        " 9 is finished being recorded\n",
        "Image frame comparison #"
       ]
      },
      {
       "output_type": "stream",
       "stream": "stdout",
       "text": [
        " 10 is finished being recorded\n",
        "Image frame comparison #"
       ]
      },
      {
       "output_type": "stream",
       "stream": "stdout",
       "text": [
        " 11 is finished being recorded\n",
        "Image frame comparison #"
       ]
      },
      {
       "output_type": "stream",
       "stream": "stdout",
       "text": [
        " 12 is finished being recorded\n",
        "Image frame comparison #"
       ]
      },
      {
       "output_type": "stream",
       "stream": "stdout",
       "text": [
        " 13 is finished being recorded\n",
        "Image frame comparison #"
       ]
      },
      {
       "output_type": "stream",
       "stream": "stdout",
       "text": [
        " 14 is finished being recorded\n",
        "Image frame comparison #"
       ]
      },
      {
       "output_type": "stream",
       "stream": "stdout",
       "text": [
        " 15 is finished being recorded\n",
        "Image frame comparison #"
       ]
      },
      {
       "output_type": "stream",
       "stream": "stdout",
       "text": [
        " 16 is finished being recorded\n",
        "Image frame comparison #"
       ]
      },
      {
       "output_type": "stream",
       "stream": "stdout",
       "text": [
        " 17 is finished being recorded\n",
        "Image frame comparison #"
       ]
      },
      {
       "output_type": "stream",
       "stream": "stdout",
       "text": [
        " 18 is finished being recorded\n",
        "Image frame comparison #"
       ]
      },
      {
       "output_type": "stream",
       "stream": "stdout",
       "text": [
        " 19 is finished being recorded\n",
        "Image frame comparison #"
       ]
      },
      {
       "output_type": "stream",
       "stream": "stdout",
       "text": [
        " 20 is finished being recorded\n",
        "Image frame comparison #"
       ]
      },
      {
       "output_type": "stream",
       "stream": "stdout",
       "text": [
        " 21 is finished being recorded\n",
        "Image frame comparison #"
       ]
      },
      {
       "output_type": "stream",
       "stream": "stdout",
       "text": [
        " 22 is finished being recorded\n",
        "Image frame comparison #"
       ]
      },
      {
       "output_type": "stream",
       "stream": "stdout",
       "text": [
        " 23 is finished being recorded\n",
        "Image frame comparison #"
       ]
      },
      {
       "output_type": "stream",
       "stream": "stdout",
       "text": [
        " 24 is finished being recorded\n",
        "Image frame comparison #"
       ]
      },
      {
       "output_type": "stream",
       "stream": "stdout",
       "text": [
        " 25 is finished being recorded\n",
        "Image frame comparison #"
       ]
      },
      {
       "output_type": "stream",
       "stream": "stdout",
       "text": [
        " 26 is finished being recorded\n",
        "Image frame comparison #"
       ]
      },
      {
       "output_type": "stream",
       "stream": "stdout",
       "text": [
        " 27 is finished being recorded\n",
        "Image frame comparison #"
       ]
      },
      {
       "output_type": "stream",
       "stream": "stdout",
       "text": [
        " 28 is finished being recorded\n",
        "Image frame comparison #"
       ]
      },
      {
       "output_type": "stream",
       "stream": "stdout",
       "text": [
        " 29 is finished being recorded\n",
        "Image frame comparison #"
       ]
      },
      {
       "output_type": "stream",
       "stream": "stdout",
       "text": [
        " 30 is finished being recorded\n",
        "Image frame comparison #"
       ]
      },
      {
       "output_type": "stream",
       "stream": "stdout",
       "text": [
        " 31 is finished being recorded\n",
        "Image frame comparison #"
       ]
      },
      {
       "output_type": "stream",
       "stream": "stdout",
       "text": [
        " 32 is finished being recorded\n",
        "Image frame comparison #"
       ]
      },
      {
       "output_type": "stream",
       "stream": "stdout",
       "text": [
        " 33 is finished being recorded\n",
        "Image frame comparison #"
       ]
      },
      {
       "output_type": "stream",
       "stream": "stdout",
       "text": [
        " 34 is finished being recorded\n",
        "Image frame comparison #"
       ]
      },
      {
       "output_type": "stream",
       "stream": "stdout",
       "text": [
        " 35 is finished being recorded\n",
        "Image frame comparison #"
       ]
      },
      {
       "output_type": "stream",
       "stream": "stdout",
       "text": [
        " 36 is finished being recorded\n",
        "Image frame comparison #"
       ]
      },
      {
       "output_type": "stream",
       "stream": "stdout",
       "text": [
        " 37 is finished being recorded\n",
        "Image frame comparison #"
       ]
      },
      {
       "output_type": "stream",
       "stream": "stdout",
       "text": [
        " 38 is finished being recorded\n",
        "Image frame comparison #"
       ]
      },
      {
       "output_type": "stream",
       "stream": "stdout",
       "text": [
        " 39 is finished being recorded\n",
        "Image frame comparison #"
       ]
      },
      {
       "output_type": "stream",
       "stream": "stdout",
       "text": [
        " 40 is finished being recorded\n",
        "Image frame comparison #"
       ]
      },
      {
       "output_type": "stream",
       "stream": "stdout",
       "text": [
        " 41 is finished being recorded\n",
        "Image frame comparison #"
       ]
      },
      {
       "output_type": "stream",
       "stream": "stdout",
       "text": [
        " 42 is finished being recorded\n",
        "Image frame comparison #"
       ]
      },
      {
       "output_type": "stream",
       "stream": "stdout",
       "text": [
        " 43 is finished being recorded\n",
        "Image frame comparison #"
       ]
      },
      {
       "output_type": "stream",
       "stream": "stdout",
       "text": [
        " 44 is finished being recorded\n",
        "Image frame comparison #"
       ]
      },
      {
       "output_type": "stream",
       "stream": "stdout",
       "text": [
        " 45 is finished being recorded\n",
        "Image frame comparison #"
       ]
      },
      {
       "output_type": "stream",
       "stream": "stdout",
       "text": [
        " 46 is finished being recorded\n",
        "Image frame comparison #"
       ]
      },
      {
       "output_type": "stream",
       "stream": "stdout",
       "text": [
        " 47 is finished being recorded\n",
        "Image frame comparison #"
       ]
      },
      {
       "output_type": "stream",
       "stream": "stdout",
       "text": [
        " 48 is finished being recorded\n",
        "Image frame comparison #"
       ]
      },
      {
       "output_type": "stream",
       "stream": "stdout",
       "text": [
        " 49 is finished being recorded\n",
        "Image frame comparison #"
       ]
      },
      {
       "output_type": "stream",
       "stream": "stdout",
       "text": [
        " 50 is finished being recorded\n",
        "Image frame comparison #"
       ]
      },
      {
       "output_type": "stream",
       "stream": "stdout",
       "text": [
        " 51 is finished being recorded\n",
        "Image frame comparison #"
       ]
      },
      {
       "output_type": "stream",
       "stream": "stdout",
       "text": [
        " 52 is finished being recorded\n",
        "Image frame comparison #"
       ]
      },
      {
       "output_type": "stream",
       "stream": "stdout",
       "text": [
        " 53 is finished being recorded\n",
        "Image frame comparison #"
       ]
      },
      {
       "output_type": "stream",
       "stream": "stdout",
       "text": [
        " 54 is finished being recorded\n",
        "Image frame comparison #"
       ]
      },
      {
       "output_type": "stream",
       "stream": "stdout",
       "text": [
        " 55 is finished being recorded\n",
        "Image frame comparison #"
       ]
      },
      {
       "output_type": "stream",
       "stream": "stdout",
       "text": [
        " 56 is finished being recorded\n",
        "Image frame comparison #"
       ]
      },
      {
       "output_type": "stream",
       "stream": "stdout",
       "text": [
        " 57 is finished being recorded\n",
        "Image frame comparison #"
       ]
      },
      {
       "output_type": "stream",
       "stream": "stdout",
       "text": [
        " 58 is finished being recorded\n",
        "Image frame comparison #"
       ]
      },
      {
       "output_type": "stream",
       "stream": "stdout",
       "text": [
        " 59 is finished being recorded\n",
        "Image frame comparison #"
       ]
      },
      {
       "output_type": "stream",
       "stream": "stdout",
       "text": [
        " 60 is finished being recorded\n",
        "Image frame comparison #"
       ]
      },
      {
       "output_type": "stream",
       "stream": "stdout",
       "text": [
        " 61 is finished being recorded\n",
        "Image frame comparison #"
       ]
      },
      {
       "output_type": "stream",
       "stream": "stdout",
       "text": [
        " 62 is finished being recorded\n",
        "Image frame comparison #"
       ]
      },
      {
       "output_type": "stream",
       "stream": "stdout",
       "text": [
        " 63 is finished being recorded\n",
        "Image frame comparison #"
       ]
      },
      {
       "output_type": "stream",
       "stream": "stdout",
       "text": [
        " 64 is finished being recorded\n",
        "Image frame comparison #"
       ]
      },
      {
       "output_type": "stream",
       "stream": "stdout",
       "text": [
        " 65 is finished being recorded\n",
        "Image frame comparison #"
       ]
      },
      {
       "output_type": "stream",
       "stream": "stdout",
       "text": [
        " 66 is finished being recorded\n",
        "Image frame comparison #"
       ]
      },
      {
       "output_type": "stream",
       "stream": "stdout",
       "text": [
        " 67 is finished being recorded\n",
        "Image frame comparison #"
       ]
      },
      {
       "output_type": "stream",
       "stream": "stdout",
       "text": [
        " 68 is finished being recorded\n",
        "Image frame comparison #"
       ]
      },
      {
       "output_type": "stream",
       "stream": "stdout",
       "text": [
        " 69 is finished being recorded\n",
        "Image frame comparison #"
       ]
      },
      {
       "output_type": "stream",
       "stream": "stdout",
       "text": [
        " 70 is finished being recorded\n",
        "Image frame comparison #"
       ]
      },
      {
       "output_type": "stream",
       "stream": "stdout",
       "text": [
        " 71 is finished being recorded\n",
        "Image frame comparison #"
       ]
      },
      {
       "output_type": "stream",
       "stream": "stdout",
       "text": [
        " 72 is finished being recorded\n",
        "Image frame comparison #"
       ]
      },
      {
       "output_type": "stream",
       "stream": "stdout",
       "text": [
        " 73 is finished being recorded\n",
        "Image frame comparison #"
       ]
      },
      {
       "output_type": "stream",
       "stream": "stdout",
       "text": [
        " 74 is finished being recorded\n",
        "Image frame comparison #"
       ]
      },
      {
       "output_type": "stream",
       "stream": "stdout",
       "text": [
        " 75 is finished being recorded\n",
        "Image frame comparison #"
       ]
      },
      {
       "output_type": "stream",
       "stream": "stdout",
       "text": [
        " 76 is finished being recorded\n",
        "Image frame comparison #"
       ]
      },
      {
       "output_type": "stream",
       "stream": "stdout",
       "text": [
        " 77 is finished being recorded\n",
        "Image frame comparison #"
       ]
      },
      {
       "output_type": "stream",
       "stream": "stdout",
       "text": [
        " 78 is finished being recorded\n",
        "Image frame comparison #"
       ]
      },
      {
       "output_type": "stream",
       "stream": "stdout",
       "text": [
        " 79 is finished being recorded\n",
        "Image frame comparison #"
       ]
      },
      {
       "output_type": "stream",
       "stream": "stdout",
       "text": [
        " 80 is finished being recorded\n",
        "Image frame comparison #"
       ]
      },
      {
       "output_type": "stream",
       "stream": "stdout",
       "text": [
        " 81 is finished being recorded\n",
        "Image frame comparison #"
       ]
      },
      {
       "output_type": "stream",
       "stream": "stdout",
       "text": [
        " 82 is finished being recorded\n",
        "Image frame comparison #"
       ]
      },
      {
       "output_type": "stream",
       "stream": "stdout",
       "text": [
        " 83 is finished being recorded\n",
        "Image frame comparison #"
       ]
      },
      {
       "output_type": "stream",
       "stream": "stdout",
       "text": [
        " 84 is finished being recorded\n",
        "Image frame comparison #"
       ]
      },
      {
       "output_type": "stream",
       "stream": "stdout",
       "text": [
        " 85 is finished being recorded\n",
        "Image frame comparison #"
       ]
      },
      {
       "output_type": "stream",
       "stream": "stdout",
       "text": [
        " 86 is finished being recorded\n",
        "Image frame comparison #"
       ]
      },
      {
       "output_type": "stream",
       "stream": "stdout",
       "text": [
        " 87 is finished being recorded\n",
        "Image frame comparison #"
       ]
      },
      {
       "output_type": "stream",
       "stream": "stdout",
       "text": [
        " 88 is finished being recorded\n",
        "Image frame comparison #"
       ]
      },
      {
       "output_type": "stream",
       "stream": "stdout",
       "text": [
        " 89 is finished being recorded\n",
        "Image frame comparison #"
       ]
      },
      {
       "output_type": "stream",
       "stream": "stdout",
       "text": [
        " 90 is finished being recorded\n",
        "Image frame comparison #"
       ]
      },
      {
       "output_type": "stream",
       "stream": "stdout",
       "text": [
        " 91 is finished being recorded\n",
        "Image frame comparison #"
       ]
      },
      {
       "output_type": "stream",
       "stream": "stdout",
       "text": [
        " 92 is finished being recorded\n",
        "Image frame comparison #"
       ]
      },
      {
       "output_type": "stream",
       "stream": "stdout",
       "text": [
        " 93 is finished being recorded\n",
        "Image frame comparison #"
       ]
      },
      {
       "output_type": "stream",
       "stream": "stdout",
       "text": [
        " 94 is finished being recorded\n",
        "Image frame comparison #"
       ]
      },
      {
       "output_type": "stream",
       "stream": "stdout",
       "text": [
        " 95 is finished being recorded\n",
        "Image frame comparison #"
       ]
      },
      {
       "output_type": "stream",
       "stream": "stdout",
       "text": [
        " 96 is finished being recorded\n",
        "Image frame comparison #"
       ]
      },
      {
       "output_type": "stream",
       "stream": "stdout",
       "text": [
        " 97 is finished being recorded\n",
        "Image frame comparison #"
       ]
      },
      {
       "output_type": "stream",
       "stream": "stdout",
       "text": [
        " 98 is finished being recorded\n",
        "Image frame comparison #"
       ]
      },
      {
       "output_type": "stream",
       "stream": "stdout",
       "text": [
        " 99 is finished being recorded\n",
        "Image frame comparison #"
       ]
      },
      {
       "output_type": "stream",
       "stream": "stdout",
       "text": [
        " 100 is finished being recorded\n",
        "Image frame comparison #"
       ]
      },
      {
       "output_type": "stream",
       "stream": "stdout",
       "text": [
        " 101 is finished being recorded\n",
        "Image frame comparison #"
       ]
      },
      {
       "output_type": "stream",
       "stream": "stdout",
       "text": [
        " 102 is finished being recorded\n",
        "Image frame comparison #"
       ]
      },
      {
       "output_type": "stream",
       "stream": "stdout",
       "text": [
        " 103 is finished being recorded\n",
        "Image frame comparison #"
       ]
      },
      {
       "output_type": "stream",
       "stream": "stdout",
       "text": [
        " 104 is finished being recorded\n",
        "Image frame comparison #"
       ]
      },
      {
       "output_type": "stream",
       "stream": "stdout",
       "text": [
        " 105 is finished being recorded\n",
        "Image frame comparison #"
       ]
      },
      {
       "output_type": "stream",
       "stream": "stdout",
       "text": [
        " 106 is finished being recorded\n",
        "Image frame comparison #"
       ]
      },
      {
       "output_type": "stream",
       "stream": "stdout",
       "text": [
        " 107 is finished being recorded\n",
        "Image frame comparison #"
       ]
      },
      {
       "output_type": "stream",
       "stream": "stdout",
       "text": [
        " 108 is finished being recorded\n",
        "Image frame comparison #"
       ]
      },
      {
       "output_type": "stream",
       "stream": "stdout",
       "text": [
        " 109 is finished being recorded\n",
        "Image frame comparison #"
       ]
      },
      {
       "output_type": "stream",
       "stream": "stdout",
       "text": [
        " 110 is finished being recorded\n",
        "Image frame comparison #"
       ]
      },
      {
       "output_type": "stream",
       "stream": "stdout",
       "text": [
        " 111 is finished being recorded\n",
        "Image frame comparison #"
       ]
      },
      {
       "output_type": "stream",
       "stream": "stdout",
       "text": [
        " 112 is finished being recorded\n",
        "Image frame comparison #"
       ]
      },
      {
       "output_type": "stream",
       "stream": "stdout",
       "text": [
        " 113 is finished being recorded\n",
        "Image frame comparison #"
       ]
      },
      {
       "output_type": "stream",
       "stream": "stdout",
       "text": [
        " 114 is finished being recorded\n",
        "Image frame comparison #"
       ]
      },
      {
       "output_type": "stream",
       "stream": "stdout",
       "text": [
        " 115 is finished being recorded\n",
        "Image frame comparison #"
       ]
      },
      {
       "output_type": "stream",
       "stream": "stdout",
       "text": [
        " 116 is finished being recorded\n",
        "Image frame comparison #"
       ]
      },
      {
       "output_type": "stream",
       "stream": "stdout",
       "text": [
        " 117 is finished being recorded\n",
        "Image frame comparison #"
       ]
      },
      {
       "output_type": "stream",
       "stream": "stdout",
       "text": [
        " 118 is finished being recorded\n",
        "Image frame comparison #"
       ]
      },
      {
       "output_type": "stream",
       "stream": "stdout",
       "text": [
        " 119 is finished being recorded\n",
        "Image frame comparison #"
       ]
      },
      {
       "output_type": "stream",
       "stream": "stdout",
       "text": [
        " 120 is finished being recorded\n",
        "Image frame comparison #"
       ]
      },
      {
       "output_type": "stream",
       "stream": "stdout",
       "text": [
        " 121 is finished being recorded\n",
        "Image frame comparison #"
       ]
      },
      {
       "output_type": "stream",
       "stream": "stdout",
       "text": [
        " 122 is finished being recorded\n",
        "Image frame comparison #"
       ]
      },
      {
       "output_type": "stream",
       "stream": "stdout",
       "text": [
        " 123 is finished being recorded\n",
        "Image frame comparison #"
       ]
      },
      {
       "output_type": "stream",
       "stream": "stdout",
       "text": [
        " 124 is finished being recorded\n",
        "Image frame comparison #"
       ]
      },
      {
       "output_type": "stream",
       "stream": "stdout",
       "text": [
        " 125 is finished being recorded\n",
        "Image frame comparison #"
       ]
      },
      {
       "output_type": "stream",
       "stream": "stdout",
       "text": [
        " 126 is finished being recorded\n",
        "Image frame comparison #"
       ]
      },
      {
       "output_type": "stream",
       "stream": "stdout",
       "text": [
        " 127 is finished being recorded\n",
        "Image frame comparison #"
       ]
      },
      {
       "output_type": "stream",
       "stream": "stdout",
       "text": [
        " 128 is finished being recorded\n",
        "Image frame comparison #"
       ]
      },
      {
       "output_type": "stream",
       "stream": "stdout",
       "text": [
        " 129 is finished being recorded\n",
        "Image frame comparison #"
       ]
      },
      {
       "output_type": "stream",
       "stream": "stdout",
       "text": [
        " 130 is finished being recorded\n",
        "Image frame comparison #"
       ]
      },
      {
       "output_type": "stream",
       "stream": "stdout",
       "text": [
        " 131 is finished being recorded\n",
        "Image frame comparison #"
       ]
      },
      {
       "output_type": "stream",
       "stream": "stdout",
       "text": [
        " 132 is finished being recorded\n",
        "Image frame comparison #"
       ]
      },
      {
       "output_type": "stream",
       "stream": "stdout",
       "text": [
        " 133 is finished being recorded\n",
        "Image frame comparison #"
       ]
      },
      {
       "output_type": "stream",
       "stream": "stdout",
       "text": [
        " 134 is finished being recorded\n",
        "Image frame comparison #"
       ]
      },
      {
       "output_type": "stream",
       "stream": "stdout",
       "text": [
        " 135 is finished being recorded\n",
        "Image frame comparison #"
       ]
      },
      {
       "output_type": "stream",
       "stream": "stdout",
       "text": [
        " 136 is finished being recorded\n",
        "Image frame comparison #"
       ]
      },
      {
       "output_type": "stream",
       "stream": "stdout",
       "text": [
        " 137 is finished being recorded\n",
        "Image frame comparison #"
       ]
      },
      {
       "output_type": "stream",
       "stream": "stdout",
       "text": [
        " 138 is finished being recorded\n",
        "Image frame comparison #"
       ]
      },
      {
       "output_type": "stream",
       "stream": "stdout",
       "text": [
        " 139 is finished being recorded\n",
        "Image frame comparison #"
       ]
      },
      {
       "output_type": "stream",
       "stream": "stdout",
       "text": [
        " 140 is finished being recorded\n",
        "Image frame comparison #"
       ]
      },
      {
       "output_type": "stream",
       "stream": "stdout",
       "text": [
        " 141 is finished being recorded\n",
        "Image frame comparison #"
       ]
      },
      {
       "output_type": "stream",
       "stream": "stdout",
       "text": [
        " 142 is finished being recorded\n",
        "Image frame comparison #"
       ]
      },
      {
       "output_type": "stream",
       "stream": "stdout",
       "text": [
        " 143 is finished being recorded\n",
        "Image frame comparison #"
       ]
      },
      {
       "output_type": "stream",
       "stream": "stdout",
       "text": [
        " 144 is finished being recorded\n",
        "Image frame comparison #"
       ]
      },
      {
       "output_type": "stream",
       "stream": "stdout",
       "text": [
        " 145 is finished being recorded\n",
        "Image frame comparison #"
       ]
      },
      {
       "output_type": "stream",
       "stream": "stdout",
       "text": [
        " 146 is finished being recorded\n",
        "Image frame comparison #"
       ]
      },
      {
       "output_type": "stream",
       "stream": "stdout",
       "text": [
        " 147 is finished being recorded\n",
        "Image frame comparison #"
       ]
      },
      {
       "output_type": "stream",
       "stream": "stdout",
       "text": [
        " 148 is finished being recorded\n",
        "Image frame comparison #"
       ]
      },
      {
       "output_type": "stream",
       "stream": "stdout",
       "text": [
        " 149 is finished being recorded\n",
        "Image frame comparison #"
       ]
      },
      {
       "output_type": "stream",
       "stream": "stdout",
       "text": [
        " 150 is finished being recorded\n",
        "Image frame comparison #"
       ]
      },
      {
       "output_type": "stream",
       "stream": "stdout",
       "text": [
        " 151 is finished being recorded\n",
        "Image frame comparison #"
       ]
      },
      {
       "output_type": "stream",
       "stream": "stdout",
       "text": [
        " 152 is finished being recorded\n",
        "Image frame comparison #"
       ]
      },
      {
       "output_type": "stream",
       "stream": "stdout",
       "text": [
        " 153 is finished being recorded\n",
        "Image frame comparison #"
       ]
      },
      {
       "output_type": "stream",
       "stream": "stdout",
       "text": [
        " 154 is finished being recorded\n",
        "Image frame comparison #"
       ]
      },
      {
       "output_type": "stream",
       "stream": "stdout",
       "text": [
        " 155 is finished being recorded\n",
        "Image frame comparison #"
       ]
      },
      {
       "output_type": "stream",
       "stream": "stdout",
       "text": [
        " 156 is finished being recorded\n",
        "Image frame comparison #"
       ]
      },
      {
       "output_type": "stream",
       "stream": "stdout",
       "text": [
        " 157 is finished being recorded\n",
        "Image frame comparison #"
       ]
      },
      {
       "output_type": "stream",
       "stream": "stdout",
       "text": [
        " 158 is finished being recorded\n",
        "Image frame comparison #"
       ]
      },
      {
       "output_type": "stream",
       "stream": "stdout",
       "text": [
        " 159 is finished being recorded\n",
        "Image frame comparison #"
       ]
      },
      {
       "output_type": "stream",
       "stream": "stdout",
       "text": [
        " 160 is finished being recorded\n",
        "Image frame comparison #"
       ]
      },
      {
       "output_type": "stream",
       "stream": "stdout",
       "text": [
        " 161 is finished being recorded\n",
        "Image frame comparison #"
       ]
      },
      {
       "output_type": "stream",
       "stream": "stdout",
       "text": [
        " 162 is finished being recorded\n",
        "Image frame comparison #"
       ]
      },
      {
       "output_type": "stream",
       "stream": "stdout",
       "text": [
        " 163 is finished being recorded\n",
        "Image frame comparison #"
       ]
      },
      {
       "output_type": "stream",
       "stream": "stdout",
       "text": [
        " 164 is finished being recorded\n",
        "Image frame comparison #"
       ]
      },
      {
       "output_type": "stream",
       "stream": "stdout",
       "text": [
        " 165 is finished being recorded\n",
        "Image frame comparison #"
       ]
      },
      {
       "output_type": "stream",
       "stream": "stdout",
       "text": [
        " 166 is finished being recorded\n",
        "Image frame comparison #"
       ]
      },
      {
       "output_type": "stream",
       "stream": "stdout",
       "text": [
        " 167 is finished being recorded\n",
        "Image frame comparison #"
       ]
      },
      {
       "output_type": "stream",
       "stream": "stdout",
       "text": [
        " 168 is finished being recorded\n",
        "Image frame comparison #"
       ]
      },
      {
       "output_type": "stream",
       "stream": "stdout",
       "text": [
        " 169 is finished being recorded\n",
        "Image frame comparison #"
       ]
      },
      {
       "output_type": "stream",
       "stream": "stdout",
       "text": [
        " 170 is finished being recorded\n",
        "Image frame comparison #"
       ]
      },
      {
       "output_type": "stream",
       "stream": "stdout",
       "text": [
        " 171 is finished being recorded\n",
        "Image frame comparison #"
       ]
      },
      {
       "output_type": "stream",
       "stream": "stdout",
       "text": [
        " 172 is finished being recorded\n",
        "Image frame comparison #"
       ]
      },
      {
       "output_type": "stream",
       "stream": "stdout",
       "text": [
        " 173 is finished being recorded\n",
        "Image frame comparison #"
       ]
      },
      {
       "output_type": "stream",
       "stream": "stdout",
       "text": [
        " 174 is finished being recorded\n",
        "Image frame comparison #"
       ]
      },
      {
       "output_type": "stream",
       "stream": "stdout",
       "text": [
        " 175 is finished being recorded\n",
        "Image frame comparison #"
       ]
      },
      {
       "output_type": "stream",
       "stream": "stdout",
       "text": [
        " 176 is finished being recorded\n",
        "Image frame comparison #"
       ]
      },
      {
       "output_type": "stream",
       "stream": "stdout",
       "text": [
        " 177 is finished being recorded\n",
        "Image frame comparison #"
       ]
      },
      {
       "output_type": "stream",
       "stream": "stdout",
       "text": [
        " 178 is finished being recorded\n",
        "Image frame comparison #"
       ]
      },
      {
       "output_type": "stream",
       "stream": "stdout",
       "text": [
        " 179 is finished being recorded\n",
        "Image frame comparison #"
       ]
      },
      {
       "output_type": "stream",
       "stream": "stdout",
       "text": [
        " 180 is finished being recorded\n",
        "Image frame comparison #"
       ]
      },
      {
       "output_type": "stream",
       "stream": "stdout",
       "text": [
        " 181 is finished being recorded\n",
        "Image frame comparison #"
       ]
      },
      {
       "output_type": "stream",
       "stream": "stdout",
       "text": [
        " 182 is finished being recorded\n",
        "Image frame comparison #"
       ]
      },
      {
       "output_type": "stream",
       "stream": "stdout",
       "text": [
        " 183 is finished being recorded\n",
        "Image frame comparison #"
       ]
      },
      {
       "output_type": "stream",
       "stream": "stdout",
       "text": [
        " 184 is finished being recorded\n",
        "Image frame comparison #"
       ]
      },
      {
       "output_type": "stream",
       "stream": "stdout",
       "text": [
        " 185 is finished being recorded\n",
        "Image frame comparison #"
       ]
      },
      {
       "output_type": "stream",
       "stream": "stdout",
       "text": [
        " 186 is finished being recorded\n",
        "Image frame comparison #"
       ]
      },
      {
       "output_type": "stream",
       "stream": "stdout",
       "text": [
        " 187 is finished being recorded\n",
        "Image frame comparison #"
       ]
      },
      {
       "output_type": "stream",
       "stream": "stdout",
       "text": [
        " 188 is finished being recorded\n",
        "Image frame comparison #"
       ]
      },
      {
       "output_type": "stream",
       "stream": "stdout",
       "text": [
        " 189 is finished being recorded\n",
        "Image frame comparison #"
       ]
      },
      {
       "output_type": "stream",
       "stream": "stdout",
       "text": [
        " 190 is finished being recorded\n",
        "Image frame comparison #"
       ]
      },
      {
       "output_type": "stream",
       "stream": "stdout",
       "text": [
        " 191 is finished being recorded\n",
        "Image frame comparison #"
       ]
      },
      {
       "output_type": "stream",
       "stream": "stdout",
       "text": [
        " 192 is finished being recorded\n",
        "Image frame comparison #"
       ]
      },
      {
       "output_type": "stream",
       "stream": "stdout",
       "text": [
        " 193 is finished being recorded\n",
        "Image frame comparison #"
       ]
      },
      {
       "output_type": "stream",
       "stream": "stdout",
       "text": [
        " 194 is finished being recorded\n",
        "Image frame comparison #"
       ]
      },
      {
       "output_type": "stream",
       "stream": "stdout",
       "text": [
        " 195 is finished being recorded\n",
        "Image frame comparison #"
       ]
      },
      {
       "output_type": "stream",
       "stream": "stdout",
       "text": [
        " 196 is finished being recorded\n",
        "Image frame comparison #"
       ]
      },
      {
       "output_type": "stream",
       "stream": "stdout",
       "text": [
        " 197 is finished being recorded\n",
        "Image frame comparison #"
       ]
      },
      {
       "output_type": "stream",
       "stream": "stdout",
       "text": [
        " 198 is finished being recorded\n",
        "All Displacement Comparisons have finished\n"
       ]
      }
     ],
     "prompt_number": 5
    },
    {
     "cell_type": "code",
     "collapsed": false,
     "input": [],
     "language": "python",
     "metadata": {},
     "outputs": []
    }
   ],
   "metadata": {}
  }
 ]
}