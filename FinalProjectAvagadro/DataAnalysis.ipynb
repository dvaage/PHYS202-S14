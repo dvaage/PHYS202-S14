{
 "metadata": {
  "name": "",
  "signature": "sha256:910fc0514d97237a01d4308855f20a0b2fe255b00323b7b7a7f598bfb9526b98"
 },
 "nbformat": 3,
 "nbformat_minor": 0,
 "worksheets": [
  {
   "cells": [
    {
     "cell_type": "heading",
     "level": 1,
     "metadata": {},
     "source": [
      "Data analysis."
     ]
    },
    {
     "cell_type": "code",
     "collapsed": false,
     "input": [
      "%pylab inline"
     ],
     "language": "python",
     "metadata": {},
     "outputs": [
      {
       "output_type": "stream",
       "stream": "stdout",
       "text": [
        "Populating the interactive namespace from numpy and matplotlib\n"
       ]
      }
     ],
     "prompt_number": 3
    },
    {
     "cell_type": "markdown",
     "metadata": {},
     "source": [
      "Einstein's theory of Brownian motion connects microscopic properties (e.g., radius, diffusivity) of the beads to macroscopic properties (e.g., temperature, viscosity) of the fluid in which the beads are immersed. This amazing theory enables us to estimate Avogadro's number with an ordinary microscope by observing the collective effect of millions of water molecules on the beads.\n",
      "\n",
      "Estimating the self-diffusion constant.\n",
      "\n",
      "The self-diffusion constant D characterizes the stochastic movement of a molecule (bead) through a homogeneous medium (the water molecules) as a result of random thermal energy. The Einstein-Smoluchowski equation states that the random displacement of a bead in one dimension has a Gaussian distribution with mean zero and variance \u03c32=2D\u0394t, where \u0394t is the time interval between position measurements. That is, a molecule's mean displacement is zero and its mean square displacement is proportional to the elapsed time between measurements, with the constant of proportionality 2D. We estimate \u03c32 by computing the variance of all observed bead displacements in the x and y directions. Let (\u0394x1, \u0394x2), ..., (\u0394xn, \u0394yn) be the n bead displacements, and let r1, ..., rn denote the radial displacements. Then\n",
      "\u27e8\u03c32\u27e9=(\u0394x21+...+\u0394x2n)+(\u0394y21+...+\u0394y2n)2n=r21+...r2n2n\n",
      "\n",
      "For the test data, \u0394t = 0.5 so this is an estimate for D as well. The radial displacements ri are measured in pixels: to convert to meters, multiply by 0.175$10^{-6}$ (meters per pixel).\n",
      "Estimating the Boltzmann constant.\n",
      "\n",
      "The Stokes-Einstein relation asserts that the self-diffusion constant of a spherical particle immersed in a fluid is given by\n",
      "\n",
      "D=kT6\u03c0\u03b7\u03c1\n",
      "\n",
      "where, for the test data,\n",
      "\n",
      "T = absolute temperature = 297 degrees Kelvin (room temperature)\n",
      "\n",
      "\u03b7 = viscosity of water = 9.135$10^{-4}$ N*s/m2 (at room temperature)\n",
      "\n",
      "\u03c1 = radius of bead = 0.5$10^{-6}$ meters\n",
      "\n",
      "\n",
      "and k is the Boltzmann constant. All parameters are given in SI units. The Boltzmann constant is a fundamental physical constant that relates the average kinetic energy of a molecule to its temperature. We estimate k by measuring all of the parameters in the Stokes-Einstein equation, and solving for k.\n",
      "Estimating Avogadro's number.\n",
      "\n",
      "Avogadro's number NA is defined to be the number of particles in a mole. By definition, k=R/NA, where the universal gas constant R is approximately 8.31457 J/K\u22c5mol. Use R/k as an estimate of Avogadro's number.\n",
      "\n",
      "Write a function that reads in the displacements from the data file and computes an estimate of Boltzmann's constant and Avogadro's number using the formulas described above.\n",
      "Output formats. Use four digits to the right of the decimal place for all of your floating point outputs whether they are in floating point format or exponential format."
     ]
    },
    {
     "cell_type": "code",
     "collapsed": false,
     "input": [
      "## Following the problem \"Write a function that reads in the displacements from the data file and computes an estimate of \n",
      "## Boltzmann's constant and Avogadro's number using the formulas described above. \n",
      "## Output formats. Use four digits to the right of the decimal \n",
      "## place for all of your floating point outputs whether they are in floating point format or exponential format.\n",
      "def DataAnalysis(ANRun):\n",
      "    \"\"\" This function reads in the displacements from a given data file,\n",
      "    computes the average displacement of the data file, computes an estimate \n",
      "    of Boltzmann's constant and Avagadro's Number and finally prints out the results\"\"\"\n",
      "    #Average Displacement computation\n",
      "    def Displacement(ANRun):\n",
      "        avgdisplacements = np.loadtxt(ANRun)\n",
      "        avgdisplacements *= 0.175 * (10**-6) \n",
      "        return (avgdisplacements ** 2).sum() / (2*avgdisplacements.size)\n",
      "    #Boltzmann's Constant computation\n",
      "    def Boltzmann(ANRun):\n",
      "        eta = 9.135 * (10**-4) \n",
      "        radius = .5 * (10**-6) \n",
      "        Temp = 297 \n",
      "        return 6*np.pi*eta*radius*Displacement(ANRun) / Temp\n",
      "    #Avogadro's Constant Computation\n",
      "    def Avogadro(ANRun):\n",
      "        R = 8.31457 \n",
      "        k = Boltzmann(ANRun)\n",
      "        return R/k\n",
      "    #Printing out everything\n",
      "    print 'The average displacement of the data file is:'\n",
      "    x = Displacement('ANRun4Data.dat')\n",
      "    #\"{0:.4e}\" is how you format the result to 4 decimal points in\n",
      "    # an exponential format\n",
      "    print \"{0:.4e}\".format(x)\n",
      "    print 'Meters per Pixel'\n",
      "    print\n",
      "    print 'The estimated Avogadros number of the data file is:'\n",
      "    y = Avogadro('ANRun4Data.dat')\n",
      "    print \"{0:.4e}\".format(y)\n",
      "    print 'Molecules per Mole'\n",
      "    print\n",
      "    print 'The estimated Boltzmann constant of the data file is:'\n",
      "    z = Boltzmann('ANRun4Data.dat')\n",
      "    print \"{0:.4e}\".format(z)\n",
      "    print 'Joules per Kelvin'"
     ],
     "language": "python",
     "metadata": {},
     "outputs": [],
     "prompt_number": 4
    },
    {
     "cell_type": "code",
     "collapsed": false,
     "input": [
      "DataAnalysis('ANRun4Data.dat')"
     ],
     "language": "python",
     "metadata": {},
     "outputs": [
      {
       "output_type": "stream",
       "stream": "stdout",
       "text": [
        "The average displacement of the data file is:\n",
        "4.4830e-13\n",
        "Meters per Pixel\n",
        "\n",
        "The estimated Avogadros number of the data file is:\n",
        "6.3981e+23\n",
        "Molecules per Mole\n",
        "\n",
        "The estimated Boltzmann constant of the data file is:\n",
        "1.2995e-23\n",
        "Joules per Kelvin\n"
       ]
      }
     ],
     "prompt_number": 10
    },
    {
     "cell_type": "code",
     "collapsed": false,
     "input": [],
     "language": "python",
     "metadata": {},
     "outputs": [],
     "prompt_number": 7
    }
   ],
   "metadata": {}
  }
 ]
}