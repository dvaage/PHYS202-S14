{
 "metadata": {
  "name": "",
  "signature": "sha256:e92d179fac1a39424472cb0edc4a4f0a8021dbc2c47855a5f9657286a85c7810"
 },
 "nbformat": 3,
 "nbformat_minor": 0,
 "worksheets": [
  {
   "cells": [
    {
     "cell_type": "heading",
     "level": 1,
     "metadata": {},
     "source": [
      "Data Analysis"
     ]
    },
    {
     "cell_type": "code",
     "collapsed": false,
     "input": [
      "%pylab inline"
     ],
     "language": "python",
     "metadata": {},
     "outputs": [
      {
       "output_type": "stream",
       "stream": "stdout",
       "text": [
        "Populating the interactive namespace from numpy and matplotlib\n"
       ]
      }
     ],
     "prompt_number": 1
    },
    {
     "cell_type": "markdown",
     "metadata": {},
     "source": [
      "Einstein's theory of Brownian motion connects microscopic properties (e.g., radius, diffusivity) of the beads to macroscopic properties (e.g., temperature, viscosity) of the fluid in which the beads are immersed. This amazing theory enables us to estimate Avogadro's number with an ordinary microscope by observing the collective effect of millions of water molecules on the beads.\n",
      "Estimating the self-diffusion constant.\n",
      "\n",
      "\n",
      "The self-diffusion constant D characterizes the stochastic movement of a molecule (bead) through a homogeneous medium (the water molecules) as a result of random thermal energy. The Einstein-Smoluchowski equation states that the random displacement of a bead in one dimension has a Gaussian distribution with mean zero and variance \u03c32=2D\u0394t, where \u0394t is the time interval between position measurements. That is, a molecule's mean displacement is zero and its mean square displacement is proportional to the elapsed time between measurements, with the constant of proportionality 2D. We estimate \u03c32 by computing the variance of all observed bead displacements in the x and y directions. Let (\u0394x1, \u0394x2), ..., (\u0394xn, \u0394yn) be the n bead displacements, and let r1, ..., rn denote the radial displacements. \n",
      "\n",
      "Then\n",
      "\n",
      "\n",
      "\u27e8\u03c32\u27e9=(\u0394x21+...+\u0394x2n)+(\u0394y21+...+\u0394y2n)2n=r21+...r2n2n\n",
      "\n",
      "\n",
      "For the test data, \u0394t = 0.5 so this is an estimate for D as well. The radial displacements ri are measured in pixels: to convert to meters, multiply by 0.175$10^{-6}$ (meters per pixel).\n",
      "\n",
      "\n",
      "Estimating the Boltzmann constant.\n",
      "\n",
      "\n",
      "The Stokes-Einstein relation asserts that the self-diffusion constant of a spherical particle immersed in a fluid is given by\n",
      "D=kT6\u03c0\u03b7\u03c1\n",
      "\n",
      "\n",
      "where, for the test data,\n",
      "\n",
      "\n",
      "T = absolute temperature = 297 degrees Kelvin (room temperature)\n",
      "\n",
      "\u03b7 = viscosity of water = 9.135$10^{-4}$ N*s/m2 (at room temperature)\n",
      "\n",
      "\u03c1 = radius of bead = 0.5$10^{-6}$ meters\n",
      "\n",
      "and k is the Boltzmann constant. All parameters are given in SI units. The Boltzmann constant is a fundamental physical constant that relates the average kinetic energy of a molecule to its temperature. We estimate k by measuring all of the parameters in the Stokes-Einstein equation, and solving for k.\n",
      "\n",
      "\n",
      "\n",
      "Estimating Avogadro's number.\n",
      "\n",
      "\n",
      "Avogadro's number NA is defined to be the number of particles in a mole. By definition, k=R/NA, where the universal gas constant R is approximately 8.31457 J/K\u22c5mol. Use R/k as an estimate of Avogadro's number.\n",
      "Write a function that reads in the displacements from the data file and computes an estimate of Boltzmann's constant and Avogadro's number using the formulas described above.\n",
      "\n",
      "\n",
      "Output formats. Use four digits to the right of the decimal place for all of your floating point outputs whether they are in floating point format or exponential format."
     ]
    },
    {
     "cell_type": "code",
     "collapsed": false,
     "input": [],
     "language": "python",
     "metadata": {},
     "outputs": []
    }
   ],
   "metadata": {}
  }
 ]
}