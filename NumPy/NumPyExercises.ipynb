{
 "metadata": {
  "name": "",
  "signature": "sha256:d2464652224cbcd277282a3b4580119aa02ef1566774da13f16bac187a40b557"
 },
 "nbformat": 3,
 "nbformat_minor": 0,
 "worksheets": [
  {
   "cells": [
    {
     "cell_type": "heading",
     "level": 1,
     "metadata": {},
     "source": [
      "NumPy Exercises"
     ]
    },
    {
     "cell_type": "code",
     "collapsed": false,
     "input": [
      "%pylab inline\n",
      "import numpy as np"
     ],
     "language": "python",
     "metadata": {},
     "outputs": [
      {
       "output_type": "stream",
       "stream": "stdout",
       "text": [
        "Populating the interactive namespace from numpy and matplotlib\n"
       ]
      }
     ],
     "prompt_number": 1
    },
    {
     "cell_type": "markdown",
     "metadata": {},
     "source": [
      "1. Create the following arrays with correct data types:\n",
      "[[1, 1, 1, 1],\n",
      " [1, 1, 1, 1],\n",
      " [1, 1, 1, 2],\n",
      " [1, 6, 1, 1]]\n",
      " \n",
      "[[0., 0., 0., 0., 0.],\n",
      " [2., 0., 0., 0., 0.],\n",
      " [0., 3., 0., 0., 0.],\n",
      " [0., 0., 4., 0., 0.],\n",
      " [0., 0., 0., 5., 0.],\n",
      " [0., 0., 0., 0., 6.]]\n",
      " \n",
      "You should be able to accomplish this in 3 lines of code or less for each one. The documentation for the diag method may be helpful."
     ]
    },
    {
     "cell_type": "code",
     "collapsed": false,
     "input": [
      "#answer (12 total)"
     ],
     "language": "python",
     "metadata": {},
     "outputs": []
    },
    {
     "cell_type": "markdown",
     "metadata": {},
     "source": [
      "2. Read the documentation for np.tile and use this function to construct the following array:\n",
      "\n",
      "[[4, 3, 4, 3, 4, 3],\n",
      " [2, 1, 2, 1, 2, 1],\n",
      " [4, 3, 4, 3, 4, 3],\n",
      " [2, 1, 2, 1, 2, 1]]"
     ]
    },
    {
     "cell_type": "code",
     "collapsed": false,
     "input": [
      "#answer"
     ],
     "language": "python",
     "metadata": {},
     "outputs": []
    },
    {
     "cell_type": "markdown",
     "metadata": {},
     "source": [
      "3. Let\u2019s create a prime number sieve. We will use the sieve to see what numbers between 0 and 100 are prime.\n",
      "\n",
      "(a) First, construct an array of booleans called is prime with shape (100,), filled with True in all the elements.\n",
      "\n",
      "is_prime = np.ones((100,), dtype=bool)"
     ]
    },
    {
     "cell_type": "code",
     "collapsed": false,
     "input": [
      "#answer"
     ],
     "language": "python",
     "metadata": {},
     "outputs": []
    },
    {
     "cell_type": "markdown",
     "metadata": {},
     "source": [
      "(b) The index of each boolean element represents the number. \u201cCross out\u201d 0 and 1, which are not primes. You can either set them to False or 0 (which python recognizes as equivalent to False for boolean types)."
     ]
    },
    {
     "cell_type": "code",
     "collapsed": false,
     "input": [
      "#answer"
     ],
     "language": "python",
     "metadata": {},
     "outputs": []
    },
    {
     "cell_type": "markdown",
     "metadata": {},
     "source": [
      "\n",
      "(c) For each subsequent integer j starting from 2, cross out its higher multiples:\n",
      "\n",
      "N_max = int(np.sqrt(len(is_prime)))\n",
      "for j in range(2, N_max):\n",
      "    is_prime[2*j::j] = False\n",
      " "
     ]
    },
    {
     "cell_type": "code",
     "collapsed": false,
     "input": [
      "#answer"
     ],
     "language": "python",
     "metadata": {},
     "outputs": []
    },
    {
     "cell_type": "markdown",
     "metadata": {},
     "source": [
      "(d) Look up the documentation for np.nonzero (try help(np.nonzero) or np.nonzero?) and use it to print the prime numbers."
     ]
    },
    {
     "cell_type": "code",
     "collapsed": false,
     "input": [
      "#answer"
     ],
     "language": "python",
     "metadata": {},
     "outputs": []
    },
    {
     "cell_type": "markdown",
     "metadata": {},
     "source": [
      "(e) Finally, create a new function, called eratosthenes_sieve() that takes one argument, maximum, the maximum number to test for primes, and returns an array containing the prime numbers between 2 and maximum. Use the sieve algorithm developed by Eratosthenes and described on wikipedia. Print the result for the test cases where maximum = 10 and 100. (Prime numbers and prime factorization are common topics in the Project Euler exercises.)"
     ]
    },
    {
     "cell_type": "code",
     "collapsed": false,
     "input": [
      "#answer"
     ],
     "language": "python",
     "metadata": {},
     "outputs": []
    },
    {
     "cell_type": "markdown",
     "metadata": {},
     "source": [
      "4. Let\u2019s do some manipulations on NumPy arrays by starting with a stock image provided in SciPy. It turns out that digital images are just arrays of numbers representing the relative intensity (for B/W images) or RGB values (for color images) of the pixels in the image, similar to ipythonblocks. We can use the array operations we have learned to do digital image processing!\n",
      "\n",
      "(a) Import the SciPy stock image into an array (since it is coming from SciPy, it is a NumPy array):\n",
      "\n",
      "    from scipy import misc\n",
      "    lena = misc.lena()"
     ]
    },
    {
     "cell_type": "code",
     "collapsed": false,
     "input": [
      "#answer"
     ],
     "language": "python",
     "metadata": {},
     "outputs": []
    },
    {
     "cell_type": "markdown",
     "metadata": {},
     "source": [
      "(b) Try viewing the image in both false color and grayscale:\n",
      "    imshow(lena)\n",
      "    imshow(lena, cmap=cm.gray)"
     ]
    },
    {
     "cell_type": "code",
     "collapsed": false,
     "input": [
      "#answer"
     ],
     "language": "python",
     "metadata": {},
     "outputs": []
    },
    {
     "cell_type": "markdown",
     "metadata": {},
     "source": [
      "(c) Let\u2019s crop the image by removing 30 pixels on all sides:\n",
      "    crop_lena = lena[30:-30,30:-30]\n",
      "    imshow(crop_lena)"
     ]
    },
    {
     "cell_type": "code",
     "collapsed": false,
     "input": [
      "#answer"
     ],
     "language": "python",
     "metadata": {},
     "outputs": []
    },
    {
     "cell_type": "markdown",
     "metadata": {},
     "source": [
      "(d) Next, let\u2019s make a frame by blacking out all pixels except those in a circle centered on the face. We can do this with a mask. The equation for a circle is just x2+y2=R2. If we want it centered on the middle of the image at (256,256) we can create a mask with\n",
      "\n",
      "    y, x = np.ogrid[0:512,0:512]\n",
      "    centerx, centery = (256, 256)\n",
      "    mask = ((y - centery)**2 + (x - centerx)**2) > 230**2\n",
      "    \n",
      "To black out the desired pixels, we just set them equal to 0 or False:\n",
      "\n",
      "    lena[mask] = 0\n",
      "    imshow(lena)"
     ]
    },
    {
     "cell_type": "code",
     "collapsed": false,
     "input": [
      "#answer"
     ],
     "language": "python",
     "metadata": {},
     "outputs": []
    },
    {
     "cell_type": "markdown",
     "metadata": {},
     "source": [
      "(e) Create a new frame for the image that is an ellipse (long axis on the vertical) centered on the face."
     ]
    },
    {
     "cell_type": "code",
     "collapsed": false,
     "input": [
      "#answer"
     ],
     "language": "python",
     "metadata": {},
     "outputs": []
    }
   ],
   "metadata": {}
  }
 ]
}