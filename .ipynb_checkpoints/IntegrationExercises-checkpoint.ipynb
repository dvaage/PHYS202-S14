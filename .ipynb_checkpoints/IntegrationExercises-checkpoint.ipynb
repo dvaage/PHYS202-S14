{
 "metadata": {
  "name": "",
  "signature": "sha256:92e1caa854fe0920149052355e5f41d892c7d985d7d03cbdb872950b092d9a21"
 },
 "nbformat": 3,
 "nbformat_minor": 0,
 "worksheets": [
  {
   "cells": [
    {
     "cell_type": "heading",
     "level": 1,
     "metadata": {},
     "source": [
      "Integration Exercises"
     ]
    },
    {
     "cell_type": "code",
     "collapsed": false,
     "input": [
      "%pylab inline\n",
      "import numpy as np\n",
      "import matplotlib.pyplot as plt\n",
      "import scipy.integrate as integrate\n",
      "from scipy.integrate import dblquad\n",
      "from scipy.integrate import tplquad"
     ],
     "language": "python",
     "metadata": {},
     "outputs": [
      {
       "output_type": "stream",
       "stream": "stdout",
       "text": [
        "Populating the interactive namespace from numpy and matplotlib\n"
       ]
      }
     ],
     "prompt_number": 2
    },
    {
     "cell_type": "markdown",
     "metadata": {},
     "source": [
      "Question 1\n",
      "\n",
      "(a) Write two functions trapz(func,x) and simps(func,x) to compute the integral of the function func over the variable x using the trapezoidal rule and Simpson's rule to a file called Integrators.py. Do not use the scipy.integrate built-in functions. Include docstrings with each function that describe what they do. Then import the module and use the functions to answer the following questions."
     ]
    },
    {
     "cell_type": "code",
     "collapsed": false,
     "input": [
      "%%file Integrators.py\n",
      "import numpy as np\n",
      "def trapz(func,a,b,N):\n",
      "    \"Estimates the integral using trapezoidal approximation\"\n",
      "    h = (b-a)/N\n",
      "    k = np.arange(1,N)\n",
      "    I = h*(0.5*func(a) + 0.5*func(b) +func(a+k*h).sum())\n",
      "    return I\n",
      "    print \"Tapezoidal Rule Integral= \", I\n",
      "def simps(func,a,b,N):\n",
      "    \"Estimates the integral using Simpson's rule\"\n",
      "    h = (b-a)/N\n",
      "    k1 = np.arange(1,N/2+1)\n",
      "    k2 = np.arange(1,N/2)\n",
      "    I = (1./3.)*h*(func(a)+func(b)+ 4.*func(a+(2*k1-1)*h).sum() +2.*func(a+2*k2*h).sum())\n",
      "    return I\n",
      "    print \"Simpson's rule integral= \""
     ],
     "language": "python",
     "metadata": {},
     "outputs": [
      {
       "output_type": "stream",
       "stream": "stdout",
       "text": [
        "Overwriting Integrators.py\n"
       ]
      }
     ],
     "prompt_number": 12
    },
    {
     "cell_type": "code",
     "collapsed": false,
     "input": [
      "import Integrators as myint"
     ],
     "language": "python",
     "metadata": {},
     "outputs": [],
     "prompt_number": 13
    },
    {
     "cell_type": "markdown",
     "metadata": {},
     "source": [
      "(b) Use your trapz and simps functions from part (a) to calculate the integral of x4\u22122x+1 from x = 0 to x = 2 with N = 10, N = 100, and N = 1000. Then compare your result to the known correct value of 4.4. What is the percent error in each case?"
     ]
    },
    {
     "cell_type": "code",
     "collapsed": false,
     "input": [
      "func = lambda x: x**4 -2*x +1\n",
      "print \"N = 10\"\n",
      "t = myint.trapz(func,0.,2.,10.)\n",
      "s = myint.simps(func,0.,2.,10.)\n",
      "err1 = abs(t - 4.4)/4.4*100\n",
      "err2 = abs(s - 4.4)/4.4*100\n",
      "print \"Trapz =\", t\n",
      "print \"Simps =\", s\n",
      "print \"Trapz Percent Error =\" , err1\n",
      "print \"Simps Percent Error =\", err2\n",
      "print \"N = 100\"\n",
      "t = myint.trapz(func,0.,2.,100.)\n",
      "s = myint.simps(func,0.,2.,100.)\n",
      "err1 = abs(t - 4.4)/4.4*100\n",
      "err2 = abs(s - 4.4)/4.4*100\n",
      "print \"Trapz =\", t\n",
      "print \"Simps =\", s\n",
      "print \"Trapz Percent Error = \" , err1\n",
      "print \"Simps Percent Error = \", err2\n",
      "print \"N = 1000\"\n",
      "t = myint.trapz(func,0.,2.,1000.)\n",
      "s = myint.simps(func,0.,2.,1000.)\n",
      "err1 = abs(t - 4.4)/4.4*100\n",
      "err2 = abs(s - 4.4)/4.4*100\n",
      "print \"Trapz =\", t\n",
      "print \"Simps =\", s\n",
      "print \"Trapz Percent Error = \" , err1\n",
      "print \"Simps Percent Error = \", err2"
     ],
     "language": "python",
     "metadata": {},
     "outputs": [
      {
       "output_type": "stream",
       "stream": "stdout",
       "text": [
        "N = 10\n",
        "Trapz = 4.50656\n",
        "Simps = 4.40042666667\n",
        "Trapz Percent Error = 2.42181818182\n",
        "Simps Percent Error = 0.00969696969697\n",
        "N = 100\n",
        "Trapz = 4.401066656\n",
        "Simps = 4.40000004267\n",
        "Trapz Percent Error =  0.0242421818182\n",
        "Simps Percent Error =  9.69696969187e-07\n",
        "N = 1000\n",
        "Trapz = 4.40001066667\n",
        "Simps = 4.4\n",
        "Trapz Percent Error =  0.000242424218175\n",
        "Simps Percent Error =  9.69729347327e-11\n"
       ]
      }
     ],
     "prompt_number": 14
    },
    {
     "cell_type": "markdown",
     "metadata": {},
     "source": [
      "Question 2\n",
      "\n",
      "Consider the integral\n",
      "\n",
      "E(x)=\u222bx0e\u2212t2dt\n",
      "\n",
      "This is the error function, commonly seen in probability and statistics. There is no known way to perform this particular integral analytically, although the integrand can be expanded in a Taylor series and terms computed to arbitrary order. For most applications, numerical approaches are the only way forward.\n",
      "\n",
      "(a) Use scipy.integrate.cumtrapz to calculate E(x) for values of x from 0 to 3 in steps of 0.1. Print the result."
     ]
    },
    {
     "cell_type": "code",
     "collapsed": false,
     "input": [
      "import scipy.integrate as integrate\n",
      "t = np.linspace(0, 3, 3/.1)\n",
      "y = np.e**(-t**2)\n",
      "y_int = integrate.cumtrapz(y, t, initial=0)\n",
      "print y_int\n",
      "plt.plot(t, y_int)"
     ],
     "language": "python",
     "metadata": {},
     "outputs": [
      {
       "output_type": "stream",
       "stream": "stdout",
       "text": [
        "[ 0.          0.1028977   0.203628    0.30015952  0.39071871  0.47388559\n",
        "  0.54865477  0.61445829  0.67115136  0.71896644  0.75844433  0.79035214\n",
        "  0.81559822  0.83515262  0.84997946  0.86098488  0.8689817   0.87466999\n",
        "  0.87863094  0.88133097  0.88313271  0.88430968  0.88506233  0.88553349\n",
        "  0.88582223  0.88599545  0.88609717  0.88615565  0.88618856  0.88620669]\n"
       ]
      },
      {
       "metadata": {},
       "output_type": "pyout",
       "prompt_number": 18,
       "text": [
        "[<matplotlib.lines.Line2D at 0x10629af90>]"
       ]
      },
      {
       "metadata": {},
       "output_type": "display_data",
       "png": "[encoded data removed]",
       "text": [
        "<matplotlib.figure.Figure at 0x1060822d0>"
       ]
      }
     ],
     "prompt_number": 18
    },
    {
     "cell_type": "markdown",
     "metadata": {},
     "source": [
      "(b) Plot the integrand as a function of t and E(x) as a function of x (both ranging from 0 to 3) on the same graph."
     ]
    },
    {
     "cell_type": "code",
     "collapsed": false,
     "input": [
      "plt.plot(t,y)\n",
      "plt.plot(t,y_int)\n",
      "plt.show()"
     ],
     "language": "python",
     "metadata": {},
     "outputs": [
      {
       "metadata": {},
       "output_type": "display_data",
       "png": "[encoded data removed]",
       "text": [
        "<matplotlib.figure.Figure at 0x10668c650>"
       ]
      }
     ],
     "prompt_number": 20
    },
    {
     "cell_type": "markdown",
     "metadata": {},
     "source": [
      "Question 3\n",
      "\n",
      "Consider a particle in a one-dimensional box of width L. The probability of finding the particle between a and b is given by\n",
      "\n",
      "P(a,b)=\u222bba|\u03c8(x)|2dx\n",
      "\n",
      "where\n",
      "\n",
      "\u03c8(x)=2L\u203e\u203e\u221asin(n\u03c0xL)\n",
      "\n",
      "is the wavefunction.\n",
      "\n",
      "(a) What is the probability of finding the particle between L/3 and L/2 for the ground state (n = 1) and for the first excited state (n = 2)? Let L = 1. Perform the integral using both scipy.integrate.trapz and scipy.integrate.quad with an accuracy of 6 sig figs. How many slices did you need to use for scipy.integrate.trapz?\n"
     ]
    },
    {
     "cell_type": "code",
     "collapsed": false,
     "input": [
      "from scipy.integrate import trapz\n",
      "from scipy.integrate import quad\n",
      "n = 1\n",
      "x = np.linspace(1./3,1./2,51)\n",
      "psi = lambda x: sqrt(2)*np.sin(n*np.pi*x)\n",
      "integrand1 = psi(x)**2\n",
      "prob1 = trapz(integrand1,x)\n",
      "print \"The prob between 1/3 and 1/2 for n = 1 is\", prob1\n",
      "n = 2\n",
      "psi = lambda x: sqrt(2)*np.sin(n*np.pi*x)\n",
      "integrand1 = psi(x)**2\n",
      "prob2 = trapz(integrand1,x)\n",
      "print \"The prob between 1/3 and 1/2 for n = 2 is\", prob2"
     ],
     "language": "python",
     "metadata": {},
     "outputs": [
      {
       "output_type": "stream",
       "stream": "stdout",
       "text": [
        "The prob between 1/3 and 1/2 for n = 1 is 0.304493852154\n",
        "The prob between 1/3 and 1/2 for n = 2 is 0.0977606316968\n"
       ]
      }
     ],
     "prompt_number": 21
    },
    {
     "cell_type": "code",
     "collapsed": false,
     "input": [
      "from scipy.integrate import trapz\n",
      "from scipy.integrate import quad\n",
      "n = 1\n",
      "x = np.linspace(1./3,1./2,51)\n",
      "psi = lambda x: 2*np.sin(n*np.pi*x)**2\n",
      "integrand2 = psi\n",
      "prob1 = quad(integrand2,1./3,1./2)\n",
      "print \"The prob between 1/3 and 1/2 for n = 1 is\", prob1\n",
      "n = 2\n",
      "psi = lambda x: sqrt(2)*np.sin(n*np.pi*x)\n",
      "integrand2 = psi\n",
      "prob2 = quad(integrand2,1./3,1./2)\n",
      "print \"The prob between 1/3 and 1/2 for n = 2 is\", prob2"
     ],
     "language": "python",
     "metadata": {},
     "outputs": [
      {
       "output_type": "stream",
       "stream": "stdout",
       "text": [
        "The prob between 1/3 and 1/2 for n = 1 is (0.3044988905221147, 3.380616792304666e-15)\n",
        "The prob between 1/3 and 1/2 for n = 2 is (0.11253953951963833, 1.249439879554152e-15)\n"
       ]
      }
     ],
     "prompt_number": 22
    },
    {
     "cell_type": "markdown",
     "metadata": {},
     "source": [
      "(b) Make a plot of |\u03c8(x)|2 vs. x for the first two excited states with L=1."
     ]
    },
    {
     "cell_type": "code",
     "collapsed": false,
     "input": [
      "plt.plot(integrand1,x)\n",
      "plt.show()"
     ],
     "language": "python",
     "metadata": {},
     "outputs": [
      {
       "metadata": {},
       "output_type": "display_data",
       "png": "[encoded data removed]",
       "text": [
        "<matplotlib.figure.Figure at 0x10683f4d0>"
       ]
      }
     ],
     "prompt_number": 23
    },
    {
     "cell_type": "markdown",
     "metadata": {},
     "source": [
      "Question 4\n",
      "\n",
      "Integrals of mass density lead to three interesting quantities:\n",
      "\n",
      "M=\u222b\u03c1dVr\u20d7 cm=(xcm,ycm,zcm)=1M\u222br\u20d7 \u03c1dVIcm=\u222b(r\u2212rcm)2\u03c1dV\n",
      "\n",
      "where M is the total mass (a scalar), r\u20d7 cm is the center of mass position (a vector of 3 components), Icm are the moments of inertia about the center of mass (diagonals of a 3x3 matrix), and the mass density, \u03c1, may be a function of the spatial variables.\n",
      "\n",
      "Consider a rectangular box: length (in x) = 0.2 m, width (in y) = 0.2 m, and height (in z) = 1.0 m centered on the origin, (0,0,0) and with a mass density, \u03c1(x,y) = 100 (kg/m) [(y + 0.1) + z2] for y and z in meters.\n",
      "\n",
      "(a) Use numerical integration to find M, r\u20d7 cm, and Icm. Note that you need M to compute r\u20d7 cm and r\u20d7 cm to compute Icm. The moments of inertia Icm are Ixx, Iyy, and Izz, where e.g. Ixx=\u222b((y\u2212ycm)2+(z\u2212zcm)2)\u03c1dV, etc."
     ]
    },
    {
     "cell_type": "code",
     "collapsed": false,
     "input": [
      "from scipy.integrate import tplquad\n",
      "rho = lambda x,y,z: 100*(y+0.1)+100*z**2\n",
      "xmin = -0.1\n",
      "xmax = 0.1\n",
      "ymin = lambda x: -0.1\n",
      "ymax = lambda x: 0.1\n",
      "zmin = lambda x,y: -0.5\n",
      "zmax = lambda x,y: 0.5\n",
      "M, err = tplquad(rho,xmin,xmax,ymin,ymax,zmin,zmax)\n",
      "print \"M = \", M, \"kg\""
     ],
     "language": "python",
     "metadata": {},
     "outputs": [
      {
       "output_type": "stream",
       "stream": "stdout",
       "text": [
        "M =  0.413333333333 kg\n"
       ]
      }
     ],
     "prompt_number": 24
    },
    {
     "cell_type": "code",
     "collapsed": false,
     "input": [
      "integrand = lambda x,y,z: x*100*(y+0.1)+100*z**2\n",
      "xmin = -0.1\n",
      "xmax = 0.1\n",
      "ymin = lambda x: -0.1\n",
      "ymax = lambda x: 0.1\n",
      "zmin = lambda x,y: -0.5\n",
      "zmax = lambda x,y: 0.5\n",
      "x_com, err = tplquad(integrand,xmin,xmax,ymin,ymax,zmin,zmax)\n",
      "print \"x_com = \", x_com/M, \"m\""
     ],
     "language": "python",
     "metadata": {},
     "outputs": [
      {
       "output_type": "stream",
       "stream": "stdout",
       "text": [
        "x_com =  0.0322580645161 m\n"
       ]
      }
     ],
     "prompt_number": 25
    },
    {
     "cell_type": "code",
     "collapsed": false,
     "input": [
      "integrand = lambda x,y,z: y*100*(y+0.1)+100*z**2\n",
      "xmin = -0.1\n",
      "xmax = 0.1\n",
      "ymin = lambda x: -0.1\n",
      "ymax = lambda x: 0.1\n",
      "zmin = lambda x,y: -0.5\n",
      "zmax = lambda x,y: 0.5\n",
      "y_com, err = tplquad(integrand,xmin,xmax,ymin,ymax,zmin,zmax)\n",
      "print \"y_com = \", y_com/M, \"m\""
     ],
     "language": "python",
     "metadata": {},
     "outputs": [
      {
       "output_type": "stream",
       "stream": "stdout",
       "text": [
        "y_com =  0.0645161290323 m\n"
       ]
      }
     ],
     "prompt_number": 26
    },
    {
     "cell_type": "code",
     "collapsed": false,
     "input": [
      "integrand = lambda x,y,z: z*100*(y+0.1)+100*z**2\n",
      "xmin = -0.1\n",
      "xmax = 0.1\n",
      "ymin = lambda x: -0.1\n",
      "ymax = lambda x: 0.1\n",
      "zmin = lambda x,y: -0.5\n",
      "zmax = lambda x,y: 0.5\n",
      "z_com, err = tplquad(integrand,xmin,xmax,ymin,ymax,zmin,zmax)\n",
      "print \"z_com = \", z_com/M, \"m\""
     ],
     "language": "python",
     "metadata": {},
     "outputs": [
      {
       "output_type": "stream",
       "stream": "stdout",
       "text": [
        "z_com =  0.0322580645161 m\n"
       ]
      }
     ],
     "prompt_number": 27
    },
    {
     "cell_type": "code",
     "collapsed": false,
     "input": [
      "integrand = lambda x,y,z: ((y-y_com)**2+(z-z_com)**2)*100*(y+0.1)+100*z**2\n",
      "xmin = -0.1\n",
      "xmax = 0.1\n",
      "ymin = lambda x: -0.1\n",
      "ymax = lambda x: 0.1\n",
      "zmin = lambda x,y: -0.5\n",
      "zmax = lambda x,y: 0.5\n",
      "I_xx, err = tplquad(integrand,xmin,xmax,ymin,ymax,zmin,zmax)\n",
      "print \"I_xx = \", I_xx, \"m\""
     ],
     "language": "python",
     "metadata": {},
     "outputs": [
      {
       "output_type": "stream",
       "stream": "stdout",
       "text": [
        "I_xx =  0.0156444444444 m\n"
       ]
      }
     ],
     "prompt_number": 28
    },
    {
     "cell_type": "code",
     "collapsed": false,
     "input": [
      "integrand = lambda x,y,z: ((x-x_com)**2+(z-z_com)**2)*100*(y+0.1)+100*z**2\n",
      "xmin = -0.1\n",
      "xmax = 0.1\n",
      "ymin = lambda x: -0.1\n",
      "ymax = lambda x: 0.1\n",
      "zmin = lambda x,y: -0.5\n",
      "zmax = lambda x,y: 0.5\n",
      "I_yy, err = tplquad(integrand,xmin,xmax,ymin,ymax,zmin,zmax)\n",
      "print \"I_yy = \", I_yy, \"m\""
     ],
     "language": "python",
     "metadata": {},
     "outputs": [
      {
       "output_type": "stream",
       "stream": "stdout",
       "text": [
        "I_yy =  0.0481422222222 m\n"
       ]
      }
     ],
     "prompt_number": 29
    },
    {
     "cell_type": "code",
     "collapsed": false,
     "input": [
      "integrand = lambda x,y,z: ((x-x_com)**2+(y-y_com)**2)*100*(y+0.1)+100*z**2\n",
      "xmin = -0.1\n",
      "xmax = 0.1\n",
      "ymin = lambda x: -0.1\n",
      "ymax = lambda x: 0.1\n",
      "zmin = lambda x,y: -0.5\n",
      "zmax = lambda x,y: 0.5\n",
      "I_zz, err = tplquad(integrand,xmin,xmax,ymin,ymax,zmin,zmax)\n",
      "print \"I_zz = \", I_zz, \"m\""
     ],
     "language": "python",
     "metadata": {},
     "outputs": [
      {
       "output_type": "stream",
       "stream": "stdout",
       "text": [
        "I_zz =  0.0476444444444 m\n"
       ]
      }
     ],
     "prompt_number": 30
    },
    {
     "cell_type": "code",
     "collapsed": false,
     "input": [
      "I_cm = [I_xx,I_yy,I_zz]\n",
      "print \"I_cm = \", I_cm, \"kg*m^2\""
     ],
     "language": "python",
     "metadata": {},
     "outputs": [
      {
       "output_type": "stream",
       "stream": "stdout",
       "text": [
        "I_cm =  [0.015644444444444447, 0.04814222222222224, 0.04764444444444445] kg*m^2\n"
       ]
      }
     ],
     "prompt_number": 31
    },
    {
     "cell_type": "markdown",
     "metadata": {},
     "source": [
      "(b) The mass, center of mass, and moments of inertia can be easily computed analytically for a rectangular box of uniform density. (Compute them yourself or look them up). Verify your algorithm from part (a) works by having it compute the result for this test case. How accurate (how many sig figs?) is the numerical result?"
     ]
    },
    {
     "cell_type": "code",
     "collapsed": false,
     "input": [
      "from scipy.integrate import tplquad\n",
      "rho = lambda x,y,z: 100*(y+0.1)+100*z**2\n",
      "xmin = -0.1\n",
      "xmax = 0.1\n",
      "ymin = lambda x: -0.1\n",
      "ymax = lambda x: 0.1\n",
      "zmin = lambda x,y: -0.5\n",
      "zmax = lambda x,y: 0.5\n",
      "M, err = tplquad(rho,xmin,xmax,ymin,ymax,zmin,zmax)\n",
      "integrand = lambda x,y,z: x*100*(y+0.1)+100*z**2\n",
      "xmin = -0.1\n",
      "xmax = 0.1\n",
      "ymin = lambda x: -0.1\n",
      "ymax = lambda x: 0.1\n",
      "zmin = lambda x,y: -0.5\n",
      "zmax = lambda x,y: 0.5\n",
      "x_com, err = tplquad(integrand,xmin,xmax,ymin,ymax,zmin,zmax)\n",
      "integrand = lambda x,y,z: y*100*(y+0.1)+100*z**2\n",
      "xmin = -0.1\n",
      "xmax = 0.1\n",
      "ymin = lambda x: -0.1\n",
      "ymax = lambda x: 0.1\n",
      "zmin = lambda x,y: -0.5\n",
      "zmax = lambda x,y: 0.5\n",
      "y_com, err = tplquad(integrand,xmin,xmax,ymin,ymax,zmin,zmax)\n",
      "integrand = lambda x,y,z: z*100*(y+0.1)+100*z**2\n",
      "xmin = -0.1\n",
      "xmax = 0.1\n",
      "ymin = lambda x: -0.1\n",
      "ymax = lambda x: 0.1\n",
      "zmin = lambda x,y: -0.5\n",
      "zmax = lambda x,y: 0.5\n",
      "z_com, err = tplquad(integrand,xmin,xmax,ymin,ymax,zmin,zmax)\n",
      "integrand = lambda x,y,z: ((y-y_com)**2+(z-z_com)**2)*100*(y+0.1)+100*z**2\n",
      "xmin = -0.1\n",
      "xmax = 0.1\n",
      "ymin = lambda x: -0.1\n",
      "ymax = lambda x: 0.1\n",
      "zmin = lambda x,y: -0.5\n",
      "zmax = lambda x,y: 0.5\n",
      "I_xx, err = tplquad(integrand,xmin,xmax,ymin,ymax,zmin,zmax)\n",
      "integrand = lambda x,y,z: ((x-x_com)**2+(z-z_com)**2)*100*(y+0.1)+100*z**2\n",
      "xmin = -0.1\n",
      "xmax = 0.1\n",
      "ymin = lambda x: -0.1\n",
      "ymax = lambda x: 0.1\n",
      "zmin = lambda x,y: -0.5\n",
      "zmax = lambda x,y: 0.5\n",
      "I_yy, err = tplquad(integrand,xmin,xmax,ymin,ymax,zmin,zmax)\n",
      "integrand = lambda x,y,z: ((x-x_com)**2+(y-y_com)**2)*100*(y+0.1)+100*z**2\n",
      "xmin = -0.1\n",
      "xmax = 0.1\n",
      "ymin = lambda x: -0.1\n",
      "ymax = lambda x: 0.1\n",
      "zmin = lambda x,y: -0.5\n",
      "zmax = lambda x,y: 0.5\n",
      "I_zz, err = tplquad(integrand,xmin,xmax,ymin,ymax,zmin,zmax)\n",
      "I_cm = [I_xx,I_yy,I_zz]"
     ],
     "language": "python",
     "metadata": {},
     "outputs": [],
     "prompt_number": 33
    },
    {
     "cell_type": "code",
     "collapsed": false,
     "input": [
      "I_cm"
     ],
     "language": "python",
     "metadata": {},
     "outputs": [
      {
       "metadata": {},
       "output_type": "pyout",
       "prompt_number": 34,
       "text": [
        "[0.015644444444444447, 0.04814222222222224, 0.04764444444444445]"
       ]
      }
     ],
     "prompt_number": 34
    },
    {
     "cell_type": "markdown",
     "metadata": {},
     "source": [
      "Checking:"
     ]
    },
    {
     "cell_type": "code",
     "collapsed": false,
     "input": [
      "Ix = 1./12*(0.2**2+0.2**2)\n",
      "Iy = 1./12*(1**2 + 0.2**2)\n",
      "Iz = 1./12*(1**2+0.2**2)\n",
      "I_cm2 = [Ix,Iy,Iz]\n",
      "print sum(I_cm2) - sum(I_cm)"
     ],
     "language": "python",
     "metadata": {},
     "outputs": [
      {
       "output_type": "stream",
       "stream": "stdout",
       "text": [
        "0.0685688888889\n"
       ]
      }
     ],
     "prompt_number": 35
    },
    {
     "cell_type": "markdown",
     "metadata": {},
     "source": [
      "So I am off by a factor of .0685, which isn't very accurate"
     ]
    },
    {
     "cell_type": "code",
     "collapsed": false,
     "input": [
      "I_cm2"
     ],
     "language": "python",
     "metadata": {},
     "outputs": [
      {
       "metadata": {},
       "output_type": "pyout",
       "prompt_number": 36,
       "text": [
        "[0.006666666666666668, 0.08666666666666667, 0.08666666666666667]"
       ]
      }
     ],
     "prompt_number": 36
    },
    {
     "cell_type": "markdown",
     "metadata": {},
     "source": [
      "(c) Finally, change the density function to something of your choosing (different from that used in parts (a) and (b)) and recompute M, r\u20d7 cm and Icm for that case."
     ]
    },
    {
     "cell_type": "code",
     "collapsed": false,
     "input": [
      "from scipy.integrate import tplquad\n",
      "rho = lambda x,y,z: 100*(y+10.0)+100*z**4\n",
      "xmin = -0.1\n",
      "xmax = 0.1\n",
      "ymin = lambda x: -0.1\n",
      "ymax = lambda x: 0.1\n",
      "zmin = lambda x,y: -0.5\n",
      "zmax = lambda x,y: 0.5\n",
      "M, err = tplquad(rho,xmin,xmax,ymin,ymax,zmin,zmax)\n",
      "integrand = lambda x,y,z: x**2\n",
      "xmin = -0.1\n",
      "xmax = 0.1\n",
      "ymin = lambda x: -0.1\n",
      "ymax = lambda x: 0.1\n",
      "zmin = lambda x,y: -0.5\n",
      "zmax = lambda x,y: 0.5\n",
      "x_com, err = tplquad(integrand,xmin,xmax,ymin,ymax,zmin,zmax)\n",
      "integrand = lambda x,y,z: x**2\n",
      "xmin = -0.1\n",
      "xmax = 0.1\n",
      "ymin = lambda x: -0.1\n",
      "ymax = lambda x: 0.1\n",
      "zmin = lambda x,y: -0.5\n",
      "zmax = lambda x,y: 0.5\n",
      "y_com, err = tplquad(integrand,xmin,xmax,ymin,ymax,zmin,zmax)\n",
      "integrand = lambda x,y,z: x**2\n",
      "xmin = -0.1\n",
      "xmax = 0.1\n",
      "ymin = lambda x: -0.1\n",
      "ymax = lambda x: 0.1\n",
      "zmin = lambda x,y: -0.5\n",
      "zmax = lambda x,y: 0.5\n",
      "z_com, err = tplquad(integrand,xmin,xmax,ymin,ymax,zmin,zmax)\n",
      "integrand = lambda x,y,z: ((y)**2+(z)**2)*x**2\n",
      "xmin = -0.1\n",
      "xmax = 0.1\n",
      "ymin = lambda x: -0.1\n",
      "ymax = lambda x: 0.1\n",
      "zmin = lambda x,y: -0.5\n",
      "zmax = lambda x,y: 0.5\n",
      "I_xx, err = tplquad(integrand,xmin,xmax,ymin,ymax,zmin,zmax)\n",
      "integrand = lambda x,y,z: ((x)**2+(z)**2)*x**2\n",
      "xmin = -0.1\n",
      "xmax = 0.1\n",
      "ymin = lambda x: -0.1\n",
      "ymax = lambda x: 0.1\n",
      "zmin = lambda x,y: -0.5\n",
      "zmax = lambda x,y: 0.5\n",
      "I_yy, err = tplquad(integrand,xmin,xmax,ymin,ymax,zmin,zmax)\n",
      "integrand = lambda x,y,z: ((x)**2+(y)**2)*x**2\n",
      "xmin = -0.1\n",
      "xmax = 0.1\n",
      "ymin = lambda x: -0.1\n",
      "ymax = lambda x: 0.1\n",
      "zmin = lambda x,y: -0.5\n",
      "zmax = lambda x,y: 0.5\n",
      "I_zz, err = tplquad(integrand,xmin,xmax,ymin,ymax,zmin,zmax)\n",
      "I_cm = [I_xx,I_yy,I_zz]\n",
      "r = [x_com, y_com, y_com]\n",
      "print \"M = \", M\n",
      "print \"r = \", r\n",
      "print \"I = \", I_cm"
     ],
     "language": "python",
     "metadata": {},
     "outputs": [
      {
       "output_type": "stream",
       "stream": "stdout",
       "text": [
        "M =  40.00008\n",
        "r =  [0.003333333333333334, 0.003333333333333334, 0.003333333333333334]\n",
        "I =  [2.2222222222222223e-05, 0.0005111111111111112, 0.0005111111111111113]\n"
       ]
      }
     ],
     "prompt_number": 37
    },
    {
     "cell_type": "code",
     "collapsed": false,
     "input": [],
     "language": "python",
     "metadata": {},
     "outputs": []
    }
   ],
   "metadata": {}
  }
 ]
}