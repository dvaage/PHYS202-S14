{
 "metadata": {
  "name": "",
  "signature": "sha256:195b74bd40e226db3f155d00469f63b690489ec0efd3eb92eeb2bd5a91994501"
 },
 "nbformat": 3,
 "nbformat_minor": 0,
 "worksheets": [
  {
   "cells": [
    {
     "cell_type": "heading",
     "level": 1,
     "metadata": {},
     "source": [
      "Integration Exercises"
     ]
    },
    {
     "cell_type": "code",
     "collapsed": false,
     "input": [
      "%pylab inline\n",
      "import numpy as np\n",
      "import matplotlib.pyplot as plt\n",
      "import scipy.integrate as integrate\n",
      "from scipy.integrate import dblquad\n",
      "from scipy.integrate import tplquad"
     ],
     "language": "python",
     "metadata": {},
     "outputs": [
      {
       "output_type": "stream",
       "stream": "stdout",
       "text": [
        "Populating the interactive namespace from numpy and matplotlib\n"
       ]
      }
     ],
     "prompt_number": 2
    },
    {
     "cell_type": "markdown",
     "metadata": {},
     "source": [
      "Question 1\n",
      "\n",
      "(a) Write two functions trapz(func,x) and simps(func,x) to compute the integral of the function func over the variable x using the trapezoidal rule and Simpson's rule to a file called Integrators.py. Do not use the scipy.integrate built-in functions. Include docstrings with each function that describe what they do. Then import the module and use the functions to answer the following questions."
     ]
    },
    {
     "cell_type": "code",
     "collapsed": false,
     "input": [
      "def traps(func,x):\n",
      "\"\"\"uses the trapezoid rule to evaulate the integral of a given function\"\"\"\n",
      "    N = 10\n",
      "    a = 0.0\n",
      "    b = 2.0\n",
      "    h = (b-a)/N\n",
      "\n",
      "    k = np.arange(1,N)\n",
      "    I = h*(0.5*func(a) + 0.5*func(b) + func(a+k*h).sum())\n",
      "\n",
      "def simps(func,x):\n",
      "\"\"\"uses simpson's rule to evaulate an integral of a given function\"\"\"\n",
      "    N = 10\n",
      "    a = 0.0\n",
      "    b = 2.0\n",
      "    h = (b-a)/N\n",
      "\n",
      "    k1 = np.arange(1,N/2+1)\n",
      "    k2 = np.arange(1,N/2)\n",
      "    I = (1./3.)*h*(func(a) + func(b) + 4.*func(a+(2*k1-1)*h).sum() + 2.*func(a+2*k2*h).sum())\n",
      "    \n",
      "\n"
     ],
     "language": "python",
     "metadata": {},
     "outputs": [],
     "prompt_number": 9
    },
    {
     "cell_type": "markdown",
     "metadata": {},
     "source": [
      "(b) Use your trapz and simps functions from part (a) to calculate the integral of x4\u22122x+1 from x = 0 to x = 2 with N = 10, N = 100, and N = 1000. Then compare your result to the known correct value of 4.4. What is the percent error in each case?"
     ]
    },
    {
     "cell_type": "code",
     "collapsed": false,
     "input": [
      "#answer"
     ],
     "language": "python",
     "metadata": {},
     "outputs": [],
     "prompt_number": 4
    },
    {
     "cell_type": "markdown",
     "metadata": {},
     "source": [
      "Question 2\n",
      "\n",
      "Consider the integral\n",
      "\n",
      "E(x)=\u222bx0e\u2212t2dt\n",
      "\n",
      "This is the error function, commonly seen in probability and statistics. There is no known way to perform this particular integral analytically, although the integrand can be expanded in a Taylor series and terms computed to arbitrary order. For most applications, numerical approaches are the only way forward.\n",
      "\n",
      "(a) Use scipy.integrate.cumtrapz to calculate E(x) for values of x from 0 to 3 in steps of 0.1. Print the result."
     ]
    },
    {
     "cell_type": "code",
     "collapsed": false,
     "input": [
      "#answer"
     ],
     "language": "python",
     "metadata": {},
     "outputs": [],
     "prompt_number": 5
    },
    {
     "cell_type": "markdown",
     "metadata": {},
     "source": [
      "(b) Plot the integrand as a function of t and E(x) as a function of x (both ranging from 0 to 3) on the same graph."
     ]
    },
    {
     "cell_type": "code",
     "collapsed": false,
     "input": [
      "#answer"
     ],
     "language": "python",
     "metadata": {},
     "outputs": [],
     "prompt_number": 6
    },
    {
     "cell_type": "markdown",
     "metadata": {},
     "source": [
      "Question 3\n",
      "\n",
      "Consider a particle in a one-dimensional box of width L. The probability of finding the particle between a and b is given by\n",
      "\n",
      "P(a,b)=\u222bba|\u03c8(x)|2dx\n",
      "\n",
      "where\n",
      "\n",
      "\u03c8(x)=2L\u203e\u203e\u221asin(n\u03c0xL)\n",
      "\n",
      "is the wavefunction.\n",
      "\n",
      "(a) What is the probability of finding the particle between L/3 and L/2 for the ground state (n = 1) and for the first excited state (n = 2)? Let L = 1. Perform the integral using both scipy.integrate.trapz and scipy.integrate.quad with an accuracy of 6 sig figs. How many slices did you need to use for scipy.integrate.trapz?\n"
     ]
    },
    {
     "cell_type": "code",
     "collapsed": false,
     "input": [
      "#answer"
     ],
     "language": "python",
     "metadata": {},
     "outputs": [],
     "prompt_number": 7
    },
    {
     "cell_type": "markdown",
     "metadata": {},
     "source": [
      "(b) Make a plot of |\u03c8(x)|2 vs. x for the first two excited states with L=1."
     ]
    },
    {
     "cell_type": "code",
     "collapsed": false,
     "input": [
      "#answer"
     ],
     "language": "python",
     "metadata": {},
     "outputs": [],
     "prompt_number": 8
    },
    {
     "cell_type": "markdown",
     "metadata": {},
     "source": [
      "Question 4\n",
      "\n",
      "Integrals of mass density lead to three interesting quantities:\n",
      "\n",
      "M=\u222b\u03c1dVr\u20d7 cm=(xcm,ycm,zcm)=1M\u222br\u20d7 \u03c1dVIcm=\u222b(r\u2212rcm)2\u03c1dV\n",
      "\n",
      "where M is the total mass (a scalar), r\u20d7 cm is the center of mass position (a vector of 3 components), Icm are the moments of inertia about the center of mass (diagonals of a 3x3 matrix), and the mass density, \u03c1, may be a function of the spatial variables.\n",
      "\n",
      "Consider a rectangular box: length (in x) = 0.2 m, width (in y) = 0.2 m, and height (in z) = 1.0 m centered on the origin, (0,0,0) and with a mass density, \u03c1(x,y) = 100 (kg/m) [(y + 0.1) + z2] for y and z in meters.\n",
      "\n",
      "(a) Use numerical integration to find M, r\u20d7 cm, and Icm. Note that you need M to compute r\u20d7 cm and r\u20d7 cm to compute Icm. The moments of inertia Icm are Ixx, Iyy, and Izz, where e.g. Ixx=\u222b((y\u2212ycm)2+(z\u2212zcm)2)\u03c1dV, etc."
     ]
    },
    {
     "cell_type": "code",
     "collapsed": false,
     "input": [
      "#answer"
     ],
     "language": "python",
     "metadata": {},
     "outputs": [],
     "prompt_number": 9
    },
    {
     "cell_type": "markdown",
     "metadata": {},
     "source": [
      "(b) The mass, center of mass, and moments of inertia can be easily computed analytically for a rectangular box of uniform density. (Compute them yourself or look them up). Verify your algorithm from part (a) works by having it compute the result for this test case. How accurate (how many sig figs?) is the numerical result?"
     ]
    },
    {
     "cell_type": "code",
     "collapsed": false,
     "input": [
      "#answer"
     ],
     "language": "python",
     "metadata": {},
     "outputs": [],
     "prompt_number": 10
    },
    {
     "cell_type": "markdown",
     "metadata": {},
     "source": [
      "(c) Finally, change the density function to something of your choosing (different from that used in parts (a) and (b)) and recompute M, r\u20d7 cm and Icm for that case."
     ]
    },
    {
     "cell_type": "code",
     "collapsed": false,
     "input": [
      "#answer"
     ],
     "language": "python",
     "metadata": {},
     "outputs": [],
     "prompt_number": 11
    },
    {
     "cell_type": "code",
     "collapsed": false,
     "input": [],
     "language": "python",
     "metadata": {},
     "outputs": []
    }
   ],
   "metadata": {}
  }
 ]
}