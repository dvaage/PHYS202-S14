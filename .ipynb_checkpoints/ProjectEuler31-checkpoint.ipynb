{
 "metadata": {
  "name": "",
  "signature": "sha256:b6ce3784e87aa7aff5fee5fdafb7dd2e88006fe3243d9dffe808b15a836c552e"
 },
 "nbformat": 3,
 "nbformat_minor": 0,
 "worksheets": [
  {
   "cells": [
    {
     "cell_type": "heading",
     "level": 1,
     "metadata": {},
     "source": [
      "Coin sums"
     ]
    },
    {
     "cell_type": "heading",
     "level": 2,
     "metadata": {},
     "source": [
      "Problem 31"
     ]
    },
    {
     "cell_type": "markdown",
     "metadata": {},
     "source": [
      "In England the currency is made up of pound, \u00a3, and pence, p, and there are eight coins in general circulation:\n",
      "\n",
      "1p, 2p, 5p, 10p, 20p, 50p, \u00a31 (100p) and \u00a32 (200p).\n",
      "It is possible to make \u00a32 in the following way:\n",
      "\n",
      "1\u00d7\u00a31 + 1\u00d750p + 2\u00d720p + 1\u00d75p + 1\u00d72p + 3\u00d71p\n",
      "How many different ways can \u00a32 be made using any number of coins?"
     ]
    },
    {
     "cell_type": "code",
     "collapsed": false,
     "input": [
      "goal = 200\n",
      "coins = [1,2,5,10,20,50,100,200]\n",
      "ways = [1]+[0]*goal\n",
      " \n",
      "for coin in coins:\n",
      "    for i in range(coin, goal+1):\n",
      "        ways[i] += ways[i-coin]\n",
      " \n",
      "print ways[goal], \"different ways 2 pounds can be made using any number of coins.\""
     ],
     "language": "python",
     "metadata": {},
     "outputs": [
      {
       "output_type": "stream",
       "stream": "stdout",
       "text": [
        "73682 different ways 2 pounds can be made using any number of coins.\n"
       ]
      }
     ],
     "prompt_number": 14
    },
    {
     "cell_type": "code",
     "collapsed": false,
     "input": [],
     "language": "python",
     "metadata": {},
     "outputs": []
    }
   ],
   "metadata": {}
  }
 ]
}