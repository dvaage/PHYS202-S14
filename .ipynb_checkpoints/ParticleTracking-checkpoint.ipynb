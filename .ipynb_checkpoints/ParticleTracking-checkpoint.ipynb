{
 "metadata": {
  "name": "",
  "signature": "sha256:96f21502d9a4512ba4251a139913dd3a041f83cf202e1f429723083832d08ab2"
 },
 "nbformat": 3,
 "nbformat_minor": 0,
 "worksheets": [
  {
   "cells": [
    {
     "cell_type": "heading",
     "level": 1,
     "metadata": {},
     "source": [
      "Particle tracking"
     ]
    },
    {
     "cell_type": "code",
     "collapsed": false,
     "input": [
      "from BlobFinder import *\n",
      "from PIL import Image\n",
      "%pylab inline"
     ],
     "language": "python",
     "metadata": {},
     "outputs": [
      {
       "output_type": "stream",
       "stream": "stdout",
       "text": [
        "Populating the interactive namespace from numpy and matplotlib\n"
       ]
      },
      {
       "output_type": "stream",
       "stream": "stderr",
       "text": [
        "WARNING: pylab import has clobbered these variables: ['plt']\n",
        "`%matplotlib` prevents importing * from pylab and numpy\n"
       ]
      }
     ],
     "prompt_number": 1
    },
    {
     "cell_type": "markdown",
     "metadata": {},
     "source": [
      "\n",
      "The next step is to determine how far a bead moved from one time step t to the next t+\u0394t. For the test data, \u0394t = 0.5 seconds per frame. Assume the data is such that each bead moves a relatively small amount, and that two beads do not collide. (However, you must account for the possibility that the bead disappears from the frame, either by departing the microscope's field of view in the x- or y- direction, or moving out of the microscope's depth of focus in the z-direction.) Thus, for each bead at timet+\u0394t, calculate the closest bead at time t (in Euclidean distance) and identify these two as the same beads. However, if the distance is too large (greater than \u0394ppixels) assume that one of the beads has either just begun or ended its journey. Record the displacement that each bead travels in the \u0394t units of time.\n",
      "\n",
      "Write a function that takes an integer P, a floating point value \u03c4, a floating point value \u0394p, and a sequence of JPEG filenames as arguments, identifies the beads (using the specified values of P and \u03c4) in each JPEG image (using BlobFinder), and writes to a file (one per line, formatted with 4 decimal places to the right of decimal point) the radial displacement that each bead moves from one frame to the next (assuming it is no more than \u0394p). Note that it is not necessary to explicitly track a bead through a sequence of frames\u2014you only need to worry about identifying the same bead in two consecutive frames.\n"
     ]
    },
    {
     "cell_type": "code",
     "collapsed": false,
     "input": [],
     "language": "python",
     "metadata": {},
     "outputs": [],
     "prompt_number": 20
    },
    {
     "cell_type": "code",
     "collapsed": false,
     "input": [],
     "language": "python",
     "metadata": {},
     "outputs": [],
     "prompt_number": 21
    },
    {
     "cell_type": "code",
     "collapsed": false,
     "input": [],
     "language": "python",
     "metadata": {},
     "outputs": []
    }
   ],
   "metadata": {}
  }
 ]
}