{
 "metadata": {
  "name": "",
  "signature": "sha256:8636f45f1ecf773070c65d2a987c2841bd247ab89288a27ab8b8a2026c2da4f9"
 },
 "nbformat": 3,
 "nbformat_minor": 0,
 "worksheets": [
  {
   "cells": [
    {
     "cell_type": "heading",
     "level": 1,
     "metadata": {},
     "source": [
      "Number letter counts\n",
      "Problem 17"
     ]
    },
    {
     "cell_type": "markdown",
     "metadata": {},
     "source": [
      "If the numbers 1 to 5 are written out in words: one, two, three, four, five, then there are 3 + 3 + 5 + 4 + 4 = 19 letters used in total.\n",
      "\n",
      "If all the numbers from 1 to 1000 (one thousand) inclusive were written out in words, how many letters would be used?\n",
      "\n",
      "\n",
      "NOTE: Do not count spaces or hyphens. For example, 342 (three hundred and forty-two) contains 23 letters and 115 (one hundred and fifteen) contains 20 letters. The use of \"and\" when writing out numbers is in compliance with British usage."
     ]
    },
    {
     "cell_type": "code",
     "collapsed": false,
     "input": [
      "#GIVING EACH WORD A NUMBER OF LETTERS\n",
      "one = 3\n",
      "two = 3\n",
      "three = 5\n",
      "four = 4\n",
      "five = 4\n",
      "six = 3\n",
      "seven = 5\n",
      "eight = 5\n",
      "nine = 4\n",
      "ten = 3\n",
      "eleven = 6\n",
      "twelve = 6\n",
      "thirteen = 8\n",
      "fourteen = 8\n",
      "fifteen = 7\n",
      "sixteen = 7\n",
      "seventeen = 9\n",
      "eighteen = 8\n",
      "nineteen = 8\n",
      "twenty = 6\n",
      "thirty = 6\n",
      "forty = 5\n",
      "fifty = 5\n",
      "sixty = 5\n",
      "seventy = 7\n",
      "eighty = 6\n",
      "ninety = 6\n",
      "hundred = 7\n",
      "And = 3\n",
      "thousand = 8"
     ],
     "language": "python",
     "metadata": {},
     "outputs": [],
     "prompt_number": 1
    },
    {
     "cell_type": "code",
     "collapsed": false,
     "input": [
      "#HERE IS MY TEST CASE\n",
      "print sum([one,two,three,four,five])"
     ],
     "language": "python",
     "metadata": {},
     "outputs": [
      {
       "output_type": "stream",
       "stream": "stdout",
       "text": [
        "19\n"
       ]
      }
     ],
     "prompt_number": 3
    },
    {
     "cell_type": "code",
     "collapsed": false,
     "input": [
      "#ASSIGNING NUMBERS ONE TO NINE, TEN TO NINETEEN, TWENTY TO NINETY-NINE, ONE TO NINETY-NINE AND ONEHUNDRED TO NINEHUNDRED AND NINTEY-NINE\n",
      "NumbersOnetoNine = [one,two,three,four,five,six,seven,eight,nine]    \n",
      "NumbersTentoNineteen = [ten,eleven,twelve,thirteen,fourteen,fifteen,sixteen,seventeen,eighteen,nineteen]\n",
      "TwentyToNinetyNine = ((twenty * 10) + (thirty * 10) + (forty * 10) + (fifty * 10) + (sixty * 10)\n",
      "                    + (seventy * 10) + (eighty * 10) + (ninety * 10) + (sum(NumbersOnetoNine) * 8))\n",
      "OnetoNinetyNine = sum(NumbersOnetoNine) + sum (NumbersTentoNineteen) + TwentyToNinetyNine\n",
      "OneHundredtoNineHundredNinetyNine = (hundred * 900 + one * 100 + two * 100 + three * 100 +\n",
      "                                    four * 100 + five * 100 + six * 100 + seven * 100 + eight\n",
      "                                    * 100 + nine * 100 + And * 99 * 9 + OnetoNinetyNine * 9)"
     ],
     "language": "python",
     "metadata": {},
     "outputs": [],
     "prompt_number": 5
    },
    {
     "cell_type": "code",
     "collapsed": false,
     "input": [
      "#FINISHING UP WITH ONE TO ONE THOUSAND\n",
      "OnetoThousand = OnetoNinetyNine + OneHundredtoNineHundredNinetyNine + one + thousand\n",
      "print OnetoThousand"
     ],
     "language": "python",
     "metadata": {},
     "outputs": [
      {
       "output_type": "stream",
       "stream": "stdout",
       "text": [
        "21124\n"
       ]
      }
     ],
     "prompt_number": 6
    },
    {
     "cell_type": "code",
     "collapsed": false,
     "input": [],
     "language": "python",
     "metadata": {},
     "outputs": []
    }
   ],
   "metadata": {}
  }
 ]
}