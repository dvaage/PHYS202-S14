{
 "metadata": {
  "name": "",
  "signature": "sha256:e5de34963ff7140ba8facf0e5ee2a5379be5894c431fe5f4ccc1b9198a60e95b"
 },
 "nbformat": 3,
 "nbformat_minor": 0,
 "worksheets": [
  {
   "cells": [
    {
     "cell_type": "heading",
     "level": 1,
     "metadata": {},
     "source": [
      "For Final Demonstration Purposes:"
     ]
    },
    {
     "cell_type": "code",
     "collapsed": false,
     "input": [
      "%pylab inline"
     ],
     "language": "python",
     "metadata": {},
     "outputs": [
      {
       "output_type": "stream",
       "stream": "stdout",
       "text": [
        "Populating the interactive namespace from numpy and matplotlib\n"
       ]
      }
     ],
     "prompt_number": 2
    },
    {
     "cell_type": "heading",
     "level": 3,
     "metadata": {},
     "source": [
      "Challenge 1 - Particle Identification"
     ]
    },
    {
     "cell_type": "code",
     "collapsed": false,
     "input": [
      "%%file BlobFinder.py\n",
      "##Devin Vaage's Version of the BlobFinder python module \n",
      "##\n",
      "##\n",
      "##This module follows the suggested code structure from the Particle Identification\n",
      "##section of the Avagadros Number project\n",
      "##\n",
      "##\n",
      "##\n",
      "import matplotlib as plt\n",
      "from PIL import Image\n",
      "#Create a python module called Blobfinder.py that \n",
      "#includes a class Blob() (following the suggested code structure)\n",
      "class Blob():\n",
      "    def __init__(self):\n",
      "        \"\"\"construct an empty blob\"\"\"\n",
      "        self.pixels = []\n",
      "    def add(self, i, j):\n",
      "        \"\"\"add a pixel (i, j) to the blob\"\"\"\n",
      "        self.pixels.append((i,j))\n",
      "    def mass(self):\n",
      "        \"\"\"return number of pixels added = its mass\"\"\"\n",
      "        return len(self.pixels)\n",
      "    def centerOfMass(self):\n",
      "        \"\"\"return tuple of (x,y) values for this blob's center \n",
      "        of mass format center-of-mass coordinates with 4 digits \n",
      "        to right of decimal point\"\"\"\n",
      "        xsum = ysum = 0\n",
      "        for pixel in self.pixels:\n",
      "            xsum += pixel[0]\n",
      "            ysum += pixel[1]\n",
      "        return (xsum / len(self.pixels), ysum / len(self.pixels))\n",
      "    def distanceTo(self, blob):\n",
      "        \"\"\"For particle tracking purposes, returns displacement\"\"\"\n",
      "        return round(((self.centerOfMass()[0] - blob.centerOfMass()[0]) ** 2 + \\\n",
      "                    (self.centerOfMass()[1] - blob.centerOfMass()[1]) ** 2) ** .5, 4)\n",
      "\n",
      "    \n",
      "#effectively applying the monochrome filter from counting stars\n",
      "#to each image allows the blobs to be found more easily. \n",
      "\n",
      "def monochrome(picture, tau): #this comes from the counting stars tour\n",
      "    \"\"\"Sets background to white and pixels above threshold to black\"\"\"\n",
      "    temp = picture.load()\n",
      "    xsize, ysize = picture.size\n",
      "    for x in range(xsize):\n",
      "        for y in range(ysize):\n",
      "            r,g,b = temp[x,y]\n",
      "            if r+g+b >= tau:\n",
      "                temp[x,y] = (0,0,0)\n",
      "            else:\n",
      "                temp[x,y] = (255,255,255)\n",
      "# I used the counting stars exercise and tour to help write this function             \n",
      "def fillBlob(picture, xsize, ysize, xstart, ystart):\n",
      "    \"\"\"each call to 'fillBlob' takes care of one pixel in the blob,\n",
      "    then calls 'fillBlob' again to take care of the neighbors\"\"\"\n",
      "    BLACK = (0,0,0)\n",
      "    RED = (255,0,0)\n",
      "    queue = [(xstart,ystart)]\n",
      "    blob = Blob()\n",
      "    blob.add(xstart, ystart)\n",
      "    while queue:\n",
      "        x,y,queue = queue[0][0], queue[0][1], queue[1:]\n",
      "        if picture[x,y] == BLACK:\n",
      "            picture[x,y] = RED\n",
      "            blob.add(x,y)\n",
      "            if x > 0:\n",
      "                 queue.append((x-1,y))\n",
      "            if x < (xsize-1):\n",
      "                 queue.append((x+1,y))\n",
      "            if y > 0:\n",
      "                 queue.append((x, y-1))\n",
      "            if y < (ysize-1):\n",
      "                queue.append((x, y+1))\n",
      "    return blob\n",
      "\n",
      "def BlobFinder(picture, tau):\n",
      "    \"\"\"find all blobs in the picture using a given Tau\"\"\"\n",
      "    blobs = []\n",
      "    xsize, ysize = picture.size\n",
      "    temp = picture.load()\n",
      "    BLACK = (0,0,0)\n",
      "    RED = (255,0,0)\n",
      "    #replacing the RGB values of each with either \n",
      "    #black or white depending on whether its total \n",
      "    #luminance, tau\n",
      "    monochrome(picture, tau)\n",
      "    for x in range(xsize):\n",
      "        for y in range(ysize):\n",
      "            if temp[x,y] == BLACK:\n",
      "                blobs.append(fillBlob(temp,xsize,ysize,x,y))\n",
      "    return blobs\n",
      "\n",
      "#following the suggest code structure:\n",
      "def countBeads(P, blobs):\n",
      "    \"\"\"return the number of beads with >= P pixels\"\"\"\n",
      "    bead_count = 0\n",
      "    for blob in blobs:\n",
      "        if blob.mass() >= P:\n",
      "            bead_count += 1\n",
      "    return bead_count\n",
      "\n",
      "#following the suggest code structure:\n",
      "def getBeads(P, blobs):\n",
      "    \"\"\"return all beads with >= P pixels\"\"\"\n",
      "    beads = []\n",
      "    for blob in blobs:\n",
      "        if blob.mass() >= P:\n",
      "            beads.append(blob)\n",
      "    return beads"
     ],
     "language": "python",
     "metadata": {},
     "outputs": [
      {
       "output_type": "stream",
       "stream": "stdout",
       "text": [
        "Overwriting BlobFinder.py\n"
       ]
      }
     ],
     "prompt_number": 3
    },
    {
     "cell_type": "heading",
     "level": 3,
     "metadata": {},
     "source": [
      "Challenge 2 - Particle Tracking"
     ]
    },
    {
     "cell_type": "code",
     "collapsed": false,
     "input": [
      "from BlobFinder import *"
     ],
     "language": "python",
     "metadata": {},
     "outputs": [],
     "prompt_number": 4
    },
    {
     "cell_type": "code",
     "collapsed": false,
     "input": [
      "## for my particle tracking module\n",
      "## following the problem statement, \n",
      "## this is a \"function that takes an integer P, a floating point value \u03c4, \n",
      "## a floating point value \u0394p, and a sequence of JPEG filenames as arguments\"\n",
      "def ImageComparison(frame1, frame2, P, tau, deltaP):\n",
      "    \"\"\"Returns the displacement of each particle from one frame to the next\"\"\"\n",
      "    f1 = Image.open(frame1)\n",
      "    Compare_frame1 = getBeads(P, BlobFinder(f1, tau))\n",
      "    f2 = Image.open(frame2)\n",
      "    Compare_frame2 = getBeads(P, BlobFinder(f2, tau))\n",
      "    displacements = []\n",
      "    #I used a for loop to get the \"radial displacement that \n",
      "    # each bead moves from one frame to the next\"\n",
      "    for i in range(len(Compare_frame1)):\n",
      "        min_dr = deltaP\n",
      "        for j in range(len(Compare_frame2)):\n",
      "            dr =  Compare_frame1[i].distanceTo(Compare_frame2[j])\n",
      "            if(dr < min_dr):\n",
      "                min_dr = dr\n",
      "                closestBlob = j\n",
      "        if min_dr < deltaP:\n",
      "            displacements.append(str(min_dr)+'\\n')          \n",
      "            del Compare_frame2[closestBlob]\n",
      "    return displacements"
     ],
     "language": "python",
     "metadata": {},
     "outputs": [],
     "prompt_number": 5
    },
    {
     "cell_type": "code",
     "collapsed": false,
     "input": [
      "##Here is the function that \" and writes to a file (one per line, formatted with 4 decimal places to the right of decimal point) \n",
      "##the radial displacement that each bead moves from one frame to the next (assuming it is no more than \u0394p).       \n",
      "def Displacement_File(P, tau, deltaP, images, out_file_name):\n",
      "    displacements = []\n",
      "    out = open(out_file_name, 'w')\n",
      "    for i in xrange(len(images) - 1):\n",
      "        displacements += ImageComparison(images[i], images[i+1], P, tau, deltaP)\n",
      "        print \"Image frame comparison #\", i, \"is finished being recorded\"\n",
      "    out.writelines(displacements)\n",
      "    out.close()"
     ],
     "language": "python",
     "metadata": {},
     "outputs": [],
     "prompt_number": 6
    },
    {
     "cell_type": "code",
     "collapsed": false,
     "input": [
      "#Here are the values I selected for P, Tau and Delta P \n",
      "P = 25.0\n",
      "tau = 650\n",
      "deltaP = 20.0"
     ],
     "language": "python",
     "metadata": {},
     "outputs": [],
     "prompt_number": 13
    },
    {
     "cell_type": "code",
     "collapsed": false,
     "input": [
      "#This is the for loop work for the Run4 data\n",
      "for k in range(4, 5):\n",
      "    frames = []\n",
      "    for i in range(200):\n",
      "        num = '00'\n",
      "        for j in range(3 - len(str(i))):\n",
      "            num += '0'\n",
      "        num += str(i)\n",
      "        frames.append('RunData/run'+str(k)+'/frame%s.jpg' % num) \n",
      "#This names the output file and prints a completion message       \n",
      "    out_file = 'ANRun' + str(k) + 'Data' + '.dat'\n",
      "    Displacement_File(P, tau, deltaP, frames, out_file)\n",
      "    print 'All Displacement Comparisons have finished'"
     ],
     "language": "python",
     "metadata": {},
     "outputs": [
      {
       "output_type": "stream",
       "stream": "stdout",
       "text": [
        "Image frame comparison # 0 is finished being recorded\n",
        "Image frame comparison #"
       ]
      },
      {
       "output_type": "stream",
       "stream": "stdout",
       "text": [
        " 1 is finished being recorded\n",
        "Image frame comparison #"
       ]
      },
      {
       "output_type": "stream",
       "stream": "stdout",
       "text": [
        " 2 is finished being recorded\n",
        "Image frame comparison #"
       ]
      },
      {
       "output_type": "stream",
       "stream": "stdout",
       "text": [
        " 3 is finished being recorded\n",
        "Image frame comparison #"
       ]
      },
      {
       "output_type": "stream",
       "stream": "stdout",
       "text": [
        " 4 is finished being recorded\n",
        "Image frame comparison #"
       ]
      },
      {
       "output_type": "stream",
       "stream": "stdout",
       "text": [
        " 5 is finished being recorded\n",
        "Image frame comparison #"
       ]
      },
      {
       "output_type": "stream",
       "stream": "stdout",
       "text": [
        " 6 is finished being recorded\n",
        "Image frame comparison #"
       ]
      },
      {
       "output_type": "stream",
       "stream": "stdout",
       "text": [
        " 7 is finished being recorded\n",
        "Image frame comparison #"
       ]
      },
      {
       "output_type": "stream",
       "stream": "stdout",
       "text": [
        " 8 is finished being recorded\n",
        "Image frame comparison #"
       ]
      },
      {
       "output_type": "stream",
       "stream": "stdout",
       "text": [
        " 9 is finished being recorded\n",
        "Image frame comparison #"
       ]
      },
      {
       "output_type": "stream",
       "stream": "stdout",
       "text": [
        " 10 is finished being recorded\n",
        "Image frame comparison #"
       ]
      },
      {
       "output_type": "stream",
       "stream": "stdout",
       "text": [
        " 11 is finished being recorded\n",
        "Image frame comparison #"
       ]
      },
      {
       "output_type": "stream",
       "stream": "stdout",
       "text": [
        " 12 is finished being recorded\n",
        "Image frame comparison #"
       ]
      },
      {
       "output_type": "stream",
       "stream": "stdout",
       "text": [
        " 13 is finished being recorded\n",
        "Image frame comparison #"
       ]
      },
      {
       "output_type": "stream",
       "stream": "stdout",
       "text": [
        " 14 is finished being recorded\n",
        "Image frame comparison #"
       ]
      },
      {
       "output_type": "stream",
       "stream": "stdout",
       "text": [
        " 15 is finished being recorded\n",
        "Image frame comparison #"
       ]
      },
      {
       "output_type": "stream",
       "stream": "stdout",
       "text": [
        " 16 is finished being recorded\n",
        "Image frame comparison #"
       ]
      },
      {
       "output_type": "stream",
       "stream": "stdout",
       "text": [
        " 17 is finished being recorded\n",
        "Image frame comparison #"
       ]
      },
      {
       "output_type": "stream",
       "stream": "stdout",
       "text": [
        " 18 is finished being recorded\n",
        "Image frame comparison #"
       ]
      },
      {
       "output_type": "stream",
       "stream": "stdout",
       "text": [
        " 19 is finished being recorded\n",
        "Image frame comparison #"
       ]
      },
      {
       "output_type": "stream",
       "stream": "stdout",
       "text": [
        " 20 is finished being recorded\n",
        "Image frame comparison #"
       ]
      },
      {
       "output_type": "stream",
       "stream": "stdout",
       "text": [
        " 21 is finished being recorded\n",
        "Image frame comparison #"
       ]
      },
      {
       "output_type": "stream",
       "stream": "stdout",
       "text": [
        " 22 is finished being recorded\n",
        "Image frame comparison #"
       ]
      },
      {
       "output_type": "stream",
       "stream": "stdout",
       "text": [
        " 23 is finished being recorded\n",
        "Image frame comparison #"
       ]
      },
      {
       "output_type": "stream",
       "stream": "stdout",
       "text": [
        " 24 is finished being recorded\n",
        "Image frame comparison #"
       ]
      },
      {
       "output_type": "stream",
       "stream": "stdout",
       "text": [
        " 25 is finished being recorded\n",
        "Image frame comparison #"
       ]
      },
      {
       "output_type": "stream",
       "stream": "stdout",
       "text": [
        " 26 is finished being recorded\n",
        "Image frame comparison #"
       ]
      },
      {
       "output_type": "stream",
       "stream": "stdout",
       "text": [
        " 27 is finished being recorded\n",
        "Image frame comparison #"
       ]
      },
      {
       "output_type": "stream",
       "stream": "stdout",
       "text": [
        " 28 is finished being recorded\n",
        "Image frame comparison #"
       ]
      },
      {
       "output_type": "stream",
       "stream": "stdout",
       "text": [
        " 29 is finished being recorded\n",
        "Image frame comparison #"
       ]
      },
      {
       "output_type": "stream",
       "stream": "stdout",
       "text": [
        " 30 is finished being recorded\n",
        "Image frame comparison #"
       ]
      },
      {
       "output_type": "stream",
       "stream": "stdout",
       "text": [
        " 31 is finished being recorded\n",
        "Image frame comparison #"
       ]
      },
      {
       "output_type": "stream",
       "stream": "stdout",
       "text": [
        " 32 is finished being recorded\n",
        "Image frame comparison #"
       ]
      },
      {
       "output_type": "stream",
       "stream": "stdout",
       "text": [
        " 33 is finished being recorded\n",
        "Image frame comparison #"
       ]
      },
      {
       "output_type": "stream",
       "stream": "stdout",
       "text": [
        " 34 is finished being recorded\n",
        "Image frame comparison #"
       ]
      },
      {
       "output_type": "stream",
       "stream": "stdout",
       "text": [
        " 35 is finished being recorded\n",
        "Image frame comparison #"
       ]
      },
      {
       "output_type": "stream",
       "stream": "stdout",
       "text": [
        " 36 is finished being recorded\n",
        "Image frame comparison #"
       ]
      },
      {
       "output_type": "stream",
       "stream": "stdout",
       "text": [
        " 37 is finished being recorded\n",
        "Image frame comparison #"
       ]
      },
      {
       "output_type": "stream",
       "stream": "stdout",
       "text": [
        " 38 is finished being recorded\n",
        "Image frame comparison #"
       ]
      },
      {
       "output_type": "stream",
       "stream": "stdout",
       "text": [
        " 39 is finished being recorded\n",
        "Image frame comparison #"
       ]
      },
      {
       "output_type": "stream",
       "stream": "stdout",
       "text": [
        " 40 is finished being recorded\n",
        "Image frame comparison #"
       ]
      },
      {
       "output_type": "stream",
       "stream": "stdout",
       "text": [
        " 41 is finished being recorded\n",
        "Image frame comparison #"
       ]
      },
      {
       "output_type": "stream",
       "stream": "stdout",
       "text": [
        " 42 is finished being recorded\n",
        "Image frame comparison #"
       ]
      },
      {
       "output_type": "stream",
       "stream": "stdout",
       "text": [
        " 43 is finished being recorded\n",
        "Image frame comparison #"
       ]
      },
      {
       "output_type": "stream",
       "stream": "stdout",
       "text": [
        " 44 is finished being recorded\n",
        "Image frame comparison #"
       ]
      },
      {
       "output_type": "stream",
       "stream": "stdout",
       "text": [
        " 45 is finished being recorded\n",
        "Image frame comparison #"
       ]
      },
      {
       "output_type": "stream",
       "stream": "stdout",
       "text": [
        " 46 is finished being recorded\n",
        "Image frame comparison #"
       ]
      },
      {
       "output_type": "stream",
       "stream": "stdout",
       "text": [
        " 47 is finished being recorded\n",
        "Image frame comparison #"
       ]
      },
      {
       "output_type": "stream",
       "stream": "stdout",
       "text": [
        " 48 is finished being recorded\n",
        "Image frame comparison #"
       ]
      },
      {
       "output_type": "stream",
       "stream": "stdout",
       "text": [
        " 49 is finished being recorded\n",
        "Image frame comparison #"
       ]
      },
      {
       "output_type": "stream",
       "stream": "stdout",
       "text": [
        " 50 is finished being recorded\n",
        "Image frame comparison #"
       ]
      },
      {
       "output_type": "stream",
       "stream": "stdout",
       "text": [
        " 51 is finished being recorded\n",
        "Image frame comparison #"
       ]
      },
      {
       "output_type": "stream",
       "stream": "stdout",
       "text": [
        " 52 is finished being recorded\n",
        "Image frame comparison #"
       ]
      },
      {
       "output_type": "stream",
       "stream": "stdout",
       "text": [
        " 53 is finished being recorded\n",
        "Image frame comparison #"
       ]
      },
      {
       "output_type": "stream",
       "stream": "stdout",
       "text": [
        " 54 is finished being recorded\n",
        "Image frame comparison #"
       ]
      },
      {
       "output_type": "stream",
       "stream": "stdout",
       "text": [
        " 55 is finished being recorded\n",
        "Image frame comparison #"
       ]
      },
      {
       "output_type": "stream",
       "stream": "stdout",
       "text": [
        " 56 is finished being recorded\n",
        "Image frame comparison #"
       ]
      },
      {
       "output_type": "stream",
       "stream": "stdout",
       "text": [
        " 57 is finished being recorded\n",
        "Image frame comparison #"
       ]
      },
      {
       "output_type": "stream",
       "stream": "stdout",
       "text": [
        " 58 is finished being recorded\n",
        "Image frame comparison #"
       ]
      },
      {
       "output_type": "stream",
       "stream": "stdout",
       "text": [
        " 59 is finished being recorded\n",
        "Image frame comparison #"
       ]
      },
      {
       "output_type": "stream",
       "stream": "stdout",
       "text": [
        " 60 is finished being recorded\n",
        "Image frame comparison #"
       ]
      },
      {
       "output_type": "stream",
       "stream": "stdout",
       "text": [
        " 61 is finished being recorded\n",
        "Image frame comparison #"
       ]
      },
      {
       "output_type": "stream",
       "stream": "stdout",
       "text": [
        " 62 is finished being recorded\n",
        "Image frame comparison #"
       ]
      },
      {
       "output_type": "stream",
       "stream": "stdout",
       "text": [
        " 63 is finished being recorded\n",
        "Image frame comparison #"
       ]
      },
      {
       "output_type": "stream",
       "stream": "stdout",
       "text": [
        " 64 is finished being recorded\n",
        "Image frame comparison #"
       ]
      },
      {
       "output_type": "stream",
       "stream": "stdout",
       "text": [
        " 65 is finished being recorded\n",
        "Image frame comparison #"
       ]
      },
      {
       "output_type": "stream",
       "stream": "stdout",
       "text": [
        " 66 is finished being recorded\n",
        "Image frame comparison #"
       ]
      },
      {
       "output_type": "stream",
       "stream": "stdout",
       "text": [
        " 67 is finished being recorded\n",
        "Image frame comparison #"
       ]
      },
      {
       "output_type": "stream",
       "stream": "stdout",
       "text": [
        " 68 is finished being recorded\n",
        "Image frame comparison #"
       ]
      },
      {
       "output_type": "stream",
       "stream": "stdout",
       "text": [
        " 69 is finished being recorded\n",
        "Image frame comparison #"
       ]
      },
      {
       "output_type": "stream",
       "stream": "stdout",
       "text": [
        " 70 is finished being recorded\n",
        "Image frame comparison #"
       ]
      },
      {
       "output_type": "stream",
       "stream": "stdout",
       "text": [
        " 71 is finished being recorded\n",
        "Image frame comparison #"
       ]
      },
      {
       "output_type": "stream",
       "stream": "stdout",
       "text": [
        " 72 is finished being recorded\n",
        "Image frame comparison #"
       ]
      },
      {
       "output_type": "stream",
       "stream": "stdout",
       "text": [
        " 73 is finished being recorded\n",
        "Image frame comparison #"
       ]
      },
      {
       "output_type": "stream",
       "stream": "stdout",
       "text": [
        " 74 is finished being recorded\n",
        "Image frame comparison #"
       ]
      },
      {
       "output_type": "stream",
       "stream": "stdout",
       "text": [
        " 75 is finished being recorded\n",
        "Image frame comparison #"
       ]
      },
      {
       "output_type": "stream",
       "stream": "stdout",
       "text": [
        " 76 is finished being recorded\n",
        "Image frame comparison #"
       ]
      },
      {
       "output_type": "stream",
       "stream": "stdout",
       "text": [
        " 77 is finished being recorded\n",
        "Image frame comparison #"
       ]
      },
      {
       "output_type": "stream",
       "stream": "stdout",
       "text": [
        " 78 is finished being recorded\n",
        "Image frame comparison #"
       ]
      },
      {
       "output_type": "stream",
       "stream": "stdout",
       "text": [
        " 79 is finished being recorded\n",
        "Image frame comparison #"
       ]
      },
      {
       "output_type": "stream",
       "stream": "stdout",
       "text": [
        " 80 is finished being recorded\n",
        "Image frame comparison #"
       ]
      },
      {
       "output_type": "stream",
       "stream": "stdout",
       "text": [
        " 81 is finished being recorded\n",
        "Image frame comparison #"
       ]
      },
      {
       "output_type": "stream",
       "stream": "stdout",
       "text": [
        " 82 is finished being recorded\n",
        "Image frame comparison #"
       ]
      },
      {
       "output_type": "stream",
       "stream": "stdout",
       "text": [
        " 83 is finished being recorded\n",
        "Image frame comparison #"
       ]
      },
      {
       "output_type": "stream",
       "stream": "stdout",
       "text": [
        " 84 is finished being recorded\n",
        "Image frame comparison #"
       ]
      },
      {
       "output_type": "stream",
       "stream": "stdout",
       "text": [
        " 85 is finished being recorded\n",
        "Image frame comparison #"
       ]
      },
      {
       "output_type": "stream",
       "stream": "stdout",
       "text": [
        " 86 is finished being recorded\n",
        "Image frame comparison #"
       ]
      },
      {
       "output_type": "stream",
       "stream": "stdout",
       "text": [
        " 87 is finished being recorded\n",
        "Image frame comparison #"
       ]
      },
      {
       "output_type": "stream",
       "stream": "stdout",
       "text": [
        " 88 is finished being recorded\n",
        "Image frame comparison #"
       ]
      },
      {
       "output_type": "stream",
       "stream": "stdout",
       "text": [
        " 89 is finished being recorded\n",
        "Image frame comparison #"
       ]
      },
      {
       "output_type": "stream",
       "stream": "stdout",
       "text": [
        " 90 is finished being recorded\n",
        "Image frame comparison #"
       ]
      },
      {
       "output_type": "stream",
       "stream": "stdout",
       "text": [
        " 91 is finished being recorded\n",
        "Image frame comparison #"
       ]
      },
      {
       "output_type": "stream",
       "stream": "stdout",
       "text": [
        " 92 is finished being recorded\n",
        "Image frame comparison #"
       ]
      },
      {
       "output_type": "stream",
       "stream": "stdout",
       "text": [
        " 93 is finished being recorded\n",
        "Image frame comparison #"
       ]
      },
      {
       "output_type": "stream",
       "stream": "stdout",
       "text": [
        " 94 is finished being recorded\n",
        "Image frame comparison #"
       ]
      },
      {
       "output_type": "stream",
       "stream": "stdout",
       "text": [
        " 95 is finished being recorded\n",
        "Image frame comparison #"
       ]
      },
      {
       "output_type": "stream",
       "stream": "stdout",
       "text": [
        " 96 is finished being recorded\n",
        "Image frame comparison #"
       ]
      },
      {
       "output_type": "stream",
       "stream": "stdout",
       "text": [
        " 97 is finished being recorded\n",
        "Image frame comparison #"
       ]
      },
      {
       "output_type": "stream",
       "stream": "stdout",
       "text": [
        " 98 is finished being recorded\n",
        "Image frame comparison #"
       ]
      },
      {
       "output_type": "stream",
       "stream": "stdout",
       "text": [
        " 99 is finished being recorded\n",
        "Image frame comparison #"
       ]
      },
      {
       "output_type": "stream",
       "stream": "stdout",
       "text": [
        " 100 is finished being recorded\n",
        "Image frame comparison #"
       ]
      },
      {
       "output_type": "stream",
       "stream": "stdout",
       "text": [
        " 101 is finished being recorded\n",
        "Image frame comparison #"
       ]
      },
      {
       "output_type": "stream",
       "stream": "stdout",
       "text": [
        " 102 is finished being recorded\n",
        "Image frame comparison #"
       ]
      },
      {
       "output_type": "stream",
       "stream": "stdout",
       "text": [
        " 103 is finished being recorded\n",
        "Image frame comparison #"
       ]
      },
      {
       "output_type": "stream",
       "stream": "stdout",
       "text": [
        " 104 is finished being recorded\n",
        "Image frame comparison #"
       ]
      },
      {
       "output_type": "stream",
       "stream": "stdout",
       "text": [
        " 105 is finished being recorded\n",
        "Image frame comparison #"
       ]
      },
      {
       "output_type": "stream",
       "stream": "stdout",
       "text": [
        " 106 is finished being recorded\n",
        "Image frame comparison #"
       ]
      },
      {
       "output_type": "stream",
       "stream": "stdout",
       "text": [
        " 107 is finished being recorded\n",
        "Image frame comparison #"
       ]
      },
      {
       "output_type": "stream",
       "stream": "stdout",
       "text": [
        " 108 is finished being recorded\n",
        "Image frame comparison #"
       ]
      },
      {
       "output_type": "stream",
       "stream": "stdout",
       "text": [
        " 109 is finished being recorded\n",
        "Image frame comparison #"
       ]
      },
      {
       "output_type": "stream",
       "stream": "stdout",
       "text": [
        " 110 is finished being recorded\n",
        "Image frame comparison #"
       ]
      },
      {
       "output_type": "stream",
       "stream": "stdout",
       "text": [
        " 111 is finished being recorded\n",
        "Image frame comparison #"
       ]
      },
      {
       "output_type": "stream",
       "stream": "stdout",
       "text": [
        " 112 is finished being recorded\n",
        "Image frame comparison #"
       ]
      },
      {
       "output_type": "stream",
       "stream": "stdout",
       "text": [
        " 113 is finished being recorded\n",
        "Image frame comparison #"
       ]
      },
      {
       "output_type": "stream",
       "stream": "stdout",
       "text": [
        " 114 is finished being recorded\n",
        "Image frame comparison #"
       ]
      },
      {
       "output_type": "stream",
       "stream": "stdout",
       "text": [
        " 115 is finished being recorded\n",
        "Image frame comparison #"
       ]
      },
      {
       "output_type": "stream",
       "stream": "stdout",
       "text": [
        " 116 is finished being recorded\n",
        "Image frame comparison #"
       ]
      },
      {
       "output_type": "stream",
       "stream": "stdout",
       "text": [
        " 117 is finished being recorded\n",
        "Image frame comparison #"
       ]
      },
      {
       "output_type": "stream",
       "stream": "stdout",
       "text": [
        " 118 is finished being recorded\n",
        "Image frame comparison #"
       ]
      },
      {
       "output_type": "stream",
       "stream": "stdout",
       "text": [
        " 119 is finished being recorded\n",
        "Image frame comparison #"
       ]
      },
      {
       "output_type": "stream",
       "stream": "stdout",
       "text": [
        " 120 is finished being recorded\n",
        "Image frame comparison #"
       ]
      },
      {
       "output_type": "stream",
       "stream": "stdout",
       "text": [
        " 121 is finished being recorded\n",
        "Image frame comparison #"
       ]
      },
      {
       "output_type": "stream",
       "stream": "stdout",
       "text": [
        " 122 is finished being recorded\n",
        "Image frame comparison #"
       ]
      },
      {
       "output_type": "stream",
       "stream": "stdout",
       "text": [
        " 123 is finished being recorded\n",
        "Image frame comparison #"
       ]
      },
      {
       "output_type": "stream",
       "stream": "stdout",
       "text": [
        " 124 is finished being recorded\n",
        "Image frame comparison #"
       ]
      },
      {
       "output_type": "stream",
       "stream": "stdout",
       "text": [
        " 125 is finished being recorded\n",
        "Image frame comparison #"
       ]
      },
      {
       "output_type": "stream",
       "stream": "stdout",
       "text": [
        " 126 is finished being recorded\n",
        "Image frame comparison #"
       ]
      },
      {
       "output_type": "stream",
       "stream": "stdout",
       "text": [
        " 127 is finished being recorded\n",
        "Image frame comparison #"
       ]
      },
      {
       "output_type": "stream",
       "stream": "stdout",
       "text": [
        " 128 is finished being recorded\n",
        "Image frame comparison #"
       ]
      },
      {
       "output_type": "stream",
       "stream": "stdout",
       "text": [
        " 129 is finished being recorded\n",
        "Image frame comparison #"
       ]
      },
      {
       "output_type": "stream",
       "stream": "stdout",
       "text": [
        " 130 is finished being recorded\n",
        "Image frame comparison #"
       ]
      },
      {
       "output_type": "stream",
       "stream": "stdout",
       "text": [
        " 131 is finished being recorded\n",
        "Image frame comparison #"
       ]
      },
      {
       "output_type": "stream",
       "stream": "stdout",
       "text": [
        " 132 is finished being recorded\n",
        "Image frame comparison #"
       ]
      },
      {
       "output_type": "stream",
       "stream": "stdout",
       "text": [
        " 133 is finished being recorded\n",
        "Image frame comparison #"
       ]
      },
      {
       "output_type": "stream",
       "stream": "stdout",
       "text": [
        " 134 is finished being recorded\n",
        "Image frame comparison #"
       ]
      },
      {
       "output_type": "stream",
       "stream": "stdout",
       "text": [
        " 135 is finished being recorded\n",
        "Image frame comparison #"
       ]
      },
      {
       "output_type": "stream",
       "stream": "stdout",
       "text": [
        " 136 is finished being recorded\n",
        "Image frame comparison #"
       ]
      },
      {
       "output_type": "stream",
       "stream": "stdout",
       "text": [
        " 137 is finished being recorded\n",
        "Image frame comparison #"
       ]
      },
      {
       "output_type": "stream",
       "stream": "stdout",
       "text": [
        " 138 is finished being recorded\n",
        "Image frame comparison #"
       ]
      },
      {
       "output_type": "stream",
       "stream": "stdout",
       "text": [
        " 139 is finished being recorded\n",
        "Image frame comparison #"
       ]
      },
      {
       "output_type": "stream",
       "stream": "stdout",
       "text": [
        " 140 is finished being recorded\n",
        "Image frame comparison #"
       ]
      },
      {
       "output_type": "stream",
       "stream": "stdout",
       "text": [
        " 141 is finished being recorded\n",
        "Image frame comparison #"
       ]
      },
      {
       "output_type": "stream",
       "stream": "stdout",
       "text": [
        " 142 is finished being recorded\n",
        "Image frame comparison #"
       ]
      },
      {
       "output_type": "stream",
       "stream": "stdout",
       "text": [
        " 143 is finished being recorded\n",
        "Image frame comparison #"
       ]
      },
      {
       "output_type": "stream",
       "stream": "stdout",
       "text": [
        " 144 is finished being recorded\n",
        "Image frame comparison #"
       ]
      },
      {
       "output_type": "stream",
       "stream": "stdout",
       "text": [
        " 145 is finished being recorded\n",
        "Image frame comparison #"
       ]
      },
      {
       "output_type": "stream",
       "stream": "stdout",
       "text": [
        " 146 is finished being recorded\n",
        "Image frame comparison #"
       ]
      },
      {
       "output_type": "stream",
       "stream": "stdout",
       "text": [
        " 147 is finished being recorded\n",
        "Image frame comparison #"
       ]
      },
      {
       "output_type": "stream",
       "stream": "stdout",
       "text": [
        " 148 is finished being recorded\n",
        "Image frame comparison #"
       ]
      },
      {
       "output_type": "stream",
       "stream": "stdout",
       "text": [
        " 149 is finished being recorded\n",
        "Image frame comparison #"
       ]
      },
      {
       "output_type": "stream",
       "stream": "stdout",
       "text": [
        " 150 is finished being recorded\n",
        "Image frame comparison #"
       ]
      },
      {
       "output_type": "stream",
       "stream": "stdout",
       "text": [
        " 151 is finished being recorded\n",
        "Image frame comparison #"
       ]
      },
      {
       "output_type": "stream",
       "stream": "stdout",
       "text": [
        " 152 is finished being recorded\n",
        "Image frame comparison #"
       ]
      },
      {
       "output_type": "stream",
       "stream": "stdout",
       "text": [
        " 153 is finished being recorded\n",
        "Image frame comparison #"
       ]
      },
      {
       "output_type": "stream",
       "stream": "stdout",
       "text": [
        " 154 is finished being recorded\n",
        "Image frame comparison #"
       ]
      },
      {
       "output_type": "stream",
       "stream": "stdout",
       "text": [
        " 155 is finished being recorded\n",
        "Image frame comparison #"
       ]
      },
      {
       "output_type": "stream",
       "stream": "stdout",
       "text": [
        " 156 is finished being recorded\n",
        "Image frame comparison #"
       ]
      },
      {
       "output_type": "stream",
       "stream": "stdout",
       "text": [
        " 157 is finished being recorded\n",
        "Image frame comparison #"
       ]
      },
      {
       "output_type": "stream",
       "stream": "stdout",
       "text": [
        " 158 is finished being recorded\n",
        "Image frame comparison #"
       ]
      },
      {
       "output_type": "stream",
       "stream": "stdout",
       "text": [
        " 159 is finished being recorded\n",
        "Image frame comparison #"
       ]
      },
      {
       "output_type": "stream",
       "stream": "stdout",
       "text": [
        " 160 is finished being recorded\n",
        "Image frame comparison #"
       ]
      },
      {
       "output_type": "stream",
       "stream": "stdout",
       "text": [
        " 161 is finished being recorded\n",
        "Image frame comparison #"
       ]
      },
      {
       "output_type": "stream",
       "stream": "stdout",
       "text": [
        " 162 is finished being recorded\n",
        "Image frame comparison #"
       ]
      },
      {
       "output_type": "stream",
       "stream": "stdout",
       "text": [
        " 163 is finished being recorded\n",
        "Image frame comparison #"
       ]
      },
      {
       "output_type": "stream",
       "stream": "stdout",
       "text": [
        " 164 is finished being recorded\n",
        "Image frame comparison #"
       ]
      },
      {
       "output_type": "stream",
       "stream": "stdout",
       "text": [
        " 165 is finished being recorded\n",
        "Image frame comparison #"
       ]
      },
      {
       "output_type": "stream",
       "stream": "stdout",
       "text": [
        " 166 is finished being recorded\n",
        "Image frame comparison #"
       ]
      },
      {
       "output_type": "stream",
       "stream": "stdout",
       "text": [
        " 167 is finished being recorded\n",
        "Image frame comparison #"
       ]
      },
      {
       "output_type": "stream",
       "stream": "stdout",
       "text": [
        " 168 is finished being recorded\n",
        "Image frame comparison #"
       ]
      },
      {
       "output_type": "stream",
       "stream": "stdout",
       "text": [
        " 169 is finished being recorded\n",
        "Image frame comparison #"
       ]
      },
      {
       "output_type": "stream",
       "stream": "stdout",
       "text": [
        " 170 is finished being recorded\n",
        "Image frame comparison #"
       ]
      },
      {
       "output_type": "stream",
       "stream": "stdout",
       "text": [
        " 171 is finished being recorded\n",
        "Image frame comparison #"
       ]
      },
      {
       "output_type": "stream",
       "stream": "stdout",
       "text": [
        " 172 is finished being recorded\n",
        "Image frame comparison #"
       ]
      },
      {
       "output_type": "stream",
       "stream": "stdout",
       "text": [
        " 173 is finished being recorded\n",
        "Image frame comparison #"
       ]
      },
      {
       "output_type": "stream",
       "stream": "stdout",
       "text": [
        " 174 is finished being recorded\n",
        "Image frame comparison #"
       ]
      },
      {
       "output_type": "stream",
       "stream": "stdout",
       "text": [
        " 175 is finished being recorded\n",
        "Image frame comparison #"
       ]
      },
      {
       "output_type": "stream",
       "stream": "stdout",
       "text": [
        " 176 is finished being recorded\n",
        "Image frame comparison #"
       ]
      },
      {
       "output_type": "stream",
       "stream": "stdout",
       "text": [
        " 177 is finished being recorded\n",
        "Image frame comparison #"
       ]
      },
      {
       "output_type": "stream",
       "stream": "stdout",
       "text": [
        " 178 is finished being recorded\n",
        "Image frame comparison #"
       ]
      },
      {
       "output_type": "stream",
       "stream": "stdout",
       "text": [
        " 179 is finished being recorded\n",
        "Image frame comparison #"
       ]
      },
      {
       "output_type": "stream",
       "stream": "stdout",
       "text": [
        " 180 is finished being recorded\n",
        "Image frame comparison #"
       ]
      },
      {
       "output_type": "stream",
       "stream": "stdout",
       "text": [
        " 181 is finished being recorded\n",
        "Image frame comparison #"
       ]
      },
      {
       "output_type": "stream",
       "stream": "stdout",
       "text": [
        " 182 is finished being recorded\n",
        "Image frame comparison #"
       ]
      },
      {
       "output_type": "stream",
       "stream": "stdout",
       "text": [
        " 183 is finished being recorded\n",
        "Image frame comparison #"
       ]
      },
      {
       "output_type": "stream",
       "stream": "stdout",
       "text": [
        " 184 is finished being recorded\n",
        "Image frame comparison #"
       ]
      },
      {
       "output_type": "stream",
       "stream": "stdout",
       "text": [
        " 185 is finished being recorded\n",
        "Image frame comparison #"
       ]
      },
      {
       "output_type": "stream",
       "stream": "stdout",
       "text": [
        " 186 is finished being recorded\n",
        "Image frame comparison #"
       ]
      },
      {
       "output_type": "stream",
       "stream": "stdout",
       "text": [
        " 187 is finished being recorded\n",
        "Image frame comparison #"
       ]
      },
      {
       "output_type": "stream",
       "stream": "stdout",
       "text": [
        " 188 is finished being recorded\n",
        "Image frame comparison #"
       ]
      },
      {
       "output_type": "stream",
       "stream": "stdout",
       "text": [
        " 189 is finished being recorded\n",
        "Image frame comparison #"
       ]
      },
      {
       "output_type": "stream",
       "stream": "stdout",
       "text": [
        " 190 is finished being recorded\n",
        "Image frame comparison #"
       ]
      },
      {
       "output_type": "stream",
       "stream": "stdout",
       "text": [
        " 191 is finished being recorded\n",
        "Image frame comparison #"
       ]
      },
      {
       "output_type": "stream",
       "stream": "stdout",
       "text": [
        " 192 is finished being recorded\n",
        "Image frame comparison #"
       ]
      },
      {
       "output_type": "stream",
       "stream": "stdout",
       "text": [
        " 193 is finished being recorded\n",
        "Image frame comparison #"
       ]
      },
      {
       "output_type": "stream",
       "stream": "stdout",
       "text": [
        " 194 is finished being recorded\n",
        "Image frame comparison #"
       ]
      },
      {
       "output_type": "stream",
       "stream": "stdout",
       "text": [
        " 195 is finished being recorded\n",
        "Image frame comparison #"
       ]
      },
      {
       "output_type": "stream",
       "stream": "stdout",
       "text": [
        " 196 is finished being recorded\n",
        "Image frame comparison #"
       ]
      },
      {
       "output_type": "stream",
       "stream": "stdout",
       "text": [
        " 197 is finished being recorded\n",
        "Image frame comparison #"
       ]
      },
      {
       "output_type": "stream",
       "stream": "stdout",
       "text": [
        " 198 is finished being recorded\n",
        "All Displacement Comparisons have finished\n"
       ]
      }
     ],
     "prompt_number": 15
    },
    {
     "cell_type": "heading",
     "level": 3,
     "metadata": {},
     "source": [
      "Challenge 3 - Data Analysis"
     ]
    },
    {
     "cell_type": "code",
     "collapsed": false,
     "input": [
      "## Following the problem \"Write a function that reads in the displacements from the data file and computes an estimate of \n",
      "## Boltzmann's constant and Avogadro's number using the formulas described above. \n",
      "## Output formats. Use four digits to the right of the decimal \n",
      "## place for all of your floating point outputs whether they are in floating point format or exponential format.\n",
      "def DataAnalysis(ANRun):\n",
      "    \"\"\" This function reads in the displacements from a given data file,\n",
      "    computes the average displacement of the data file, computes an estimate \n",
      "    of Boltzmann's constant and Avagadro's Number and finally prints out the results\"\"\"\n",
      "    #Average Displacement computation\n",
      "    def Displacement(ANRun):\n",
      "        avgdisplacements = np.loadtxt(ANRun)\n",
      "        avgdisplacements *= 0.175 * (10**-6) \n",
      "        return (avgdisplacements ** 2).sum() / (2*avgdisplacements.size)\n",
      "    #Boltzmann's Constant computation\n",
      "    def Boltzmann(ANRun):\n",
      "        eta = 9.135 * (10**-4) \n",
      "        radius = .5 * (10**-6) \n",
      "        Temp = 297 \n",
      "        return 6*np.pi*eta*radius*Displacement(ANRun) / Temp\n",
      "    #Avogadro's Constant Computation\n",
      "    def Avogadro(ANRun):\n",
      "        R = 8.31457 \n",
      "        k = Boltzmann(ANRun)\n",
      "        return R/k\n",
      "    #Printing out everything\n",
      "    print 'The average displacement of the data file is:'\n",
      "    x = Displacement('ANRun4Data.dat')\n",
      "    #\"{0:.4e}\" is how you format the result to 4 decimal points in\n",
      "    # an exponential format\n",
      "    print \"{0:.4e}\".format(x)\n",
      "    print 'Meters per Pixel'\n",
      "    print\n",
      "    print 'The estimated Avogadros number of the data file is:'\n",
      "    y = Avogadro('ANRun4Data.dat')\n",
      "    print \"{0:.4e}\".format(y)\n",
      "    print 'Molecules per Mole'\n",
      "    print\n",
      "    print 'The estimated Boltzmann constant of the data file is:'\n",
      "    z = Boltzmann('ANRun4Data.dat')\n",
      "    print \"{0:.4e}\".format(z)\n",
      "    print 'Joules per Kelvin'"
     ],
     "language": "python",
     "metadata": {},
     "outputs": [],
     "prompt_number": 16
    },
    {
     "cell_type": "code",
     "collapsed": false,
     "input": [
      "DataAnalysis('ANRun4Data.dat')"
     ],
     "language": "python",
     "metadata": {},
     "outputs": [
      {
       "output_type": "stream",
       "stream": "stdout",
       "text": [
        "The average displacement of the data file is:\n",
        "4.4830e-13\n",
        "Meters per Pixel\n",
        "\n",
        "The estimated Avogadros number of the data file is:\n",
        "6.3981e+23\n",
        "Molecules per Mole\n",
        "\n",
        "The estimated Boltzmann constant of the data file is:\n",
        "1.2995e-23\n",
        "Joules per Kelvin\n"
       ]
      }
     ],
     "prompt_number": 18
    },
    {
     "cell_type": "markdown",
     "metadata": {},
     "source": [
      "This is around 6.25 percent error for my data file, which is pretty good"
     ]
    },
    {
     "cell_type": "code",
     "collapsed": false,
     "input": [],
     "language": "python",
     "metadata": {},
     "outputs": []
    }
   ],
   "metadata": {}
  }
 ]
}