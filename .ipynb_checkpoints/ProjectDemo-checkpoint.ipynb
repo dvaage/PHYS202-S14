{
 "metadata": {
  "name": "",
  "signature": "sha256:22d9f274ab9109b9e501392a954febb9bed1d2c5a98c77ac94c28adac408e4c5"
 },
 "nbformat": 3,
 "nbformat_minor": 0,
 "worksheets": [
  {
   "cells": [
    {
     "cell_type": "heading",
     "level": 1,
     "metadata": {},
     "source": [
      "For Final Demonstration Purposes:"
     ]
    },
    {
     "cell_type": "code",
     "collapsed": false,
     "input": [
      "%pylab inline"
     ],
     "language": "python",
     "metadata": {},
     "outputs": [
      {
       "output_type": "stream",
       "stream": "stdout",
       "text": [
        "Populating the interactive namespace from numpy and matplotlib\n"
       ]
      }
     ],
     "prompt_number": 1
    },
    {
     "cell_type": "heading",
     "level": 3,
     "metadata": {},
     "source": [
      "Challenge 1 - Particle Identification"
     ]
    },
    {
     "cell_type": "code",
     "collapsed": false,
     "input": [
      "%%file BlobFinder.py\n",
      "##Devin Vaage's Version of the BlobFinder python module \n",
      "##\n",
      "##\n",
      "##This module follows the suggested code structure from the Particle Identification\n",
      "##section of the Avagadros Number project\n",
      "##\n",
      "##\n",
      "##\n",
      "import matplotlib as plt\n",
      "from PIL import Image\n",
      "#Create a python module called Blobfinder.py that \n",
      "#includes a class Blob() (following the suggested code structure)\n",
      "class Blob():\n",
      "    def __init__(self):\n",
      "        \"\"\"construct an empty blob\"\"\"\n",
      "        self.pixels = []\n",
      "    def add(self, i, j):\n",
      "        \"\"\"add a pixel (i, j) to the blob\"\"\"\n",
      "        self.pixels.append((i,j))\n",
      "    def mass(self):\n",
      "        \"\"\"return number of pixels added = its mass\"\"\"\n",
      "        return len(self.pixels)\n",
      "    def centerOfMass(self):\n",
      "        \"\"\"return tuple of (x,y) values for this blob's center \n",
      "        of mass format center-of-mass coordinates with 4 digits \n",
      "        to right of decimal point\"\"\"\n",
      "        xsum = ysum = 0\n",
      "        for pixel in self.pixels:\n",
      "            xsum += pixel[0]\n",
      "            ysum += pixel[1]\n",
      "        return (xsum / len(self.pixels), ysum / len(self.pixels))\n",
      "    def distanceTo(self, blob):\n",
      "        \"\"\"For particle tracking purposes, returns displacement\"\"\"\n",
      "        return round(((self.centerOfMass()[0] - blob.centerOfMass()[0]) ** 2 + \\\n",
      "                    (self.centerOfMass()[1] - blob.centerOfMass()[1]) ** 2) ** .5, 4)\n",
      "\n",
      "    \n",
      "#effectively applying the monochrome filter from counting stars\n",
      "#to each image allows the blobs to be found more easily. \n",
      "\n",
      "def monochrome(picture, tau): #this comes from the counting stars tour\n",
      "    \"\"\"Sets background to white and pixels above threshold to black\"\"\"\n",
      "    temp = picture.load()\n",
      "    xsize, ysize = picture.size\n",
      "    for x in range(xsize):\n",
      "        for y in range(ysize):\n",
      "            r,g,b = temp[x,y]\n",
      "            if r+g+b >= tau:\n",
      "                temp[x,y] = (0,0,0)\n",
      "            else:\n",
      "                temp[x,y] = (255,255,255)\n",
      "                \n",
      "def fillBlob(picture, xsize, ysize, xstart, ystart):\n",
      "    \"\"\"each call to 'fillBlob' takes care of one pixel in the blob,\n",
      "    then calls 'fillBlob' again to take care of the neighbors\"\"\"\n",
      "    BLACK = (0,0,0)\n",
      "    RED = (255,0,0)\n",
      "    queue = [(xstart,ystart)]\n",
      "    blob = Blob()\n",
      "    blob.add(xstart, ystart)\n",
      "    while queue:\n",
      "        x,y,queue = queue[0][0], queue[0][1], queue[1:]\n",
      "        if picture[x,y] == BLACK:\n",
      "            picture[x,y] = RED\n",
      "            blob.add(x,y)\n",
      "            if x > 0:\n",
      "                 queue.append((x-1,y))\n",
      "            if x < (xsize-1):\n",
      "                 queue.append((x+1,y))\n",
      "            if y > 0:\n",
      "                 queue.append((x, y-1))\n",
      "            if y < (ysize-1):\n",
      "                queue.append((x, y+1))\n",
      "    return blob\n",
      "\n",
      "def BlobFinder(picture, tau):\n",
      "    \"\"\"find all blobs in the picture using a given Tau\"\"\"\n",
      "    blobs = []\n",
      "    xsize, ysize = picture.size\n",
      "    temp = picture.load()\n",
      "    BLACK = (0,0,0)\n",
      "    RED = (255,0,0)\n",
      "    #replacing the RGB values of each with either \n",
      "    #black or white depending on whether its total \n",
      "    #luminance, tau\n",
      "    monochrome(picture, tau)\n",
      "    for x in range(xsize):\n",
      "        for y in range(ysize):\n",
      "            if temp[x,y] == BLACK:\n",
      "                blobs.append(fillBlob(temp,xsize,ysize,x,y))\n",
      "    return blobs\n",
      "\n",
      "#following the suggest code structure:\n",
      "def countBeads(P, blobs):\n",
      "    \"\"\"return the number of beads with >= P pixels\"\"\"\n",
      "    bead_count = 0\n",
      "    for blob in blobs:\n",
      "        if blob.mass() >= P:\n",
      "            bead_count += 1\n",
      "    return bead_count\n",
      "\n",
      "#following the suggest code structure:\n",
      "def getBeads(P, blobs):\n",
      "    \"\"\"return all beads with >= P pixels\"\"\"\n",
      "    beads = []\n",
      "    for blob in blobs:\n",
      "        if blob.mass() >= P:\n",
      "            beads.append(blob)\n",
      "    return beads"
     ],
     "language": "python",
     "metadata": {},
     "outputs": [
      {
       "output_type": "stream",
       "stream": "stdout",
       "text": [
        "Overwriting BlobFinder.py\n"
       ]
      }
     ],
     "prompt_number": 2
    },
    {
     "cell_type": "heading",
     "level": 3,
     "metadata": {},
     "source": [
      "Challenge 2 - Particle Tracking"
     ]
    },
    {
     "cell_type": "code",
     "collapsed": false,
     "input": [
      "from BlobFinder import *"
     ],
     "language": "python",
     "metadata": {},
     "outputs": [],
     "prompt_number": 3
    },
    {
     "cell_type": "code",
     "collapsed": false,
     "input": [
      "def compareFrames(frame1, frame2, P, tau, deltaP):\n",
      "    \"\"\"Returns the displacement of each particle from one frame to the next\"\"\"\n",
      "    f1 = Image.open(frame1)\n",
      "    frame1_blobs = getBeads(P, BlobFinder(f1, tau))\n",
      "    f2 = Image.open(frame2)\n",
      "    frame2_blobs = getBeads(P, BlobFinder(f2, tau))\n",
      "    displacements = []\n",
      "    \n",
      "    #Start with a blob in frame1, and find the closet blob in frame2 within distance deltaP.\n",
      "    #Add to displacements list and remove blobs\n",
      "    for i in range(len(frame1_blobs)):\n",
      "        min_dr = deltaP\n",
      "        for j in range(len(frame2_blobs)):\n",
      "            dr = frame1_blobs[i].distanceTo(frame2_blobs[j])\n",
      "            if(dr < min_dr):\n",
      "                min_dr = dr\n",
      "                closestBlob = j\n",
      "        if min_dr < deltaP:\n",
      "            #print frame1_blobs[i].centerOfMass(), frame2_blobs[closestBlob].centerOfMass()\n",
      "            displacements.append(str(min_dr)+'\\n')          \n",
      "            del frame2_blobs[closestBlob]\n",
      "    return displacements\n",
      "        \n",
      "def record_motion(P, tau, deltaP, images, out_file_name):\n",
      "    displacements = []\n",
      "    out = open(out_file_name, 'w')\n",
      "    for i in xrange(len(images) - 1):\n",
      "        displacements += compareFrames(images[i], images[i+1], P, tau, deltaP)\n",
      "        print \"Image frame comparison #\", i, \"is finished being recorded\"\n",
      "    out.writelines(displacements)\n",
      "    out.close()"
     ],
     "language": "python",
     "metadata": {},
     "outputs": [],
     "prompt_number": 4
    },
    {
     "cell_type": "code",
     "collapsed": false,
     "input": [
      "P = 25\n",
      "tau = 700\n",
      "deltaP = 20\n",
      "#This is the for loop work for the Run4 data\n",
      "for k in range(4, 5):\n",
      "    frames = []\n",
      "    for i in range(201):\n",
      "        num = '00'\n",
      "        for j in range(3 - len(str(i))):\n",
      "            num += '0'\n",
      "        num += str(i)\n",
      "        frames.append('RunData/run'+str(k)+'/frame%s.jpg' % num) \n",
      "        \n",
      "    out_file = 'ANRun' + str(k) + 'Data' + '.dat'\n",
      "    record_motion(P, tau, deltaP, frames, out_file)\n",
      "    print 'All Displacement Comparisons have finished'"
     ],
     "language": "python",
     "metadata": {},
     "outputs": []
    },
    {
     "cell_type": "heading",
     "level": 3,
     "metadata": {},
     "source": [
      "Challenge 3 - Data Analysis"
     ]
    },
    {
     "cell_type": "code",
     "collapsed": false,
     "input": [
      "def DataAnalysis(ANRun):\n",
      "    \"\"\" This function reads in the displacements from a given data file,\n",
      "    computes the average displacement of the data file, computes an estimate \n",
      "    of Boltzmann's constant and Avagadro's Number and finally prints out the results\"\"\"\n",
      "    #Average Displacement computation\n",
      "    def Displacement(ANRun):\n",
      "        avgdisplacements = np.loadtxt(ANRun)\n",
      "        avgdisplacements *= 0.175 * (10**-6) \n",
      "        return (avgdisplacements ** 2).sum() / (2*avgdisplacements.size)\n",
      "    #Boltzmann's Constant computation\n",
      "    def Boltzmann(ANRun):\n",
      "        eta = 9.135 * (10**-4) \n",
      "        radius = .5 * (10**-6) \n",
      "        Temp = 297 \n",
      "        return 6*np.pi*eta*radius*Displacement(ANRun) / Temp\n",
      "    #Avogadro's Constant Computation\n",
      "    def Avogadro(ANRun):\n",
      "        R = 8.31457 \n",
      "        k = Boltzmann(ANRun)\n",
      "        return R/k\n",
      "    #Printing out everything\n",
      "    print 'The average displacement of the data file is:'\n",
      "    x = Displacement('ANRun4Data.dat')\n",
      "    print \"{0:.4e}\".format(x)\n",
      "    print 'Meters per Pixel'\n",
      "    print\n",
      "    print 'The estimated Avogadros number of the data file is:'\n",
      "    y = Avogadro('ANRun4Data.dat')\n",
      "    print \"{0:.4e}\".format(y)\n",
      "    print 'Molecules per Mole'\n",
      "    print\n",
      "    print 'The estimated Boltzmann constant of the data file is:'\n",
      "    z = Boltzmann('ANRun4Data.dat')\n",
      "    print \"{0:.4e}\".format(z)\n",
      "    print 'Joules per Kelvin'"
     ],
     "language": "python",
     "metadata": {},
     "outputs": [],
     "prompt_number": 6
    },
    {
     "cell_type": "code",
     "collapsed": false,
     "input": [
      "DataAnalysis('ANRun4Data.dat')"
     ],
     "language": "python",
     "metadata": {},
     "outputs": [
      {
       "output_type": "stream",
       "stream": "stdout",
       "text": [
        "The average displacement of the data file is:\n",
        "nan\n",
        "Meters per Pixel\n",
        "\n",
        "The estimated Avogadros number of the data file is:\n",
        "nan\n",
        "Molecules per Mole\n",
        "\n",
        "The estimated Boltzmann constant of the data file is:\n",
        "nan\n",
        "Joules per Kelvin\n"
       ]
      },
      {
       "output_type": "stream",
       "stream": "stderr",
       "text": [
        "/Users/devinvaage/anaconda/lib/python2.7/site-packages/numpy/lib/npyio.py:809: UserWarning: loadtxt: Empty input file: \"ANRun4Data.dat\"\n",
        "  warnings.warn('loadtxt: Empty input file: \"%s\"' % fname)\n",
        "-c:9: RuntimeWarning: invalid value encountered in double_scalars\n"
       ]
      }
     ],
     "prompt_number": 7
    },
    {
     "cell_type": "code",
     "collapsed": false,
     "input": [],
     "language": "python",
     "metadata": {},
     "outputs": []
    }
   ],
   "metadata": {}
  }
 ]
}