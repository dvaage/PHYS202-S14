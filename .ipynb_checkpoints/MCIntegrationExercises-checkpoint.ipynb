{
 "metadata": {
  "name": "",
  "signature": "sha256:259086809590dcd626dc71aa92c011214ac82e2ff24ab29a8402e8b69c26ec5b"
 },
 "nbformat": 3,
 "nbformat_minor": 0,
 "worksheets": [
  {
   "cells": [
    {
     "cell_type": "heading",
     "level": 1,
     "metadata": {},
     "source": [
      "Monte Carlo Integration Exercises"
     ]
    },
    {
     "cell_type": "code",
     "collapsed": false,
     "input": [
      "%pylab inline\n",
      "from Electrostatics import *\n",
      "from IPython.html.widgets import interact, interactive\n",
      "import numpy as np\n",
      "import matplotlib.pyplot as plt\n",
      "from matplotlib import cm\n",
      "from mpl_toolkits.mplot3d.axes3d import Axes3D"
     ],
     "language": "python",
     "metadata": {},
     "outputs": [
      {
       "output_type": "stream",
       "stream": "stdout",
       "text": [
        "Populating the interactive namespace from numpy and matplotlib\n"
       ]
      }
     ],
     "prompt_number": 1
    },
    {
     "cell_type": "code",
     "collapsed": false,
     "input": [
      "!cat Electrostatics.py"
     ],
     "language": "python",
     "metadata": {},
     "outputs": [
      {
       "output_type": "stream",
       "stream": "stdout",
       "text": [
        "\r\n",
        "import numpy as np\r\n",
        "def pointPotential(x,y,q,Xc,Yc):\r\n",
        "\r\n",
        "    k = 8.987551787997912e9                                                                      \r\n",
        "    Vxy = k*q/np.sqrt(((x-Xc)**2 + (y-Yc)**2))\r\n",
        "    return Vxy\r\n",
        "\r\n",
        "def dipolePotential(x,y,q,d):\r\n",
        " \r\n",
        "    Vxy=pointPotential(x,y,q,-d/2.,0.) + pointPotential(x,y,-q,+d/2.,0.)\r\n",
        "    return Vxy"
       ]
      }
     ],
     "prompt_number": 2
    },
    {
     "cell_type": "code",
     "collapsed": false,
     "input": [
      "k = 8.987551787997912e9\n",
      "sigma = 2e-6\n",
      "rb = 1.2\n",
      "theta = 2*np.pi\n",
      "f =  lambda r,theta: k*sigma*r/(abs(r-rb))"
     ],
     "language": "python",
     "metadata": {},
     "outputs": [],
     "prompt_number": 21
    },
    {
     "cell_type": "markdown",
     "metadata": {},
     "source": [
      "Question 1\n",
      "\n",
      "Let\u2019s compute the electric potential from a plane of charge as shown in the figure using Monte Carlo integration.\n",
      "\n",
      "The integral comes from summing all the potentials from the chunks of \u201cpoint\u201d charges. Just as we summed two charges for a dipole, now we\u2019ll sum many charges. The important part is to understand how dQ, modeled as a point charge, is related to \u03c3dA, where \u03c3 is the surface charge density = charge/area (\u03c3=Q/A ) Review your notes from PHYS 133 if you need a refresher.\n",
      "We want to use our previously defined pointPotential() function from Electrostatics.py, so we have to import it.\n"
     ]
    },
    {
     "cell_type": "markdown",
     "metadata": {},
     "source": [
      "(a) Use the sample mean method to compute the potential at point P(2,3) due to the disk of charge for different numbers of samples ($10^1$,$10^2$,$10^3$,$10^4$,$10^5$,$10^6$). Report the value and its statistical uncertainty for each sample size. How does the result depend on N?"
     ]
    },
    {
     "cell_type": "code",
     "collapsed": false,
     "input": [
      "#SETTING UP THE SAMPLE MEAN METHOD FUNCTION\n",
      "def samplemean(xmin=-1.0,xmax=1.0,ymin=0.0,ymax=2.0):\n",
      "    i = [1e1,1e2,1e3,1e4,1e5,1e6]\n",
      "    for N in i:\n",
      "        sigma = 1e-6\n",
      "        q = sigma\n",
      "        k = 8.987551787997912e9\n",
      "        f = lambda x,y : k*q/np.sqrt(((x-2.0)**2 +(y-3.0)**2))\n",
      "        samples_x = xmin + (xmax-xmin)*np.random.random_sample(N);\n",
      "        samples_y = ymin + (ymax-ymin)*np.random.random_sample(N);\n",
      "        approx = f(samples_x,samples_y)\n",
      "        I = approx.mean()*(xmax-xmin)*(ymax-ymin)\n",
      "        unc = (xmax-xmin) * (ymax-ymin) * np.sqrt(((approx**2).mean() - (approx.mean())**2)/N)\n",
      "        print \"For N = %d\"%(N)\n",
      "        print \"The Integral = %.5f\"%(I)\n",
      "        print \"Uncertainty %.6f\"%(unc)  \n",
      "samplemean()"
     ],
     "language": "python",
     "metadata": {},
     "outputs": [
      {
       "output_type": "stream",
       "stream": "stdout",
       "text": [
        "For N = 10\n",
        "The Integral = 13830.12027\n",
        "Uncertainty 696.834062\n",
        "For N = 100\n",
        "The Integral = 12692.38538\n",
        "Uncertainty 303.201953\n",
        "For N = 1000\n",
        "The Integral = 12991.64843\n",
        "Uncertainty 91.743118\n",
        "For N = 10000\n",
        "The Integral = 13035.56096\n",
        "Uncertainty 29.745238\n",
        "For N = 100000\n",
        "The Integral = 13031.56801\n",
        "Uncertainty 9.404694\n",
        "For N = 1000000"
       ]
      },
      {
       "output_type": "stream",
       "stream": "stdout",
       "text": [
        "\n",
        "The Integral = 13025.40783\n",
        "Uncertainty 2.969929\n"
       ]
      }
     ],
     "prompt_number": 23
    },
    {
     "cell_type": "markdown",
     "metadata": {},
     "source": [
      "(b) Now use the same method to compute the electric potential, V, at point P(2,3), from a disk centered on the origin with radius, R=1.2 m, and charge density, \u03c3 = 2 nC/m2 .\n",
      "\n",
      "The integral is\n",
      "V=\u222b2\u03c00\u222b1.20K\u03c3|r\u2212r0|rd\u03b8dr\n"
     ]
    },
    {
     "cell_type": "code",
     "collapsed": false,
     "input": [
      "#USING THE SAME METHOD TO COMPUTE THE ELECTRIC POTENTIAL AND CALCULATING ITS UNCERTAINTY \n",
      "i = [1e1,1e2,1e3,1e4,1e5,1e6]\n",
      "for N in i:\n",
      "    r = abs((rb * np.random.random_sample(N)) - (13)**0.5)\n",
      "    theta2 = theta * np.random.random_sample(N)\n",
      "    approx = f(r,theta)\n",
      "    I = rb * theta * approx.mean()\n",
      "    unc = rb * theta * np.sqrt(((approx**2).mean() - (approx.mean())**2)/N)\n",
      "    print \"For N = %d\"%(N)\n",
      "    print \"The Integral = %.5f\"%(I)\n",
      "    print \"Uncertainty %.6f\"%(unc) "
     ],
     "language": "python",
     "metadata": {},
     "outputs": [
      {
       "output_type": "stream",
       "stream": "stdout",
       "text": [
        "For N = 10\n",
        "The Integral = 236705.93142\n",
        "Uncertainty 5091.208409\n",
        "For N = 100\n",
        "The Integral = 232409.64610\n",
        "Uncertainty 1864.678151\n",
        "For N = 1000\n",
        "The Integral = 228930.14668\n",
        "Uncertainty 595.344637\n",
        "For N = 10000\n",
        "The Integral = 229203.50397\n",
        "Uncertainty 189.154424\n",
        "For N = 100000\n",
        "The Integral = 229050.23936\n",
        "Uncertainty 59.485129\n",
        "For N = 1000000"
       ]
      },
      {
       "output_type": "stream",
       "stream": "stdout",
       "text": [
        "\n",
        "The Integral = 229164.35398\n",
        "Uncertainty 18.844726\n"
       ]
      }
     ],
     "prompt_number": 24
    },
    {
     "cell_type": "markdown",
     "metadata": {},
     "source": [
      "Question 2\n",
      "\n",
      "Use the sample mean method to compute the volume of a sphere with radius 1 using spherical coordinates:\n",
      "V=\u222b10\u222b\u03c00\u222b2\u03c00r2sin(\u03b8)drd\u03b8d\u03d5\n",
      "for N=(101,102,103,104,105,106). Report the value and statistical uncertainty for each sample size. How does the result depend on N?"
     ]
    },
    {
     "cell_type": "code",
     "collapsed": false,
     "input": [
      "f =  lambda r,theta,phi: r**2 * np.sin(theta)\n",
      "thetab = np.pi\n",
      "phib = 2*np.pi"
     ],
     "language": "python",
     "metadata": {},
     "outputs": [],
     "prompt_number": 26
    },
    {
     "cell_type": "code",
     "collapsed": false,
     "input": [
      "#USING SPHERICAL COORDINATES THIS TIME\n",
      "i = [1e1,1e2,1e3,1e4,1e5,1e6]\n",
      "for N in i:\n",
      "    r = rb * np.random.random_sample(N)\n",
      "    theta = thetab * np.random.random_sample(N)\n",
      "    phi = phib * np.random.random_sample(N)\n",
      "    I = rb * thetab * phib * f(r,theta,phi).mean()\n",
      "    unc = rb * thetab * phib * np.sqrt(((f(r, theta, phi)**2).mean() - (f(r, theta, phi).mean())**2)/N)\n",
      "    print \"For N = %d\"%(N)\n",
      "    print \"The Integral = %.5f\"%(I)\n",
      "    print \"Uncertainty %.6f\"%(unc) "
     ],
     "language": "python",
     "metadata": {},
     "outputs": [
      {
       "output_type": "stream",
       "stream": "stdout",
       "text": [
        "For N = 10\n",
        "The Integral = 5.46357\n",
        "Uncertainty 1.891212\n",
        "For N = 100\n",
        "The Integral = 7.08387\n",
        "Uncertainty 0.779817\n",
        "For N = 1000\n",
        "The Integral = 7.08460\n",
        "Uncertainty 0.252176\n",
        "For N = 10000\n",
        "The Integral = 7.29934\n",
        "Uncertainty 0.080386\n",
        "For N = 100000\n",
        "The Integral = 7.21996\n",
        "Uncertainty 0.025282\n",
        "For N = 1000000"
       ]
      },
      {
       "output_type": "stream",
       "stream": "stdout",
       "text": [
        "\n",
        "The Integral = 7.22695\n",
        "Uncertainty 0.007991\n"
       ]
      }
     ],
     "prompt_number": 27
    },
    {
     "cell_type": "markdown",
     "metadata": {},
     "source": [
      "Question 3\n",
      "\n",
      "(a) Use the hit or miss Monte Carlo method to estimate the integral of f(x)=41\u2212x2\u203e\u203e\u203e\u203e\u203e\u203e\u203e\u221a in the interval 0\u2264x\u22641 as a function of N, the number of samples. Let N range from 101 to 106 and use at least 100 different values for N.\n",
      "(np.logspace might be useful here to get evenly spaced values for N.)"
     ]
    },
    {
     "cell_type": "code",
     "collapsed": false,
     "input": [
      "#UNFINISHED"
     ],
     "language": "python",
     "metadata": {},
     "outputs": [],
     "prompt_number": 5
    },
    {
     "cell_type": "markdown",
     "metadata": {},
     "source": [
      "(b) Calculate the percent error for the N values from part (a) using the exact result \u03c0. Make a log-log plot of the error as a function of N.\n",
      "What is the approximate functional dependence of the error on N for large N, for example N\u2265104?"
     ]
    },
    {
     "cell_type": "code",
     "collapsed": false,
     "input": [
      "#UNFINISHED"
     ],
     "language": "python",
     "metadata": {},
     "outputs": [],
     "prompt_number": 6
    },
    {
     "cell_type": "markdown",
     "metadata": {},
     "source": [
      "(c) Estimate the same integral using the sample mean method and compute the statistical uncertainty and error as a function of the number of samples N for N\u2265104. Use at least 100 different values for N.\n",
      "Make a log-log plot of both the statistical uncertainty and the error as a function of N.\n",
      "How many samples are needed to determine the result to two decimal places? What is the approximate functional dependence of the error on N for large N?"
     ]
    },
    {
     "cell_type": "code",
     "collapsed": false,
     "input": [
      "#UNFINISHED"
     ],
     "language": "python",
     "metadata": {},
     "outputs": [],
     "prompt_number": 28
    },
    {
     "cell_type": "code",
     "collapsed": false,
     "input": [],
     "language": "python",
     "metadata": {},
     "outputs": []
    }
   ],
   "metadata": {}
  }
 ]
}