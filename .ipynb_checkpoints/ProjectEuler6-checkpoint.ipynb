{
 "metadata": {
  "name": "",
  "signature": "sha256:5aa1e048f00da923c1403e56e6bd395ac1a1f873e0efe2eb75a2dd1afd45c007"
 },
 "nbformat": 3,
 "nbformat_minor": 0,
 "worksheets": []
}