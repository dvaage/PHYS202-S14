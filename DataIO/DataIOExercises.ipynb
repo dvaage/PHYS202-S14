{
 "metadata": {
  "name": "",
  "signature": "sha256:a280699bdc26caec5f7ccecc234ecebc122ddfa958aa0ea4a4f3113f6f528661"
 },
 "nbformat": 3,
 "nbformat_minor": 0,
 "worksheets": [
  {
   "cells": [
    {
     "cell_type": "heading",
     "level": 1,
     "metadata": {},
     "source": [
      "\"Data I/O Exercises\"."
     ]
    },
    {
     "cell_type": "code",
     "collapsed": false,
     "input": [
      "%pylab inline\n",
      "import numpy as np"
     ],
     "language": "python",
     "metadata": {},
     "outputs": [
      {
       "output_type": "stream",
       "stream": "stdout",
       "text": [
        "Populating the interactive namespace from numpy and matplotlib\n"
       ]
      }
     ],
     "prompt_number": 2
    },
    {
     "cell_type": "markdown",
     "metadata": {},
     "source": [
      "1. Here is some code that creates a comma-delimited file of numbers with random precision, leading spaces, and formatting:"
     ]
    },
    {
     "cell_type": "code",
     "collapsed": false,
     "input": [
      "# Don't modify this: it simply writes the example file\n",
      "f = open('messy_data.dat', 'w')\n",
      "import random\n",
      "for i in range(100):\n",
      "    for j in range(5):\n",
      "        f.write(' ' * random.randint(0, 6))\n",
      "        f.write('%0*.*g' % (random.randint(8, 12),\n",
      "                            random.randint(5, 10),\n",
      "                            100 * random.random()))\n",
      "        if j != 4:\n",
      "            f.write(',')\n",
      "    f.write('\\n')\n",
      "f.close()"
     ],
     "language": "python",
     "metadata": {},
     "outputs": [],
     "prompt_number": 3
    },
    {
     "cell_type": "code",
     "collapsed": false,
     "input": [
      "# Look at the first four lines of the file:\n",
      "!head -4 messy_data.dat"
     ],
     "language": "python",
     "metadata": {},
     "outputs": [
      {
       "output_type": "stream",
       "stream": "stdout",
       "text": [
        "8.03702057, 53.0614468,   00036.398704,  0052.151,      098.11134\r\n",
        "   0000042.83,   16.52793102,  45.74805686,58.2375466,    0044.02876\r\n",
        "     0005.33456,    98.45720789,  95.543126, 19.06071519,   0098.7303402\r\n",
        "     000019.958, 00070.5027,   0051.1356704,16.2951353,    031.9930522\r\n"
       ]
      }
     ],
     "prompt_number": 4
    },
    {
     "cell_type": "markdown",
     "metadata": {},
     "source": [
      "(a) Write a program that reads in the contents of \"messy_data.dat\" and extracts the numbers from each line, using the string manipulations we used in section 1 (remember that float() will convert a suitable string to a floating-point number)."
     ]
    },
    {
     "cell_type": "code",
     "collapsed": false,
     "input": [
      "#answer (3 Total)"
     ],
     "language": "python",
     "metadata": {},
     "outputs": [],
     "prompt_number": 5
    },
    {
     "cell_type": "markdown",
     "metadata": {},
     "source": [
      "(b) Next write out a new file named \"clean_data.dat\". The new file should contain the same data as the old file, but with uniform formatting and aligned columns."
     ]
    },
    {
     "cell_type": "code",
     "collapsed": false,
     "input": [
      "#answer"
     ],
     "language": "python",
     "metadata": {},
     "outputs": [],
     "prompt_number": 6
    },
    {
     "cell_type": "markdown",
     "metadata": {},
     "source": [
      "(c) Now re-do the same task using NumPy's loadtxt and savetxt functions."
     ]
    },
    {
     "cell_type": "code",
     "collapsed": false,
     "input": [
      "x = loadtxt('messy_data.dat',unpack=True, delimiter=',', usecols=[0,1])\n",
      "np.savetxt('clean_data.dat', x)\n",
      "print x"
     ],
     "language": "python",
     "metadata": {},
     "outputs": [
      {
       "output_type": "stream",
       "stream": "stdout",
       "text": [
        "[[  8.03702057e+00   4.28300000e+01   5.33456000e+00   1.99580000e+01\n",
        "    3.72897119e+01   4.89905426e-01   2.81977530e+01   1.99538000e+01\n",
        "    7.88749150e+00   2.08886000e+01   2.23740903e+01   2.06775010e+01\n",
        "    8.89666300e+01   5.64017750e+01   2.50370000e+01   8.95358117e+01\n",
        "    3.30423500e+01   5.72672000e+01   5.24500000e+01   7.22191416e+01\n",
        "    8.68068950e+01   2.55927000e+01   9.23476850e+01   7.70030000e+01\n",
        "    1.50835380e+01   9.17911943e+01   6.06168500e+01   4.21950000e+01\n",
        "    9.07674000e+01   8.34431190e+00   7.23429990e+01   9.49540000e+01\n",
        "    2.17229939e+01   2.64945000e+01   6.12640000e+01   8.02660000e+01\n",
        "    9.59200890e+01   3.42780000e+01   3.10672967e+01   3.71877287e+01\n",
        "    7.82530420e+01   2.53690000e+01   9.40030300e+01   5.87925900e+01\n",
        "    2.52872654e+01   8.94351500e+01   6.12910000e+01   7.08082500e+01\n",
        "    1.31497100e+01   3.09598712e+01   2.59296030e+01   1.97640000e+01\n",
        "    2.88000150e+01   8.10510000e+00   3.94700400e+01   5.70905590e+01\n",
        "    2.37300000e+01   2.31222000e+01   9.30738959e+01   9.29897466e+01\n",
        "    5.76200558e+01   7.02180000e+01   4.54332770e+00   8.53422000e+01\n",
        "    5.77950000e+01   5.26301711e+00   5.21991010e+01   1.37328580e+01\n",
        "    6.28773758e+01   7.99409117e+01   2.19307000e+01   3.88559000e+01\n",
        "    1.29676000e+01   7.83362020e+01   9.65690000e+01   5.92795696e+01\n",
        "    9.46400000e+01   2.84995000e+01   9.09444056e+01   2.18589384e+01\n",
        "    7.94130713e+01   1.99766040e+01   3.88537440e+01   9.61280000e+01\n",
        "    5.78211000e+01   5.97710000e+00   5.43239863e+01   3.20927250e+01\n",
        "    6.07059030e+01   4.63675898e+01   7.38402000e+01   3.48095900e+01\n",
        "    3.64229527e+01   5.94941000e+01   8.24134940e-01   6.79714000e+01\n",
        "    6.52706000e+00   2.27792000e+01   4.47593200e+01   2.73148000e+01]\n",
        " [  5.30614468e+01   1.65279310e+01   9.84572079e+01   7.05027000e+01\n",
        "    6.35614000e+01   9.31243000e+01   1.98870800e+01   2.09411806e+01\n",
        "    5.04746241e+00   1.23354940e+01   9.93181090e+01   5.67658680e+01\n",
        "    7.27045000e+01   9.81743485e+01   3.58546286e+01   8.04634800e+01\n",
        "    8.41155900e+01   4.62100000e+01   4.52714800e+00   9.21700420e+01\n",
        "    1.29732696e+00   8.28400000e+01   8.25575000e+01   9.72465857e+01\n",
        "    2.72095000e+01   5.01173100e+01   7.69060000e+01   6.96580000e+01\n",
        "    9.35462400e+01   9.29144600e+01   9.40780260e+01   6.33555584e+01\n",
        "    9.16578000e+00   4.84296000e+01   5.28124050e+01   8.21057100e+01\n",
        "    1.80290518e+01   1.65249775e+01   4.09255331e+01   4.28314020e+01\n",
        "    6.70073000e+01   5.19843973e+01   1.66788677e+01   6.85643090e+01\n",
        "    2.44789190e+01   6.68640000e+01   2.23175978e+01   4.96900338e+00\n",
        "    8.44705600e+01   2.47610389e+01   4.28850000e+00   9.36299000e+01\n",
        "    1.14453390e+01   5.50829800e+00   1.68819110e+01   4.23470000e+01\n",
        "    2.31258340e+01   7.49537000e+01   8.51577000e+01   8.03642465e+01\n",
        "    3.36517000e+00   3.70439000e+01   1.69080900e+01   9.03179428e+00\n",
        "    2.27893972e+01   8.86420525e+01   3.56280000e+01   1.04753000e+01\n",
        "    5.95954873e+01   3.45924200e+01   7.01242000e+01   9.00627411e+01\n",
        "    7.64215897e+01   1.93164000e+01   8.57177955e+01   7.16970000e+01\n",
        "    3.05905500e+01   8.29427000e+01   7.67827000e+01   4.75399400e+00\n",
        "    7.30523466e+00   2.36699500e+01   9.07128791e+01   8.03484000e+01\n",
        "    8.91401273e+01   3.07339505e+01   2.56863014e+01   4.38808883e-02\n",
        "    6.92019500e+01   7.54691800e+01   9.22943933e+01   1.75065791e+01\n",
        "    9.20455775e+01   3.71370000e+01   5.44791000e+01   9.97437070e+01\n",
        "    5.99970640e+01   6.86552000e+01   7.10231700e+01   7.08341136e+01]]\n"
       ]
      }
     ],
     "prompt_number": 9
    },
    {
     "cell_type": "code",
     "collapsed": false,
     "input": [],
     "language": "python",
     "metadata": {},
     "outputs": [],
     "prompt_number": 7
    }
   ],
   "metadata": {}
  }
 ]
}