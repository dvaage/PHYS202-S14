{
 "metadata": {
  "name": "",
  "signature": "sha256:aa86f479860e07d2100d075eaa3d85448775d7286fa2878012ce4c492f8d3b55"
 },
 "nbformat": 3,
 "nbformat_minor": 0,
 "worksheets": [
  {
   "cells": [
    {
     "cell_type": "heading",
     "level": 3,
     "metadata": {},
     "source": [
      "BattleShip (Updated)"
     ]
    },
    {
     "cell_type": "code",
     "collapsed": false,
     "input": [
      "from random import randint\n",
      "from ipythonblocks import BlockGrid\n",
      "\n",
      "board = []\n",
      "\n",
      "for x in range(5):\n",
      "    board.append([\"O\"] * 5)\n",
      "\n",
      "def print_board(board):\n",
      "    for row in board:\n",
      "        print \" \".join(row)\n",
      "\n",
      "print \"Let's play Battleship!\"\n",
      "print_board(board)\n",
      "\n",
      "def random_row(board):\n",
      "    return randint(0, len(board) - 1)\n",
      "\n",
      "def random_col(board):\n",
      "    return randint(0, len(board[0]) - 1)\n",
      "\n",
      "ship_row = random_row(board)\n",
      "ship_col = random_col(board)\n",
      "print ship_row\n",
      "print ship_col\n",
      "\n",
      "# Everything from here on should go in your for loop!\n",
      "# Be sure to indent four spaces!\n",
      "for turn in range(4):\n",
      "    print_board(board)\n",
      "    print \"Turn:\"+str(turn+1)\n",
      "    guess_row = int(raw_input(\"Guess Row:\"))    \n",
      "    guess_col = int(raw_input(\"Guess Col:\"))\n",
      "    if guess_row == ship_row and guess_col == ship_col:\n",
      "        print \"Congratulations! You sunk my battleship!\"\n",
      "        break\n",
      "    else:\n",
      "        if (guess_row < 0 or guess_row > 4) or (guess_col < 0 or guess_col > 4):\n",
      "            print \"Oops, that's not even in the ocean.\"\n",
      "        elif(board[guess_row][guess_col] == \"X\"):\n",
      "            print \"You guessed that one already.\"\n",
      "        else:\n",
      "            print \"You missed my battleship!\"\n",
      "            board[guess_row][guess_col] = \"X\"\n",
      "        if (turn==3 and board[guess_row][guess_col] == \"X\"):\n",
      "            print \"Game Over\""
     ],
     "language": "python",
     "metadata": {},
     "outputs": [
      {
       "output_type": "stream",
       "stream": "stdout",
       "text": [
        "Let's play Battleship!\n",
        "O O O O O\n",
        "O O O O O\n",
        "O O O O O\n",
        "O O O O O\n",
        "O O O O O\n",
        "4\n",
        "0\n",
        "O O O O O\n",
        "O O O O O\n",
        "O O O O O\n",
        "O O O O O\n",
        "O O O O O\n",
        "Turn:1\n"
       ]
      }
     ]
    },
    {
     "cell_type": "code",
     "collapsed": false,
     "input": [],
     "language": "python",
     "metadata": {},
     "outputs": []
    },
    {
     "cell_type": "code",
     "collapsed": false,
     "input": [],
     "language": "python",
     "metadata": {},
     "outputs": []
    }
   ],
   "metadata": {}
  }
 ]
}