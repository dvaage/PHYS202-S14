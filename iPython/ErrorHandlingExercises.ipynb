{
 "metadata": {
  "name": "",
  "signature": "sha256:e1c550794dfb10a841b7ee27342badcd0327fea01c12843873bf68a5f921ab59"
 },
 "nbformat": 3,
 "nbformat_minor": 0,
 "worksheets": [
  {
   "cells": [
    {
     "cell_type": "heading",
     "level": 1,
     "metadata": {},
     "source": [
      "\"Error Handling Exercises\""
     ]
    },
    {
     "cell_type": "markdown",
     "metadata": {},
     "source": [
      "1. Find a partner. Choose a driver and a navigator. The driver should copy their Battleship code to a cell in the driver's ErrorHandlingExercises notebook. The driver should explain to the navigator the basics of how their program works. Work together to add some error handling to the program. Include a markdown cell identifying the driver and navigator. When you are done, switch roles and let the navigator be the driver and vice versa. At the end you should both have a Battleship program that includes some error handling\n",
      "\n",
      "Driver - Devin Vaage\n",
      "\n",
      "Navigator - Mary Naworski"
     ]
    },
    {
     "cell_type": "code",
     "collapsed": false,
     "input": [
      "%pylab inline"
     ],
     "language": "python",
     "metadata": {},
     "outputs": [
      {
       "output_type": "stream",
       "stream": "stdout",
       "text": [
        "Populating the interactive namespace from numpy and matplotlib\n"
       ]
      }
     ],
     "prompt_number": 1
    },
    {
     "cell_type": "code",
     "collapsed": false,
     "input": [
      "%%file Battleship.dat\n",
      "f = open('Battleship')\n",
      "\n",
      "#Battleship by Devin Vaage\n",
      "#\n",
      "#This program has a 2 block long ship for you to guess\n",
      "#There is 10 turns. A red block means a hit. A black block means a miss.\n",
      "\n",
      "import numpy as np\n",
      "    from random import randint\n",
      "    from ipythonblocks import BlockGrid\n",
      "\n",
      "#Set a block grid to 10x10 dimensions with the light blue color\n",
      "    grid = BlockGrid(10, 10, fill = (173, 216, 230))\n",
      "\n",
      "#Function for finding a random row value \n",
      "    def random_row(grid):\n",
      "        return randint(1, 8)\n",
      "\n",
      "#Function for finding a random column value\n",
      "    def random_col(grid):\n",
      "        return randint(1, 8)\n",
      "\n",
      "#Finding the Initial front coordinate of the ship\n",
      "    ship_row = random_row(grid)\n",
      "    ship_col = random_col(grid)\n",
      "\n",
      "#Assigning a random direction for the second block of the ship. \"1\" is up, \"2\" is right, \"3\" is down, \"4\" is left\n",
      "    direction = randint(1, 4)\n",
      "\n",
      "#Assigning the second block of the ship \"ship_row2 and ship_col2\" based on the direction\n",
      "    if(direction == 1):\n",
      "        ship_row2 = ship_row - 1\n",
      "        ship_col2 = ship_col\n",
      "    elif(direction == 2):\n",
      "        ship_row2 = ship_row\n",
      "        ship_col2 = ship_col + 1\n",
      "    elif(direction == 3):\n",
      "        ship_row2 = ship_row + 1\n",
      "        ship_col2 = ship_col\n",
      "    else:\n",
      "        ship_row2 = ship_row\n",
      "        ship_col2 = ship_col - 1\n",
      "\n",
      "    print \"Let's play Battleship!\"\n",
      "    print \"ship_row: \" + str(ship_row)\n",
      "    print \"ship_col: \" + str(ship_col)\n",
      "    print \"ship_row2: \" + str(ship_row2)\n",
      "    print \"ship_col2: \" + str(ship_col2)\n",
      "\n",
      "#Counter to keep track of number of hits\n",
      "    hits = 0\n",
      "\n",
      "#Main game loop that loops X times for the number of turns\n",
      "    for turn in range(20):\n",
      "        grid.show()\n",
      "        print \"Turn: \" + str((turn + 1))\n",
      "    \n",
      "    #Getting the user input for their guess of row and column\n",
      "        guess_row = int(raw_input(\"Guess Row: \"))   \n",
      "        guess_col = int(raw_input(\"Guess Col: \"))\n",
      "    \n",
      "    #This is when there is a hit\n",
      "        if (guess_row == ship_row and guess_col == ship_col) or (guess_row == ship_row2 and guess_col == ship_col2):\n",
      "        \n",
      "        #If the user already guessed the spot that was hit the program lets them know\n",
      "            if(grid[guess_row, guess_col].red == 255):\n",
      "                  print \"You guessed that one already.\"\n",
      "                  continue\n",
      "                \n",
      "        #If the user hasn't hit the guessed block the color is changed to red to indicate a hit        \n",
      "            grid[guess_row, guess_col] = (255, 0, 0)\n",
      "            hits = hits + 1\n",
      "        \n",
      "        #Since the ships are 2 blocks long when there is 2 hits the ship is sunk otherwise the user gets more turns\n",
      "            if hits == 2:\n",
      "                print \"Congratulations! You sunk my battleship!\"\n",
      "                grid.show()\n",
      "                break\n",
      "            elif(hits == 1):\n",
      "                print \"You hit me!\"\n",
      "     \n",
      "    #This is when there is not a hit        \n",
      "        else:\n",
      "        \n",
      "        #The guesss is outside of the playing board\n",
      "            if(guess_row < 0 or guess_row > 9) or (guess_col < 0 or guess_col > 9):\n",
      "                print \"Oops, that's not even in the ocean.\" \n",
      "        \n",
      "        #The guess is already been checked\n",
      "            elif(grid[guess_row, guess_col].red == 0 or grid[guess_row, guess_col].red == 255):\n",
      "                print \"You guessed that one already.\"\n",
      "        \n",
      "        #The guess is a clean miss \n",
      "            else:\n",
      "                grid[guess_row, guess_col] = (0, 0, 0)\n",
      "                print \"You missed my battleship.\"\n",
      "        \n",
      "        #Game over when the turn limit is exceeded\n",
      "            if(turn == 19):\n",
      "                print \"Game Over\"\n",
      "                grid[ship_row, ship_col] = (255, 0, 0)\n",
      "                grid[ship_row2, ship_col2] = (255, 0, 0)\n",
      "                grid.show()\n",
      "f.close()"
     ],
     "language": "python",
     "metadata": {},
     "outputs": [
      {
       "output_type": "stream",
       "stream": "stdout",
       "text": [
        "Writing Battleship.dat\n"
       ]
      }
     ],
     "prompt_number": 2
    },
    {
     "cell_type": "code",
     "collapsed": false,
     "input": [
      "#this custom erros checks that the Battleship file actually exists\n",
      "import os \n",
      "\n",
      "def read_file(filename):\n",
      "    if not os.path.exists(filename):\n",
      "        raise ValueError(\"'%s' does not exist\"%format(filename))\n",
      "    f = open('Battleship.dat')\n",
      "    result = f.read()\n",
      "    f.close()\n",
      "    return result"
     ],
     "language": "python",
     "metadata": {},
     "outputs": [],
     "prompt_number": 3
    },
    {
     "cell_type": "markdown",
     "metadata": {},
     "source": [
      "1. Here is a function which takes a filename, opens the file, reads the result, closes the file, and returns the contents. It should look something like this:"
     ]
    },
    {
     "cell_type": "code",
     "collapsed": false,
     "input": [
      "#usage of error handling \"Try\" function\n",
      "def read_file(filename):\n",
      "    try:\n",
      "       f = open('codingrules.dat')\n",
      "       result = f.read()\n",
      "       f.close()\n",
      "       return result\n",
      "    except IOError as err:\n",
      "       print err\n",
      "       print \"File does not exist: \",err.filename\n",
      "       return None"
     ],
     "language": "python",
     "metadata": {},
     "outputs": [],
     "prompt_number": 4
    },
    {
     "cell_type": "code",
     "collapsed": false,
     "input": [
      "print read_file('file.which.does.not.exist')"
     ],
     "language": "python",
     "metadata": {},
     "outputs": [
      {
       "output_type": "stream",
       "stream": "stdout",
       "text": [
        "[Errno 2] No such file or directory: 'codingrules.dat'\n",
        "File does not exist:  codingrules.dat\n",
        "None\n"
       ]
      }
     ],
     "prompt_number": 5
    },
    {
     "cell_type": "markdown",
     "metadata": {},
     "source": [
      "Use runtime error handling concepts to improve this function, so that it does the following:\n",
      "raises an informative custom error if the file doesn't exist\n",
      "uses try, except, else, amd/or finally to safely return the file's contents & close the file if necessary.\n",
      "add a keyword safe which defaults to False. If the function is called with safe=True, then return an empty string if the file doesn't exist."
     ]
    },
    {
     "cell_type": "code",
     "collapsed": false,
     "input": [
      "#defining my read_all_from_file function with two arguments \n",
      "def read_all_from_file(filename,safe):\n",
      "    if not safe == False:\n",
      "        return \" \"\n",
      "    try:\n",
      "        f = open(filename)\n",
      "        contents = f.read()\n",
      "    except IOError as err:\n",
      "        print err\n",
      "        print \"File does not exist: \",err.filename\n",
      "        return None\n",
      "    else:\n",
      "        print \"File Exists\"\n",
      "        f.close()\n",
      "        return contents"
     ],
     "language": "python",
     "metadata": {},
     "outputs": [],
     "prompt_number": 6
    },
    {
     "cell_type": "code",
     "collapsed": false,
     "input": [
      "#for a file that doesn't exist\n",
      "read_all_from_file('file.which.does.not.exist',safe=False)"
     ],
     "language": "python",
     "metadata": {},
     "outputs": [
      {
       "ename": "IOError",
       "evalue": "[Errno 2] No such file or directory: 'file.which.does.not.exist'",
       "output_type": "pyerr",
       "traceback": [
        "\u001b[0;31m---------------------------------------------------------------------------\u001b[0m\n\u001b[0;31mIOError\u001b[0m                                   Traceback (most recent call last)",
        "\u001b[0;32m<ipython-input-4-3bfc12c9d16d>\u001b[0m in \u001b[0;36m<module>\u001b[0;34m()\u001b[0m\n\u001b[0;32m----> 1\u001b[0;31m \u001b[0mread_all_from_file\u001b[0m\u001b[0;34m(\u001b[0m\u001b[0;34m'file.which.does.not.exist'\u001b[0m\u001b[0;34m)\u001b[0m\u001b[0;34m\u001b[0m\u001b[0m\n\u001b[0m",
        "\u001b[0;32m<ipython-input-1-293ffc19e15d>\u001b[0m in \u001b[0;36mread_all_from_file\u001b[0;34m(filename)\u001b[0m\n\u001b[1;32m      1\u001b[0m \u001b[0;32mdef\u001b[0m \u001b[0mread_all_from_file\u001b[0m\u001b[0;34m(\u001b[0m\u001b[0mfilename\u001b[0m\u001b[0;34m)\u001b[0m\u001b[0;34m:\u001b[0m\u001b[0;34m\u001b[0m\u001b[0m\n\u001b[0;32m----> 2\u001b[0;31m     \u001b[0mf\u001b[0m \u001b[0;34m=\u001b[0m \u001b[0mopen\u001b[0m\u001b[0;34m(\u001b[0m\u001b[0mfilename\u001b[0m\u001b[0;34m)\u001b[0m\u001b[0;34m\u001b[0m\u001b[0m\n\u001b[0m\u001b[1;32m      3\u001b[0m     \u001b[0mcontents\u001b[0m \u001b[0;34m=\u001b[0m \u001b[0mf\u001b[0m\u001b[0;34m.\u001b[0m\u001b[0mread\u001b[0m\u001b[0;34m(\u001b[0m\u001b[0;34m)\u001b[0m\u001b[0;34m\u001b[0m\u001b[0m\n\u001b[1;32m      4\u001b[0m     \u001b[0mf\u001b[0m\u001b[0;34m.\u001b[0m\u001b[0mclose\u001b[0m\u001b[0;34m(\u001b[0m\u001b[0;34m)\u001b[0m\u001b[0;34m\u001b[0m\u001b[0m\n\u001b[1;32m      5\u001b[0m     \u001b[0;32mreturn\u001b[0m \u001b[0mcontents\u001b[0m\u001b[0;34m\u001b[0m\u001b[0m\n",
        "\u001b[0;31mIOError\u001b[0m: [Errno 2] No such file or directory: 'file.which.does.not.exist'"
       ]
      }
     ],
     "prompt_number": 4
    },
    {
     "cell_type": "code",
     "collapsed": false,
     "input": [
      "#for a file that does exist\n",
      "read_all_from_file('Battleship.dat',safe=False)"
     ],
     "language": "python",
     "metadata": {},
     "outputs": [
      {
       "output_type": "stream",
       "stream": "stdout",
       "text": [
        "File Exists\n"
       ]
      },
      {
       "metadata": {},
       "output_type": "pyout",
       "prompt_number": 7,
       "text": [
        "'f = open(\\'Battleship\\')\\n\\n#Battleship by Devin Vaage\\n#\\n#This program has a 2 block long ship for you to guess\\n#There is 10 turns. A red block means a hit. A black block means a miss.\\n\\nimport numpy as np\\n    from random import randint\\n    from ipythonblocks import BlockGrid\\n\\n#Set a block grid to 10x10 dimensions with the light blue color\\n    grid = BlockGrid(10, 10, fill = (173, 216, 230))\\n\\n#Function for finding a random row value \\n    def random_row(grid):\\n        return randint(1, 8)\\n\\n#Function for finding a random column value\\n    def random_col(grid):\\n        return randint(1, 8)\\n\\n#Finding the Initial front coordinate of the ship\\n    ship_row = random_row(grid)\\n    ship_col = random_col(grid)\\n\\n#Assigning a random direction for the second block of the ship. \"1\" is up, \"2\" is right, \"3\" is down, \"4\" is left\\n    direction = randint(1, 4)\\n\\n#Assigning the second block of the ship \"ship_row2 and ship_col2\" based on the direction\\n    if(direction == 1):\\n        ship_row2 = ship_row - 1\\n        ship_col2 = ship_col\\n    elif(direction == 2):\\n        ship_row2 = ship_row\\n        ship_col2 = ship_col + 1\\n    elif(direction == 3):\\n        ship_row2 = ship_row + 1\\n        ship_col2 = ship_col\\n    else:\\n        ship_row2 = ship_row\\n        ship_col2 = ship_col - 1\\n\\n    print \"Let\\'s play Battleship!\"\\n    print \"ship_row: \" + str(ship_row)\\n    print \"ship_col: \" + str(ship_col)\\n    print \"ship_row2: \" + str(ship_row2)\\n    print \"ship_col2: \" + str(ship_col2)\\n\\n#Counter to keep track of number of hits\\n    hits = 0\\n\\n#Main game loop that loops X times for the number of turns\\n    for turn in range(20):\\n        grid.show()\\n        print \"Turn: \" + str((turn + 1))\\n    \\n    #Getting the user input for their guess of row and column\\n        guess_row = int(raw_input(\"Guess Row: \"))   \\n        guess_col = int(raw_input(\"Guess Col: \"))\\n    \\n    #This is when there is a hit\\n        if (guess_row == ship_row and guess_col == ship_col) or (guess_row == ship_row2 and guess_col == ship_col2):\\n        \\n        #If the user already guessed the spot that was hit the program lets them know\\n            if(grid[guess_row, guess_col].red == 255):\\n                  print \"You guessed that one already.\"\\n                  continue\\n                \\n        #If the user hasn\\'t hit the guessed block the color is changed to red to indicate a hit        \\n            grid[guess_row, guess_col] = (255, 0, 0)\\n            hits = hits + 1\\n        \\n        #Since the ships are 2 blocks long when there is 2 hits the ship is sunk otherwise the user gets more turns\\n            if hits == 2:\\n                print \"Congratulations! You sunk my battleship!\"\\n                grid.show()\\n                break\\n            elif(hits == 1):\\n                print \"You hit me!\"\\n     \\n    #This is when there is not a hit        \\n        else:\\n        \\n        #The guesss is outside of the playing board\\n            if(guess_row < 0 or guess_row > 9) or (guess_col < 0 or guess_col > 9):\\n                print \"Oops, that\\'s not even in the ocean.\" \\n        \\n        #The guess is already been checked\\n            elif(grid[guess_row, guess_col].red == 0 or grid[guess_row, guess_col].red == 255):\\n                print \"You guessed that one already.\"\\n        \\n        #The guess is a clean miss \\n            else:\\n                grid[guess_row, guess_col] = (0, 0, 0)\\n                print \"You missed my battleship.\"\\n        \\n        #Game over when the turn limit is exceeded\\n            if(turn == 19):\\n                print \"Game Over\"\\n                grid[ship_row, ship_col] = (255, 0, 0)\\n                grid[ship_row2, ship_col2] = (255, 0, 0)\\n                grid.show()\\nf.close()'"
       ]
      }
     ],
     "prompt_number": 7
    },
    {
     "cell_type": "code",
     "collapsed": false,
     "input": [
      "#using the keyword safe when calling my read_all_from_file function\n",
      "read_all_from_file('file.which.does.not.exist', safe=True)"
     ],
     "language": "python",
     "metadata": {},
     "outputs": [
      {
       "metadata": {},
       "output_type": "pyout",
       "prompt_number": 8,
       "text": [
        "' '"
       ]
      }
     ],
     "prompt_number": 8
    },
    {
     "cell_type": "code",
     "collapsed": false,
     "input": [],
     "language": "python",
     "metadata": {},
     "outputs": []
    }
   ],
   "metadata": {}
  }
 ]
}