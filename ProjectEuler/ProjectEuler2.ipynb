{
 "metadata": {
  "name": "",
  "signature": "sha256:9235cfcd334ce003bc2ad1f8f2be1d93676ce240005d4ffc2ca3b2a214a1ef6c"
 },
 "nbformat": 3,
 "nbformat_minor": 0,
 "worksheets": [
  {
   "cells": [
    {
     "cell_type": "code",
     "collapsed": false,
     "input": [
      "def fibonacci():\n",
      "    x,y = 0,1\n",
      "    while True:\n",
      "        yield x\n",
      "        x,y = y, x+y\n",
      "def even_number(seq):\n",
      "    for number in seq:\n",
      "        if not number % 2:\n",
      "            yield number\n",
      "def under_four_million(seq):\n",
      "    for number in seq:\n",
      "        if number > 4000000:\n",
      "            break\n",
      "        yield number\n",
      "print sum(even_number(under_four_million(fibonacci())))"
     ],
     "language": "python",
     "metadata": {},
     "outputs": [
      {
       "output_type": "stream",
       "stream": "stdout",
       "text": [
        "4613732\n"
       ]
      }
     ],
     "prompt_number": 6
    },
    {
     "cell_type": "code",
     "collapsed": false,
     "input": [],
     "language": "python",
     "metadata": {},
     "outputs": []
    }
   ],
   "metadata": {}
  }
 ]
}