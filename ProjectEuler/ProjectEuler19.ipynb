{
 "metadata": {
  "name": "",
  "signature": "sha256:8222f63e69e3684551bcf8dd0295870d846cf7ece59ac406f38300b2d49d2a68"
 },
 "nbformat": 3,
 "nbformat_minor": 0,
 "worksheets": [
  {
   "cells": [
    {
     "cell_type": "heading",
     "level": 1,
     "metadata": {},
     "source": [
      "Problem 19 - Counting Sundays"
     ]
    },
    {
     "cell_type": "markdown",
     "metadata": {},
     "source": [
      "You are given the following information, but you may prefer to do some research for yourself.\n",
      "\n",
      "1 Jan 1900 was a Monday.\n",
      "\n",
      "\n",
      "Thirty days has September,\n",
      "\n",
      "\n",
      "April, June and November.\n",
      "\n",
      "\n",
      "All the rest have thirty-one\n",
      "\n",
      "\n",
      "Saving February alone,\n",
      "\n",
      "\n",
      "Which has twenty-eight, rain or shine.\n",
      "\n",
      "\n",
      "And on leap years, twenty-nine.\n",
      "\n",
      "\n",
      "A leap year occurs on any year evenly divisible by 4, but not on a century unless it is divisible by 400.\n",
      "\n",
      "How many Sundays fell on the first of the month during the twentieth century (1 Jan 1901 to 31 Dec 2000)?"
     ]
    },
    {
     "cell_type": "code",
     "collapsed": false,
     "input": [
      "def NumberofDays():\n",
      "    NumberofDays = [[0,0,0]]\n",
      "    for year in range(1900, 2001):\n",
      "        for month in range(1, 13):\n",
      "            if month in [4, 6, 9, 11]:\n",
      "                dayRange = 30\n",
      "            elif not month - 2:\n",
      "                if year % 4 == 0 and (year % 100 != 0 or year % 400 == 0):\n",
      "                        dayRange = 29\n",
      "                else:\n",
      "                    dayRange = 28\n",
      "            else:\n",
      "                dayRange = 31\n",
      "            for day in range(1, dayRange + 1):\n",
      "                NumberofDays.append([year, month, day])\n",
      "    return NumberofDays()\n",
      "\n",
      "def NumberofSundays():\n",
      "    days = NumberofDays()\n",
      "    sundayList = []\n",
      "    for day in range(len(days)):\n",
      "        if not (day - 6) % 7 and days[day][0] > 1900 and not days[day][2] - 1:\n",
      "            sundayList.append(days[day])\n",
      "    return len(sundayList)\n",
      "\n",
      "print(sundayList())"
     ],
     "language": "python",
     "metadata": {},
     "outputs": [
      {
       "output_type": "stream",
       "stream": "stdout",
       "text": [
        "171\n"
       ]
      }
     ],
     "prompt_number": 2
    },
    {
     "cell_type": "code",
     "collapsed": false,
     "input": [],
     "language": "python",
     "metadata": {},
     "outputs": []
    }
   ],
   "metadata": {}
  }
 ]
}