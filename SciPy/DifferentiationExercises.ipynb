{
 "metadata": {
  "name": "",
  "signature": "sha256:235d83799786532199d3eff629719095b985deb620c42e7a6da95af556865616"
 },
 "nbformat": 3,
 "nbformat_minor": 0,
 "worksheets": [
  {
   "cells": [
    {
     "cell_type": "heading",
     "level": 1,
     "metadata": {},
     "source": [
      "Differentiation Exercises"
     ]
    },
    {
     "cell_type": "code",
     "collapsed": false,
     "input": [
      "%pylab inline\n",
      "import numpy as np\n",
      "import matplotlib.pyplot as plt"
     ],
     "language": "python",
     "metadata": {},
     "outputs": [
      {
       "output_type": "stream",
       "stream": "stdout",
       "text": [
        "Populating the interactive namespace from numpy and matplotlib\n"
       ]
      }
     ],
     "prompt_number": 6
    },
    {
     "cell_type": "heading",
     "level": 2,
     "metadata": {},
     "source": [
      "Question 1"
     ]
    },
    {
     "cell_type": "markdown",
     "metadata": {},
     "source": [
      "Let\u2019s explore the accuracy of numerical differentiation.\n",
      "\n",
      "(a) Write two functions called twoPtForwardDiff(x,y) and twoPtCenteredDiff(x,y) that take as arguments arrays of values x and y(x) and return the derivatives of y with respect to x. Make sure that the arrays returned by the function have the same shape as the input arrays.\n",
      "    \n",
      "    def twoPtForwardDiff(x,y):\n",
      "        \"\"\"include a docstring to describe what your function does\"\"\"\n",
      "    \n",
      "        # your code goes here ...\n",
      "    \n",
      "        return dydx\n",
      "        \n",
      "    def twoPtCenteredDiff(x,y):\n",
      "        \"\"\"include a docstring to describe what your function does\"\"\"\n",
      "    \n",
      "        # your code goes here ...\n",
      "    \n",
      "        return dydx"
     ]
    },
    {
     "cell_type": "code",
     "collapsed": false,
     "input": [
      "#answer"
     ],
     "language": "python",
     "metadata": {},
     "outputs": [],
     "prompt_number": 1
    },
    {
     "cell_type": "markdown",
     "metadata": {},
     "source": [
      "(b) Use your functions to take the derivative of the function y=8x4+3x over the range 0 <x< 10, with steps of 0.1. How do you know they work correctly? (Hint: compare to the analytical result).\n",
      " "
     ]
    },
    {
     "cell_type": "code",
     "collapsed": false,
     "input": [
      "#answer"
     ],
     "language": "python",
     "metadata": {},
     "outputs": [],
     "prompt_number": 2
    },
    {
     "cell_type": "markdown",
     "metadata": {},
     "source": [
      "(c) What is the accuracy of the results if you use a spacing of 0.01? (Plot the relative error)"
     ]
    },
    {
     "cell_type": "code",
     "collapsed": false,
     "input": [
      "#answer"
     ],
     "language": "python",
     "metadata": {},
     "outputs": [],
     "prompt_number": 3
    },
    {
     "cell_type": "markdown",
     "metadata": {},
     "source": [
      "(d) For what minimum spacing is the 2pt-centered difference derivative accurate to 5 significant figures over its full range (excluding the last point)?"
     ]
    },
    {
     "cell_type": "code",
     "collapsed": false,
     "input": [
      "#answer"
     ],
     "language": "python",
     "metadata": {},
     "outputs": [],
     "prompt_number": 4
    },
    {
     "cell_type": "heading",
     "level": 2,
     "metadata": {},
     "source": [
      "Question 2"
     ]
    },
    {
     "cell_type": "markdown",
     "metadata": {},
     "source": [
      "Numerical differentiation plays an important role in fast electronic signal processing in many experimental contexts, such as the data acquisition systems of high energy particle and nuclear physics. The data collected is often a series of fast time samples of energy deposited in a detector by a fast-moving charged particle. The sheer volume of data can be enormous, so some signal processing within the electronics chain is necessary to reduce the size of the collected dataset.\n",
      "\n",
      "\n",
      "Due to the stochastic nature of the particle interactions and the inherent noise in the readout electronics, these signals can be very noisy. Unfortunately, numerical differentiation can amplify these fluctuations. By choosing your differentiation algorithm carefully, you can minimize the impact of these fluctuations on the collected signals.\n",
      "\n",
      "\n",
      "Generate and plot an example of a noisy sinusoidally varying dataset with the following:"
     ]
    },
    {
     "cell_type": "code",
     "collapsed": false,
     "input": [
      "x = np.linspace(0,2*pi,100)\n",
      "y = np.sin(x) + 0.1*random.random(size=x.shape)"
     ],
     "language": "python",
     "metadata": {},
     "outputs": [],
     "prompt_number": 7
    },
    {
     "cell_type": "markdown",
     "metadata": {},
     "source": [
      "(a) Now that we do not control the spacing of the data points, we have to use higher order differencing methods to reach a smoother and more accurate derivative. The four-point center differencing method is defined by\n",
      "\n",
      "\n",
      "dydx[i]\u2243y[i\u22122]\u22128y[i\u22121]+8y[i+1]\u2212y[i+2]12h\n",
      "\n",
      "\n",
      "where h is the spacing between points on the x axis (assumed to be equal). This comes from keeping higher order terms from the Taylor expansion used to define the derivative. This method can be used to obtain dydx[2:-2]. In order to calculate values for dydx[0], dydx[1], dydx[-1] and dydx[-2] you must use the lowest order finite difference method (like the ones you defined in your twoPtForwardDiff(x,y) and twoPtCenteredDiff(x,y) functions). Create another function, fourPtCenteredDiff(x,y), that computes the derivative using the higher order method above. Test that it works for y=8x4+3x and plot the relative error from the analytical result."
     ]
    },
    {
     "cell_type": "code",
     "collapsed": false,
     "input": [
      "#answer"
     ],
     "language": "python",
     "metadata": {},
     "outputs": [],
     "prompt_number": 8
    },
    {
     "cell_type": "markdown",
     "metadata": {},
     "source": [
      "\n",
      "(b) Now plot the noisy sine function along with the derivatives computed analytically, using the lowest order forward finite difference method and the four-point centered difference. Your result should look something like the plot shown here:\n",
      "\n"
     ]
    },
    {
     "cell_type": "code",
     "collapsed": false,
     "input": [
      "#answer"
     ],
     "language": "python",
     "metadata": {},
     "outputs": [],
     "prompt_number": 9
    },
    {
     "cell_type": "markdown",
     "metadata": {},
     "source": [
      "(c) Write your three differentiating functions to a file called Differentiators.py. Be sure to include meaningful docstrings that describe what the functions do. The docstrings should include enough information for someone to understand the differences between the algorithms. Test that the code works by importing the functions and calling them on y=8x4+3x. Plot the results from all three methods."
     ]
    },
    {
     "cell_type": "code",
     "collapsed": false,
     "input": [
      "#answer"
     ],
     "language": "python",
     "metadata": {},
     "outputs": [],
     "prompt_number": 10
    },
    {
     "cell_type": "code",
     "collapsed": false,
     "input": [],
     "language": "python",
     "metadata": {},
     "outputs": []
    }
   ],
   "metadata": {}
  }
 ]
}