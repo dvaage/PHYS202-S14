{
 "metadata": {
  "name": "",
  "signature": "sha256:ae8e814d3a98fd3e4221d1d27b570064e2ff635e4ab8139453329779a23e76bd"
 },
 "nbformat": 3,
 "nbformat_minor": 0,
 "worksheets": [
  {
   "cells": [
    {
     "cell_type": "heading",
     "level": 1,
     "metadata": {},
     "source": [
      "Differentiation Exercises"
     ]
    },
    {
     "cell_type": "markdown",
     "metadata": {},
     "source": [
      "Driver = Devin Vaage\n",
      "\n",
      "Navigator = Mary Naworski"
     ]
    },
    {
     "cell_type": "code",
     "collapsed": false,
     "input": [
      "%pylab inline\n",
      "import numpy as np\n",
      "import matplotlib.pyplot as plt"
     ],
     "language": "python",
     "metadata": {},
     "outputs": [
      {
       "output_type": "stream",
       "stream": "stdout",
       "text": [
        "Populating the interactive namespace from numpy and matplotlib\n"
       ]
      }
     ],
     "prompt_number": 8
    },
    {
     "cell_type": "heading",
     "level": 2,
     "metadata": {},
     "source": [
      "Question 1"
     ]
    },
    {
     "cell_type": "markdown",
     "metadata": {},
     "source": [
      "Let\u2019s explore the accuracy of numerical differentiation.\n",
      "\n",
      "(a) Write two functions called twoPtForwardDiff(x,y) and twoPtCenteredDiff(x,y) that take as arguments arrays of values x and y(x) and return the derivatives of y with respect to x. Make sure that the arrays returned by the function have the same shape as the input arrays."
     ]
    },
    {
     "cell_type": "code",
     "collapsed": false,
     "input": [
      "x = np.arange(0.,10.01,0.1)\n",
      "y = x**2\n",
      "dy = np.diff(y) \n",
      "dx = np.diff(x)\n",
      "dydx = (dy/dx)\n",
      "\n",
      "def twoPtForwardDiff(x,y):\n",
      "    \"\"\"Takes the two point forward difference differential of a given function\"\"\"\n",
      "    dydx1 = np.zeros(y.shape,float) \n",
      "    dydx1[0:-1] = np.diff(y)/np.diff(x)\n",
      "    dydx1[0] = (y[1]-y[0])/(x[1]-x[0])\n",
      "    return dydx1\n",
      "print twoPtForwardDiff(x,y)"
     ],
     "language": "python",
     "metadata": {},
     "outputs": [
      {
       "output_type": "stream",
       "stream": "stdout",
       "text": [
        "[  0.1   0.3   0.5   0.7   0.9   1.1   1.3   1.5   1.7   1.9   2.1   2.3\n",
        "   2.5   2.7   2.9   3.1   3.3   3.5   3.7   3.9   4.1   4.3   4.5   4.7\n",
        "   4.9   5.1   5.3   5.5   5.7   5.9   6.1   6.3   6.5   6.7   6.9   7.1\n",
        "   7.3   7.5   7.7   7.9   8.1   8.3   8.5   8.7   8.9   9.1   9.3   9.5\n",
        "   9.7   9.9  10.1  10.3  10.5  10.7  10.9  11.1  11.3  11.5  11.7  11.9\n",
        "  12.1  12.3  12.5  12.7  12.9  13.1  13.3  13.5  13.7  13.9  14.1  14.3\n",
        "  14.5  14.7  14.9  15.1  15.3  15.5  15.7  15.9  16.1  16.3  16.5  16.7\n",
        "  16.9  17.1  17.3  17.5  17.7  17.9  18.1  18.3  18.5  18.7  18.9  19.1\n",
        "  19.3  19.5  19.7  19.9   0. ]\n"
       ]
      }
     ],
     "prompt_number": 35
    },
    {
     "cell_type": "code",
     "collapsed": false,
     "input": [
      "def twoPtCenteredDiff(x,y):\n",
      "    \"\"\"Takes the two point forward difference differential of a given function\"\"\"\n",
      "    dydx2 = np.zeros(y.shape,float) \n",
      "    dydx2[1:-1] = (y[2:] - y[:-2])/(x[2:] - x[:-2])\n",
      "    return dydx2\n",
      "print twoPtCenteredDiff(x,y)"
     ],
     "language": "python",
     "metadata": {},
     "outputs": [
      {
       "output_type": "stream",
       "stream": "stdout",
       "text": [
        "[  0.    0.2   0.4   0.6   0.8   1.    1.2   1.4   1.6   1.8   2.    2.2\n",
        "   2.4   2.6   2.8   3.    3.2   3.4   3.6   3.8   4.    4.2   4.4   4.6\n",
        "   4.8   5.    5.2   5.4   5.6   5.8   6.    6.2   6.4   6.6   6.8   7.\n",
        "   7.2   7.4   7.6   7.8   8.    8.2   8.4   8.6   8.8   9.    9.2   9.4\n",
        "   9.6   9.8  10.   10.2  10.4  10.6  10.8  11.   11.2  11.4  11.6  11.8\n",
        "  12.   12.2  12.4  12.6  12.8  13.   13.2  13.4  13.6  13.8  14.   14.2\n",
        "  14.4  14.6  14.8  15.   15.2  15.4  15.6  15.8  16.   16.2  16.4  16.6\n",
        "  16.8  17.   17.2  17.4  17.6  17.8  18.   18.2  18.4  18.6  18.8  19.\n",
        "  19.2  19.4  19.6  19.8   0. ]\n"
       ]
      }
     ],
     "prompt_number": 36
    },
    {
     "cell_type": "markdown",
     "metadata": {},
     "source": [
      "(b) Use your functions to take the derivative of the function y=8x4+3x over the range 0 <x< 10, with steps of 0.1. How do you know they work correctly? (Hint: compare to the analytical result).\n",
      " "
     ]
    },
    {
     "cell_type": "code",
     "collapsed": false,
     "input": [
      "x = np.arange(0.,10,0.1)\n",
      "y = 8*x**4 + 3*x\n",
      "dy = np.diff(y) \n",
      "dx = np.diff(x)\n",
      "dydx = (dy/dx)\n",
      "\n",
      "def twoPtForwardDiff(x,y):\n",
      "    \"\"\"Takes the two point forward difference differential of a given function\"\"\"\n",
      "    dydx1 = np.zeros(y.shape,float) \n",
      "    dydx1[0:-1] = np.diff(y)/np.diff(x)\n",
      "    dydx1[0] = (y[1]-y[0])/(x[1]-x[0])\n",
      "    return dydx1\n",
      "print twoPtForwardDiff(x,y)\n",
      "\n",
      "#how we know it worked\n",
      "dydxexact = 32*x**3 +3"
     ],
     "language": "python",
     "metadata": {},
     "outputs": [
      {
       "output_type": "stream",
       "stream": "stdout",
       "text": [
        "[  3.00800000e+00   3.12000000e+00   3.52000000e+00   4.40000000e+00\n",
        "   5.95200000e+00   8.36800000e+00   1.18400000e+01   1.65600000e+01\n",
        "   2.27200000e+01   3.05120000e+01   4.01280000e+01   5.17600000e+01\n",
        "   6.56000000e+01   8.18400000e+01   1.00672000e+02   1.22288000e+02\n",
        "   1.46880000e+02   1.74640000e+02   2.05760000e+02   2.40432000e+02\n",
        "   2.78848000e+02   3.21200000e+02   3.67680000e+02   4.18480000e+02\n",
        "   4.73792000e+02   5.33808000e+02   5.98720000e+02   6.68720000e+02\n",
        "   7.44000000e+02   8.24752000e+02   9.11168000e+02   1.00344000e+03\n",
        "   1.10176000e+03   1.20632000e+03   1.31731200e+03   1.43492800e+03\n",
        "   1.55936000e+03   1.69080000e+03   1.82944000e+03   1.97547200e+03\n",
        "   2.12908800e+03   2.29048000e+03   2.45984000e+03   2.63736000e+03\n",
        "   2.82323200e+03   3.01764800e+03   3.22080000e+03   3.43288000e+03\n",
        "   3.65408000e+03   3.88459200e+03   4.12460800e+03   4.37432000e+03\n",
        "   4.63392000e+03   4.90360000e+03   5.18355200e+03   5.47396800e+03\n",
        "   5.77504000e+03   6.08696000e+03   6.40992000e+03   6.74411200e+03\n",
        "   7.08972800e+03   7.44696000e+03   7.81600000e+03   8.19704000e+03\n",
        "   8.59027200e+03   8.99588800e+03   9.41408000e+03   9.84504000e+03\n",
        "   1.02889600e+04   1.07460320e+04   1.12164480e+04   1.17004000e+04\n",
        "   1.21980800e+04   1.27096800e+04   1.32353920e+04   1.37754080e+04\n",
        "   1.43299200e+04   1.48991200e+04   1.54832000e+04   1.60823520e+04\n",
        "   1.66967680e+04   1.73266400e+04   1.79721600e+04   1.86335200e+04\n",
        "   1.93109120e+04   2.00045280e+04   2.07145600e+04   2.14412000e+04\n",
        "   2.21846400e+04   2.29450720e+04   2.37226880e+04   2.45176800e+04\n",
        "   2.53302400e+04   2.61605600e+04   2.70088320e+04   2.78752480e+04\n",
        "   2.87600000e+04   2.96632800e+04   3.05852800e+04   0.00000000e+00]\n"
       ]
      }
     ],
     "prompt_number": 53
    },
    {
     "cell_type": "markdown",
     "metadata": {},
     "source": [
      "(c) What is the accuracy of the results if you use a spacing of 0.01? (Plot the relative error)"
     ]
    },
    {
     "cell_type": "code",
     "collapsed": false,
     "input": [
      "x = np.arange(0.,10,0.01)\n",
      "y = 8*x**4 + 3*x\n",
      "dy = np.diff(y) \n",
      "dx = np.diff(x)\n",
      "dydx = (dy/dx)\n",
      "dydxExact = 32*x**3 +3\n",
      "def twoPtForwardDiff1(x,y):\n",
      "    \"\"\"Takes the two point forward difference differential of a given function\"\"\"\n",
      "    dydx1 = np.zeros(y.shape,float) \n",
      "    dydx1[0:-1] = np.diff(y)/np.diff(x)\n",
      "    dydx1[0] = (y[1]-y[0])/(x[1]-x[0])\n",
      "    \n",
      "    return dydx1\n",
      "\n",
      "\n",
      "\n"
     ],
     "language": "python",
     "metadata": {},
     "outputs": [
      {
       "output_type": "stream",
       "stream": "stdout",
       "text": [
        "[  2.93330204e-03   8.79924913e-03   1.78615225e-02   3.01127763e-02\n",
        "   4.55392810e-02   6.41189366e-02   8.58193489e-02   1.10595998e-01\n",
        "   1.38390542e-01   1.69129288e-01   2.02721890e-01   2.39060307e-01\n",
        "   2.78018072e-01   3.19449914e-01   3.63191763e-01   4.09061178e-01\n",
        "   4.56858194e-01   5.06366612e-01   5.57355704e-01   6.09582310e-01\n",
        "   6.62793294e-01   7.16728290e-01   7.71122672e-01   8.25710674e-01\n",
        "   8.80228571e-01   9.34417836e-01   9.88028175e-01   1.04082038e+00\n",
        "   1.09256892e+00   1.14306418e+00   1.19211436e+00   1.23954694e+00\n",
        "   1.28520977e+00   1.32897170e+00   1.37072278e+00   1.41037420e+00\n",
        "   1.44785773e+00   1.48312497e+00   1.51614631e+00   1.54690967e+00\n",
        "   1.57541910e+00   1.60169330e+00   1.62576404e+00   1.64767456e+00\n",
        "   1.66747803e+00   1.68523597e+00   1.70101684e+00   1.71489464e+00\n",
        "   1.72694762e+00   1.73725714e+00   1.74590660e+00   1.75298048e+00\n",
        "   1.75856356e+00   1.76274013e+00   1.76559346e+00   1.76720522e+00\n",
        "   1.76765504e+00   1.76702024e+00   1.76537547e+00   1.76279257e+00\n",
        "   1.75934038e+00   1.75508465e+00   1.75008799e+00   1.74440985e+00\n",
        "   1.73810655e+00   1.73123128e+00   1.72383420e+00   1.71596249e+00\n",
        "   1.70766046e+00   1.69896966e+00   1.68992895e+00   1.68057465e+00\n",
        "   1.67094064e+00   1.66105849e+00   1.65095758e+00   1.64066518e+00\n",
        "   1.63020664e+00   1.61960542e+00   1.60888326e+00   1.59806026e+00\n",
        "   1.58715497e+00   1.57618451e+00   1.56516467e+00   1.55410996e+00\n",
        "   1.54303373e+00   1.53194822e+00   1.52086466e+00   1.50979332e+00\n",
        "   1.49874361e+00   1.48772410e+00   1.47674258e+00   1.46580617e+00\n",
        "   1.45492130e+00   1.44409380e+00   1.43332895e+00   1.42263149e+00\n",
        "   1.41200569e+00   1.40145535e+00   1.39098387e+00   1.38059429e+00\n",
        "   1.37028925e+00   1.36007110e+00   1.34994189e+00   1.33990337e+00\n",
        "   1.32995705e+00   1.32010421e+00   1.31034590e+00   1.30068299e+00\n",
        "   1.29111615e+00   1.28164590e+00   1.27227260e+00   1.26299645e+00\n",
        "   1.25381757e+00   1.24473590e+00   1.23575134e+00   1.22686363e+00\n",
        "   1.21807247e+00   1.20937746e+00   1.20077812e+00   1.19227391e+00\n",
        "   1.18386425e+00   1.17554847e+00   1.16732588e+00   1.15919573e+00\n",
        "   1.15115725e+00   1.14320963e+00   1.13535201e+00   1.12758352e+00\n",
        "   1.11990329e+00   1.11231038e+00   1.10480387e+00   1.09738282e+00\n",
        "   1.09004626e+00   1.08279324e+00   1.07562277e+00   1.06853388e+00\n",
        "   1.06152558e+00   1.05459688e+00   1.04774681e+00   1.04097436e+00\n",
        "   1.03427856e+00   1.02765842e+00   1.02111296e+00   1.01464120e+00\n",
        "   1.00824217e+00   1.00191492e+00   9.95658466e-01   9.89471876e-01\n",
        "   9.83354200e-01   9.77304505e-01   9.71321862e-01   9.65405355e-01\n",
        "   9.59554075e-01   9.53767124e-01   9.48043614e-01   9.42382664e-01\n",
        "   9.36783409e-01   9.31244988e-01   9.25766556e-01   9.20347276e-01\n",
        "   9.14986322e-01   9.09682879e-01   9.04436143e-01   8.99245321e-01\n",
        "   8.94109630e-01   8.89028300e-01   8.84000570e-01   8.79025690e-01\n",
        "   8.74102922e-01   8.69231537e-01   8.64410819e-01   8.59640060e-01\n",
        "   8.54918564e-01   8.50245646e-01   8.45620630e-01   8.41042851e-01\n",
        "   8.36511655e-01   8.32026395e-01   8.27586438e-01   8.23191157e-01\n",
        "   8.18839939e-01   8.14532176e-01   8.10267272e-01   8.06044641e-01\n",
        "   8.01863704e-01   7.97723894e-01   7.93624650e-01   7.89565421e-01\n",
        "   7.85545665e-01   7.81564848e-01   7.77622447e-01   7.73717943e-01\n",
        "   7.69850828e-01   7.66020602e-01   7.62226773e-01   7.58468855e-01\n",
        "   7.54746371e-01   7.51058853e-01   7.47405838e-01   7.43786873e-01\n",
        "   7.40201508e-01   7.36649305e-01   7.33129830e-01   7.29642657e-01\n",
        "   7.26187366e-01   7.22763545e-01   7.19370785e-01   7.16008689e-01\n",
        "   7.12676862e-01   7.09374916e-01   7.06102471e-01   7.02859151e-01\n",
        "   6.99644586e-01   6.96458412e-01   6.93300273e-01   6.90169815e-01\n",
        "   6.87066691e-01   6.83990560e-01   6.80941086e-01   6.77917937e-01\n",
        "   6.74920788e-01   6.71949319e-01   6.69003213e-01   6.66082158e-01\n",
        "   6.63185850e-01   6.60313987e-01   6.57466271e-01   6.54642410e-01\n",
        "   6.51842116e-01   6.49065106e-01   6.46311101e-01   6.43579825e-01\n",
        "   6.40871007e-01   6.38184381e-01   6.35519685e-01   6.32876658e-01\n",
        "   6.30255047e-01   6.27654600e-01   6.25075069e-01   6.22516211e-01\n",
        "   6.19977786e-01   6.17459557e-01   6.14961291e-01   6.12482759e-01\n",
        "   6.10023733e-01   6.07583992e-01   6.05163315e-01   6.02761485e-01\n",
        "   6.00378290e-01   5.98013519e-01   5.95666965e-01   5.93338423e-01\n",
        "   5.91027692e-01   5.88734573e-01   5.86458872e-01   5.84200395e-01\n",
        "   5.81958952e-01   5.79734355e-01   5.77526420e-01   5.75334965e-01\n",
        "   5.73159810e-01   5.71000778e-01   5.68857694e-01   5.66730386e-01\n",
        "   5.64618685e-01   5.62522423e-01   5.60441434e-01   5.58375557e-01\n",
        "   5.56324630e-01   5.54288495e-01   5.52266996e-01   5.50259979e-01\n",
        "   5.48267292e-01   5.46288784e-01   5.44324308e-01   5.42373718e-01\n",
        "   5.40436871e-01   5.38513623e-01   5.36603836e-01   5.34707370e-01\n",
        "   5.32824089e-01   5.30953860e-01   5.29096548e-01   5.27252023e-01\n",
        "   5.25420156e-01   5.23600818e-01   5.21793885e-01   5.19999231e-01\n",
        "   5.18216734e-01   5.16446273e-01   5.14687729e-01   5.12940983e-01\n",
        "   5.11205918e-01   5.09482421e-01   5.07770377e-01   5.06069674e-01\n",
        "   5.04380202e-01   5.02701852e-01   5.01034515e-01   4.99378085e-01\n",
        "   4.97732458e-01   4.96097529e-01   4.94473195e-01   4.92859356e-01\n",
        "   4.91255912e-01   4.89662763e-01   4.88079813e-01   4.86506964e-01\n",
        "   4.84944123e-01   4.83391195e-01   4.81848086e-01   4.80314707e-01\n",
        "   4.78790965e-01   4.77276772e-01   4.75772039e-01   4.74276679e-01\n",
        "   4.72790605e-01   4.71313734e-01   4.69845979e-01   4.68387259e-01\n",
        "   4.66937490e-01   4.65496593e-01   4.64064486e-01   4.62641090e-01\n",
        "   4.61226328e-01   4.59820121e-01   4.58422393e-01   4.57033068e-01\n",
        "   4.55652072e-01   4.54279331e-01   4.52914772e-01   4.51558322e-01\n",
        "   4.50209911e-01   4.48869467e-01   4.47536922e-01   4.46212206e-01\n",
        "   4.44895251e-01   4.43585991e-01   4.42284357e-01   4.40990285e-01\n",
        "   4.39703709e-01   4.38424566e-01   4.37152791e-01   4.35888322e-01\n",
        "   4.34631096e-01   4.33381052e-01   4.32138129e-01   4.30902268e-01\n",
        "   4.29673408e-01   4.28451491e-01   4.27236458e-01   4.26028253e-01\n",
        "   4.24826818e-01   4.23632097e-01   4.22444035e-01   4.21262576e-01\n",
        "   4.20087666e-01   4.18919250e-01   4.17757277e-01   4.16601693e-01\n",
        "   4.15452446e-01   4.14309484e-01   4.13172757e-01   4.12042214e-01\n",
        "   4.10917805e-01   4.09799480e-01   4.08687192e-01   4.07580890e-01\n",
        "   4.06480529e-01   4.05386059e-01   4.04297435e-01   4.03214610e-01\n",
        "   4.02137538e-01   4.01066174e-01   4.00000473e-01   3.98940390e-01\n",
        "   3.97885882e-01   3.96836905e-01   3.95793415e-01   3.94755370e-01\n",
        "   3.93722729e-01   3.92695448e-01   3.91673487e-01   3.90656805e-01\n",
        "   3.89645362e-01   3.88639116e-01   3.87638029e-01   3.86642062e-01\n",
        "   3.85651174e-01   3.84665329e-01   3.83684486e-01   3.82708610e-01\n",
        "   3.81737663e-01   3.80771606e-01   3.79810405e-01   3.78854022e-01\n",
        "   3.77902422e-01   3.76955569e-01   3.76013427e-01   3.75075963e-01\n",
        "   3.74143141e-01   3.73214927e-01   3.72291288e-01   3.71372190e-01\n",
        "   3.70457599e-01   3.69547483e-01   3.68641809e-01   3.67740545e-01\n",
        "   3.66843659e-01   3.65951119e-01   3.65062894e-01   3.64178954e-01\n",
        "   3.63299266e-01   3.62423801e-01   3.61552528e-01   3.60685419e-01\n",
        "   3.59822442e-01   3.58963569e-01   3.58108771e-01   3.57258018e-01\n",
        "   3.56411283e-01   3.55568537e-01   3.54729753e-01   3.53894901e-01\n",
        "   3.53063956e-01   3.52236890e-01   3.51413675e-01   3.50594285e-01\n",
        "   3.49778694e-01   3.48966875e-01   3.48158803e-01   3.47354451e-01\n",
        "   3.46553795e-01   3.45756808e-01   3.44963466e-01   3.44173744e-01\n",
        "   3.43387618e-01   3.42605062e-01   3.41826053e-01   3.41050567e-01\n",
        "   3.40278580e-01   3.39510069e-01   3.38745010e-01   3.37983380e-01\n",
        "   3.37225156e-01   3.36470316e-01   3.35718837e-01   3.34970697e-01\n",
        "   3.34225873e-01   3.33484344e-01   3.32746088e-01   3.32011083e-01\n",
        "   3.31279309e-01   3.30550744e-01   3.29825366e-01   3.29103156e-01\n",
        "   3.28384092e-01   3.27668155e-01   3.26955323e-01   3.26245577e-01\n",
        "   3.25538897e-01   3.24835263e-01   3.24134656e-01   3.23437055e-01\n",
        "   3.22742443e-01   3.22050799e-01   3.21362106e-01   3.20676343e-01\n",
        "   3.19993493e-01   3.19313537e-01   3.18636457e-01   3.17962234e-01\n",
        "   3.17290851e-01   3.16622290e-01   3.15956533e-01   3.15293563e-01\n",
        "   3.14633361e-01   3.13975912e-01   3.13321198e-01   3.12669201e-01\n",
        "   3.12019905e-01   3.11373294e-01   3.10729350e-01   3.10088058e-01\n",
        "   3.09449401e-01   3.08813362e-01   3.08179927e-01   3.07549079e-01\n",
        "   3.06920801e-01   3.06295080e-01   3.05671898e-01   3.05051241e-01\n",
        "   3.04433094e-01   3.03817441e-01   3.03204267e-01   3.02593557e-01\n",
        "   3.01985297e-01   3.01379472e-01   3.00776067e-01   3.00175069e-01\n",
        "   2.99576462e-01   2.98980232e-01   2.98386365e-01   2.97794848e-01\n",
        "   2.97205667e-01   2.96618807e-01   2.96034255e-01   2.95451998e-01\n",
        "   2.94872022e-01   2.94294313e-01   2.93718859e-01   2.93145646e-01\n",
        "   2.92574662e-01   2.92005893e-01   2.91439326e-01   2.90874949e-01\n",
        "   2.90312750e-01   2.89752715e-01   2.89194832e-01   2.88639089e-01\n",
        "   2.88085474e-01   2.87533974e-01   2.86984578e-01   2.86437273e-01\n",
        "   2.85892047e-01   2.85348889e-01   2.84807787e-01   2.84268730e-01\n",
        "   2.83731705e-01   2.83196701e-01   2.82663708e-01   2.82132713e-01\n",
        "   2.81603706e-01   2.81076676e-01   2.80551610e-01   2.80028499e-01\n",
        "   2.79507332e-01   2.78988098e-01   2.78470785e-01   2.77955385e-01\n",
        "   2.77441885e-01   2.76930275e-01   2.76420546e-01   2.75912686e-01\n",
        "   2.75406686e-01   2.74902535e-01   2.74400223e-01   2.73899741e-01\n",
        "   2.73401078e-01   2.72904224e-01   2.72409169e-01   2.71915905e-01\n",
        "   2.71424421e-01   2.70934707e-01   2.70446754e-01   2.69960553e-01\n",
        "   2.69476094e-01   2.68993368e-01   2.68512365e-01   2.68033077e-01\n",
        "   2.67555494e-01   2.67079608e-01   2.66605408e-01   2.66132887e-01\n",
        "   2.65662035e-01   2.65192844e-01   2.64725304e-01   2.64259408e-01\n",
        "   2.63795146e-01   2.63332510e-01   2.62871492e-01   2.62412082e-01\n",
        "   2.61954273e-01   2.61498057e-01   2.61043424e-01   2.60590367e-01\n",
        "   2.60138878e-01   2.59688948e-01   2.59240569e-01   2.58793734e-01\n",
        "   2.58348435e-01   2.57904663e-01   2.57462411e-01   2.57021671e-01\n",
        "   2.56582435e-01   2.56144696e-01   2.55708445e-01   2.55273676e-01\n",
        "   2.54840382e-01   2.54408553e-01   2.53978183e-01   2.53549266e-01\n",
        "   2.53121792e-01   2.52695755e-01   2.52271149e-01   2.51847965e-01\n",
        "   2.51426196e-01   2.51005836e-01   2.50586877e-01   2.50169313e-01\n",
        "   2.49753136e-01   2.49338340e-01   2.48924918e-01   2.48512862e-01\n",
        "   2.48102167e-01   2.47692825e-01   2.47284830e-01   2.46878176e-01\n",
        "   2.46472855e-01   2.46068861e-01   2.45666187e-01   2.45264828e-01\n",
        "   2.44864776e-01   2.44466026e-01   2.44068570e-01   2.43672404e-01\n",
        "   2.43277520e-01   2.42883912e-01   2.42491574e-01   2.42100500e-01\n",
        "   2.41710685e-01   2.41322121e-01   2.40934802e-01   2.40548724e-01\n",
        "   2.40163879e-01   2.39780263e-01   2.39397869e-01   2.39016691e-01\n",
        "   2.38636723e-01   2.38257961e-01   2.37880397e-01   2.37504027e-01\n",
        "   2.37128845e-01   2.36754845e-01   2.36382021e-01   2.36010369e-01\n",
        "   2.35639882e-01   2.35270555e-01   2.34902383e-01   2.34535360e-01\n",
        "   2.34169481e-01   2.33804740e-01   2.33441133e-01   2.33078654e-01\n",
        "   2.32717297e-01   2.32357058e-01   2.31997932e-01   2.31639913e-01\n",
        "   2.31282996e-01   2.30927176e-01   2.30572448e-01   2.30218807e-01\n",
        "   2.29866248e-01   2.29514766e-01   2.29164356e-01   2.28815014e-01\n",
        "   2.28466734e-01   2.28119511e-01   2.27773342e-01   2.27428220e-01\n",
        "   2.27084142e-01   2.26741102e-01   2.26399096e-01   2.26058119e-01\n",
        "   2.25718167e-01   2.25379235e-01   2.25041318e-01   2.24704412e-01\n",
        "   2.24368512e-01   2.24033614e-01   2.23699713e-01   2.23366806e-01\n",
        "   2.23034886e-01   2.22703951e-01   2.22373996e-01   2.22045016e-01\n",
        "   2.21717006e-01   2.21389964e-01   2.21063885e-01   2.20738763e-01\n",
        "   2.20414596e-01   2.20091378e-01   2.19769106e-01   2.19447776e-01\n",
        "   2.19127383e-01   2.18807924e-01   2.18489394e-01   2.18171789e-01\n",
        "   2.17855105e-01   2.17539339e-01   2.17224486e-01   2.16910542e-01\n",
        "   2.16597504e-01   2.16285367e-01   2.15974127e-01   2.15663782e-01\n",
        "   2.15354326e-01   2.15045756e-01   2.14738069e-01   2.14431260e-01\n",
        "   2.14125325e-01   2.13820262e-01   2.13516066e-01   2.13212734e-01\n",
        "   2.12910262e-01   2.12608646e-01   2.12307883e-01   2.12007968e-01\n",
        "   2.11708900e-01   2.11410673e-01   2.11113284e-01   2.10816730e-01\n",
        "   2.10521008e-01   2.10226114e-01   2.09932043e-01   2.09638794e-01\n",
        "   2.09346363e-01   2.09054745e-01   2.08763938e-01   2.08473938e-01\n",
        "   2.08184743e-01   2.07896348e-01   2.07608750e-01   2.07321947e-01\n",
        "   2.07035934e-01   2.06750708e-01   2.06466267e-01   2.06182607e-01\n",
        "   2.05899724e-01   2.05617617e-01   2.05336280e-01   2.05055712e-01\n",
        "   2.04775909e-01   2.04496868e-01   2.04218586e-01   2.03941060e-01\n",
        "   2.03664286e-01   2.03388263e-01   2.03112986e-01   2.02838452e-01\n",
        "   2.02564659e-01   2.02291604e-01   2.02019283e-01   2.01747694e-01\n",
        "   2.01476834e-01   2.01206700e-01   2.00937289e-01   2.00668597e-01\n",
        "   2.00400623e-01   2.00133363e-01   1.99866814e-01   1.99600974e-01\n",
        "   1.99335840e-01   1.99071409e-01   1.98807678e-01   1.98544645e-01\n",
        "   1.98282306e-01   1.98020659e-01   1.97759701e-01   1.97499429e-01\n",
        "   1.97239842e-01   1.96980935e-01   1.96722707e-01   1.96465154e-01\n",
        "   1.96208275e-01   1.95952066e-01   1.95696525e-01   1.95441649e-01\n",
        "   1.95187435e-01   1.94933882e-01   1.94680986e-01   1.94428745e-01\n",
        "   1.94177157e-01   1.93926218e-01   1.93675927e-01   1.93426281e-01\n",
        "   1.93177277e-01   1.92928913e-01   1.92681186e-01   1.92434094e-01\n",
        "   1.92187635e-01   1.91941806e-01   1.91696605e-01   1.91452029e-01\n",
        "   1.91208076e-01   1.90964743e-01   1.90722029e-01   1.90479930e-01\n",
        "   1.90238445e-01   1.89997572e-01   1.89757307e-01   1.89517648e-01\n",
        "   1.89278594e-01   1.89040142e-01   1.88802290e-01   1.88565035e-01\n",
        "   1.88328375e-01   1.88092308e-01   1.87856832e-01   1.87621944e-01\n",
        "   1.87387643e-01   1.87153926e-01   1.86920791e-01   1.86688235e-01\n",
        "   1.86456258e-01   1.86224856e-01   1.85994027e-01   1.85763769e-01\n",
        "   1.85534080e-01   1.85304959e-01   1.85076402e-01   1.84848408e-01\n",
        "   1.84620975e-01   1.84394101e-01   1.84167783e-01   1.83942020e-01\n",
        "   1.83716809e-01   1.83492149e-01   1.83268037e-01   1.83044472e-01\n",
        "   1.82821452e-01   1.82598973e-01   1.82377036e-01   1.82155637e-01\n",
        "   1.81934775e-01   1.81714447e-01   1.81494652e-01   1.81275388e-01\n",
        "   1.81056652e-01   1.80838444e-01   1.80620761e-01   1.80403601e-01\n",
        "   1.80186962e-01   1.79970843e-01   1.79755241e-01   1.79540155e-01\n",
        "   1.79325583e-01   1.79111522e-01   1.78897973e-01   1.78684931e-01\n",
        "   1.78472396e-01   1.78260366e-01   1.78048838e-01   1.77837812e-01\n",
        "   1.77627285e-01   1.77417256e-01   1.77207723e-01   1.76998684e-01\n",
        "   1.76790137e-01   1.76582081e-01   1.76374514e-01   1.76167434e-01\n",
        "   1.75960839e-01   1.75754728e-01   1.75549099e-01   1.75343951e-01\n",
        "   1.75139281e-01   1.74935089e-01   1.74731372e-01   1.74528128e-01\n",
        "   1.74325357e-01   1.74123055e-01   1.73921223e-01   1.73719858e-01\n",
        "   1.73518958e-01   1.73318523e-01   1.73118549e-01   1.72919037e-01\n",
        "   1.72719983e-01   1.72521387e-01   1.72323247e-01   1.72125562e-01\n",
        "   1.71928329e-01   1.71731548e-01   1.71535216e-01   1.71339333e-01\n",
        "   1.71143896e-01   1.70948904e-01   1.70754356e-01   1.70560250e-01\n",
        "   1.70366585e-01   1.70173359e-01   1.69980571e-01   1.69788218e-01\n",
        "   1.69596301e-01   1.69404816e-01   1.69213763e-01   1.69023141e-01\n",
        "   1.68832947e-01   1.68643181e-01   1.68453841e-01   1.68264925e-01\n",
        "   1.68076432e-01   1.67888361e-01   1.67700710e-01   1.67513478e-01\n",
        "   1.67326664e-01   1.67140265e-01   1.66954282e-01   1.66768711e-01\n",
        "   1.66583553e-01   1.66398805e-01   1.66214466e-01   1.66030535e-01\n",
        "   1.65847010e-01   1.65663890e-01   1.65481175e-01   1.65298862e-01\n",
        "   1.65116949e-01   1.64935437e-01   1.64754323e-01   1.64573607e-01\n",
        "   1.64393286e-01   1.64213360e-01   1.64033827e-01   1.63854686e-01\n",
        "   1.63675936e-01   1.63497575e-01   1.63319602e-01   1.63142016e-01\n",
        "   1.62964816e-01   1.62788001e-01   1.62611568e-01   1.62435517e-01\n",
        "   1.62259847e-01   1.62084557e-01   1.61909644e-01   1.61735109e-01\n",
        "   1.61560949e-01   1.61387164e-01   1.61213752e-01   1.61040712e-01\n",
        "   1.60868044e-01   1.60695745e-01   1.60523814e-01   1.60352251e-01\n",
        "   1.60181054e-01   1.60010222e-01   1.59839755e-01   1.59669649e-01\n",
        "   1.59499906e-01   1.59330522e-01   1.59161498e-01   1.58992832e-01\n",
        "   1.58824523e-01   1.58656570e-01   1.58488972e-01   1.58321727e-01\n",
        "   1.58154835e-01   1.57988294e-01   1.57822103e-01   1.57656262e-01\n",
        "   1.57490768e-01   1.57325622e-01   1.57160821e-01   1.56996366e-01\n",
        "   1.56832253e-01   1.56668484e-01   1.56505056e-01   1.56341969e-01\n",
        "   1.56179221e-01   1.56016811e-01   1.55854739e-01   1.55693003e-01\n",
        "   1.55531602e-01   1.55370535e-01   1.55209802e-01   1.55049400e-01\n",
        "   1.54889330e-01   1.54729590e-01   1.54570179e-01   1.54411096e-01\n",
        "   1.54252340e-01   1.54093910e-01   1.53935804e-01   1.53778023e-01\n",
        "   1.53620565e-01   1.53463429e-01   1.53306614e-01   1.53150119e-01\n",
        "   1.52993944e-01   1.52838086e-01   1.52682545e-01   1.52527321e-01\n",
        "   1.52372411e-01   1.52217816e-01   1.52063535e-01   1.51909565e-01\n",
        "   1.51755907e-01   1.51602560e-01   1.51449522e-01   1.51296792e-01\n",
        "   1.51144371e-01   1.50992256e-01   1.50840446e-01   1.50688942e-01\n",
        "   1.50537741e-01   1.50386844e-01   1.00000000e+02]\n"
       ]
      }
     ],
     "prompt_number": 71
    },
    {
     "cell_type": "markdown",
     "metadata": {},
     "source": [
      "(d) For what minimum spacing is the 2pt-centered difference derivative accurate to 5 significant figures over its full range (excluding the last point)?"
     ]
    },
    {
     "cell_type": "code",
     "collapsed": false,
     "input": [
      "#answer"
     ],
     "language": "python",
     "metadata": {},
     "outputs": []
    },
    {
     "cell_type": "heading",
     "level": 2,
     "metadata": {},
     "source": [
      "Question 2"
     ]
    },
    {
     "cell_type": "markdown",
     "metadata": {},
     "source": [
      "Numerical differentiation plays an important role in fast electronic signal processing in many experimental contexts, such as the data acquisition systems of high energy particle and nuclear physics. The data collected is often a series of fast time samples of energy deposited in a detector by a fast-moving charged particle. The sheer volume of data can be enormous, so some signal processing within the electronics chain is necessary to reduce the size of the collected dataset.\n",
      "\n",
      "\n",
      "Due to the stochastic nature of the particle interactions and the inherent noise in the readout electronics, these signals can be very noisy. Unfortunately, numerical differentiation can amplify these fluctuations. By choosing your differentiation algorithm carefully, you can minimize the impact of these fluctuations on the collected signals.\n",
      "\n",
      "\n",
      "Generate and plot an example of a noisy sinusoidally varying dataset with the following:"
     ]
    },
    {
     "cell_type": "code",
     "collapsed": false,
     "input": [
      "x = np.linspace(0,2*pi,100)\n",
      "y = np.sin(x) + 0.1*random.random(size=x.shape)\n",
      "plot(x,y)"
     ],
     "language": "python",
     "metadata": {},
     "outputs": [
      {
       "metadata": {},
       "output_type": "pyout",
       "prompt_number": 73,
       "text": [
        "[<matplotlib.lines.Line2D at 0x106160750>]"
       ]
      },
      {
       "metadata": {},
       "output_type": "display_data",
       "png": "[encoded data removed]",
       "text": [
        "<matplotlib.figure.Figure at 0x10617e7d0>"
       ]
      }
     ],
     "prompt_number": 73
    },
    {
     "cell_type": "markdown",
     "metadata": {},
     "source": [
      "(a) Now that we do not control the spacing of the data points, we have to use higher order differencing methods to reach a smoother and more accurate derivative. The four-point center differencing method is defined by\n",
      "\n",
      "\n",
      "dydx[i]\u2243y[i\u22122]\u22128y[i\u22121]+8y[i+1]\u2212y[i+2]12h\n",
      "\n",
      "\n",
      "where h is the spacing between points on the x axis (assumed to be equal). This comes from keeping higher order terms from the Taylor expansion used to define the derivative. This method can be used to obtain dydx[2:-2]. In order to calculate values for dydx[0], dydx[1], dydx[-1] and dydx[-2] you must use the lowest order finite difference method (like the ones you defined in your twoPtForwardDiff(x,y) and twoPtCenteredDiff(x,y) functions). Create another function, fourPtCenteredDiff(x,y), that computes the derivative using the higher order method above. Test that it works for y=8x4+3x and plot the relative error from the analytical result."
     ]
    },
    {
     "cell_type": "code",
     "collapsed": false,
     "input": [
      "def fourPtCenteredDiff(x,y)\n",
      "    \n",
      "    \n",
      "    return dydx1"
     ],
     "language": "python",
     "metadata": {},
     "outputs": []
    },
    {
     "cell_type": "markdown",
     "metadata": {},
     "source": [
      "\n",
      "(b) Now plot the noisy sine function along with the derivatives computed analytically, using the lowest order forward finite difference method and the four-point centered difference. Your result should look something like the plot shown here:\n",
      "\n"
     ]
    },
    {
     "cell_type": "code",
     "collapsed": false,
     "input": [
      "#answer"
     ],
     "language": "python",
     "metadata": {},
     "outputs": []
    },
    {
     "cell_type": "markdown",
     "metadata": {},
     "source": [
      "(c) Write your three differentiating functions to a file called Differentiators.py. Be sure to include meaningful docstrings that describe what the functions do. The docstrings should include enough information for someone to understand the differences between the algorithms. Test that the code works by importing the functions and calling them on y=8x4+3x. Plot the results from all three methods."
     ]
    },
    {
     "cell_type": "code",
     "collapsed": false,
     "input": [
      "#answer"
     ],
     "language": "python",
     "metadata": {},
     "outputs": []
    },
    {
     "cell_type": "code",
     "collapsed": false,
     "input": [],
     "language": "python",
     "metadata": {},
     "outputs": []
    }
   ],
   "metadata": {}
  }
 ]
}