{
 "metadata": {
  "name": "",
  "signature": "sha256:6a7ca6c267cf27eeb18da4012dc191c88b4168a29295705391f71ca010b5b5fa"
 },
 "nbformat": 3,
 "nbformat_minor": 0,
 "worksheets": [
  {
   "cells": [
    {
     "cell_type": "code",
     "collapsed": false,
     "input": [
      "%pylab inline\n",
      "import numpy as np\n",
      "import matplotlib.pyplot as plot\n",
      "from scipy import integrate\n",
      "from scipy.integrate import trapz, cumtrapz"
     ],
     "language": "python",
     "metadata": {},
     "outputs": [
      {
       "output_type": "stream",
       "stream": "stdout",
       "text": [
        "Populating the interactive namespace from numpy and matplotlib\n"
       ]
      },
      {
       "output_type": "stream",
       "stream": "stderr",
       "text": [
        "WARNING: pylab import has clobbered these variables: ['plot', 'f']\n",
        "`%matplotlib` prevents importing * from pylab and numpy\n"
       ]
      }
     ],
     "prompt_number": 112
    },
    {
     "cell_type": "heading",
     "level": 1,
     "metadata": {},
     "source": [
      "Random Numbers, Monte Carlo Sampling and Simulation Exercises"
     ]
    },
    {
     "cell_type": "markdown",
     "metadata": {},
     "source": [
      "Question 1"
     ]
    },
    {
     "cell_type": "markdown",
     "metadata": {},
     "source": [
      "(a) Solve for the CDF of the Weibull distribution analytically"
     ]
    },
    {
     "cell_type": "code",
     "collapsed": false,
     "input": [
      "x = np.arange(0.0,30.0,.01)"
     ],
     "language": "python",
     "metadata": {},
     "outputs": [],
     "prompt_number": 113
    },
    {
     "cell_type": "code",
     "collapsed": false,
     "input": [
      "#SOLVING FOR WEIBULL\n",
      "def Weibull(xlist,alpha=1.5,beta=6.0):\n",
      "    lst = []\n",
      "    for i in range(len(xlist)):\n",
      "        lst.append((alpha/(beta)**alpha)*(xlist[i]**(alpha - 1))*(1/np.exp(((xlist[i]/beta)**alpha))))\n",
      "    return lst\n",
      "plt.plot(x, Weibull(x))"
     ],
     "language": "python",
     "metadata": {},
     "outputs": [
      {
       "metadata": {},
       "output_type": "pyout",
       "prompt_number": 114,
       "text": [
        "[<matplotlib.lines.Line2D at 0x10f7b1850>]"
       ]
      },
      {
       "metadata": {},
       "output_type": "display_data",
       "png": "[encoded data removed]",
       "text": [
        "<matplotlib.figure.Figure at 0x10f5d0cd0>"
       ]
      }
     ],
     "prompt_number": 114
    },
    {
     "cell_type": "markdown",
     "metadata": {},
     "source": [
      "(b) Find the inverse of the CDF F\u22121(x) analytically."
     ]
    },
    {
     "cell_type": "code",
     "collapsed": false,
     "input": [
      "#SOLVING FOR CDF\n",
      "def CDF(xlist, alpha=1.5, beta=6.0):\n",
      "    lst = []\n",
      "    for i in range(len(xlist)):\n",
      "        lst.append(1-np.exp(-(xlist[i]/beta)**alpha))\n",
      "    return lst\n",
      "plt.plot(x, CDF(x))"
     ],
     "language": "python",
     "metadata": {},
     "outputs": [
      {
       "metadata": {},
       "output_type": "pyout",
       "prompt_number": 115,
       "text": [
        "[<matplotlib.lines.Line2D at 0x110219e50>]"
       ]
      },
      {
       "metadata": {},
       "output_type": "display_data",
       "png": "[encoded data removed]",
       "text": [
        "<matplotlib.figure.Figure at 0x10ce29110>"
       ]
      }
     ],
     "prompt_number": 115
    },
    {
     "cell_type": "markdown",
     "metadata": {},
     "source": [
      "(c) Write a program to generate 10,000 samples from the Weibull distribution and plot the true distribution, the CDF and the sampled distribution as a histogram, all on the same graph. Let \u03b1 = 1.5, \u03b2 = 6."
     ]
    },
    {
     "cell_type": "code",
     "collapsed": false,
     "input": [
      "#CDF AND WEIBULL TOGETHER\n",
      "def Weibull2(N, alpha, beta):\n",
      "    \"\"\"This function takes the Weibull distribution for N number of samples\"\"\"\n",
      "    F_inv = lambda z: beta * ((-log(1-z))**(1./alpha))\n",
      "    z = random.random(N)\n",
      "    x = F_inv(z)\n",
      "    return x\n",
      "z = Weibull2(10000, 1.5, 6)\n",
      "f = lambda alpha, beta, x: alpha*(beta**-alpha)*(x**(alpha-1))*(e**-((x/beta)**alpha))\n",
      "cdf = lambda alpha, beta, z: 1 - e**(-(x/beta)**alpha)\n",
      "x = linspace(0, 20, 1000)\n",
      "y1 = f(1.5, 6, x)\n",
      "y2 = cdf(1.5, 6, x)\n",
      "#PLOTING THEM AS A HISTOGRAM ON THE SAME GRAPH\n",
      "plt.plot(x, y2, label = 'CDF function')\n",
      "plt.plot(x, y1, label = 'true distribution', lw = 4, color = 'black')\n",
      "plt.hist(z,100,normed=True, label = 'sampled distribution')\n",
      "plt.xlim(0, 25)\n",
      "plt.legend(loc = 'right')\n"
     ],
     "language": "python",
     "metadata": {},
     "outputs": [
      {
       "metadata": {},
       "output_type": "pyout",
       "prompt_number": 116,
       "text": [
        "<matplotlib.legend.Legend at 0x10f55ae10>"
       ]
      },
      {
       "metadata": {},
       "output_type": "display_data",
       "png": "[encoded data removed]",
       "text": [
        "<matplotlib.figure.Figure at 0x10b673a90>"
       ]
      }
     ],
     "prompt_number": 116
    },
    {
     "cell_type": "markdown",
     "metadata": {},
     "source": [
      "(d) Run the four statistical tests of randomness (mean, variance, chi-square, K-S) on your results from question 1(c). Does it pass all of them?\n"
     ]
    },
    {
     "cell_type": "code",
     "collapsed": false,
     "input": [
      "N = 10000.0\n",
      "z = np.random.random_sample(N)\n",
      "alpha = 1.5\n",
      "beta = 6.0\n",
      "inv = lambda z : beta*(-np.log(1-z))**(1/alpha)\n",
      "samples = inv(z)"
     ],
     "language": "python",
     "metadata": {},
     "outputs": [],
     "prompt_number": 117
    },
    {
     "cell_type": "code",
     "collapsed": false,
     "input": [
      "#MEAN\n",
      "N = 10000.0\n",
      "mean = (1.0/N)*sum(samples)\n",
      "print mean"
     ],
     "language": "python",
     "metadata": {},
     "outputs": [
      {
       "output_type": "stream",
       "stream": "stdout",
       "text": [
        "5.41060220631\n"
       ]
      }
     ],
     "prompt_number": 118
    },
    {
     "cell_type": "code",
     "collapsed": false,
     "input": [
      "#VARIANCE\n",
      "sigma_2 = (1.0/(N-1.0))*sum((samples-m)**2)\n",
      "print sigma_2"
     ],
     "language": "python",
     "metadata": {},
     "outputs": [
      {
       "output_type": "stream",
       "stream": "stdout",
       "text": [
        "13.4774137767\n"
       ]
      }
     ],
     "prompt_number": 119
    },
    {
     "cell_type": "code",
     "collapsed": false,
     "input": [
      "#CHI-SQUARED UNFINISHED"
     ],
     "language": "python",
     "metadata": {},
     "outputs": [],
     "prompt_number": 120
    },
    {
     "cell_type": "code",
     "collapsed": false,
     "input": [
      "#K-S UNFINISHED"
     ],
     "language": "python",
     "metadata": {},
     "outputs": [],
     "prompt_number": 121
    },
    {
     "cell_type": "markdown",
     "metadata": {},
     "source": [
      "Question 2"
     ]
    },
    {
     "cell_type": "markdown",
     "metadata": {},
     "source": [
      "(a) Write a program that uses the Rejection Sampling Method to generate a set of 10,000 samples from this distribution and plot the density distribution, the CDF, and a histogram of the sampled distribution on the same graph.\n",
      "Note: Do not use the built-in Beta function from numpy.random."
     ]
    },
    {
     "cell_type": "code",
     "collapsed": false,
     "input": [
      "#SETTING UP THE ARRAY, RANDOM NUMBER AND CDF FUNCTION\n",
      "x = np.arange(0.0,1.0,0.002)\n",
      "f = 60.0*(x**3)*(1-x)**2\n",
      "CDF = np.cumsum(f)/f.sum()\n",
      "r = np.random.uniform()\n",
      "print \"Random number = \",r\n",
      "xloc = x[CDF.searchsorted(r)]\n",
      "print \"Location on the x-axis = \",xloc"
     ],
     "language": "python",
     "metadata": {},
     "outputs": [
      {
       "output_type": "stream",
       "stream": "stdout",
       "text": [
        "Random number =  0.806477055482\n",
        "Location on the x-axis =  0.736\n"
       ]
      }
     ],
     "prompt_number": 122
    },
    {
     "cell_type": "code",
     "collapsed": false,
     "input": [
      "#SETTING UP THE SAMPLING\n",
      "N = 10000\n",
      "xsamples = np.zeros(N,float)\n",
      "for i in range(N):\n",
      "    rr = np.random.uniform()\n",
      "    xsamples[i] = x[CDF.searchsorted(rr)]"
     ],
     "language": "python",
     "metadata": {},
     "outputs": [],
     "prompt_number": 123
    },
    {
     "cell_type": "code",
     "collapsed": false,
     "input": [
      "#SETTING UP THE HISTOGRAM\n",
      "plt.plot(x,f,label='True distribution',lw=2,color='B')\n",
      "plt.plot(x,CDF,label=\"Cumulative distribution\",lw=,color='RED')\n",
      "plt.hist(xsamples,bins=200,normed=True,label=\"Sampled distribution\",alpha=0.5)\n",
      "#SETTING UP THE EXAMPLE POINT \n",
      "plt.plot(xloc,r,'r*',markersize=20)\n",
      "plt.plot((xloc,xloc),(0.,r),\"k--\",(0.,xloc),(r,r),\"k--\")\n",
      "plt.legend(loc='upper left')\n",
      "plt.show()"
     ],
     "language": "python",
     "metadata": {},
     "outputs": [
      {
       "metadata": {},
       "output_type": "display_data",
       "png": "[encoded data removed]",
       "text": [
        "<matplotlib.figure.Figure at 0x10f7b46d0>"
       ]
      }
     ],
     "prompt_number": 124
    },
    {
     "cell_type": "markdown",
     "metadata": {},
     "source": [
      "(b) Run the four statistical tests of randomness (mean, variance, chi-square, K-S) on your results from question 2(a). Does it pass all of them?"
     ]
    },
    {
     "cell_type": "code",
     "collapsed": false,
     "input": [
      "#MEAN\n",
      "mean1 = (1./10000.)*sum(xsamples)\n",
      "print mean1"
     ],
     "language": "python",
     "metadata": {},
     "outputs": [
      {
       "output_type": "stream",
       "stream": "stdout",
       "text": [
        "0.5720684\n"
       ]
      }
     ],
     "prompt_number": 125
    },
    {
     "cell_type": "code",
     "collapsed": false,
     "input": [
      "#VARIANCE\n",
      "sigma_2 = (1.0/(N-1.0))*sum((xsamples-mean1)**2)\n",
      "print sigma_2"
     ],
     "language": "python",
     "metadata": {},
     "outputs": [
      {
       "output_type": "stream",
       "stream": "stdout",
       "text": [
        "0.030392315353\n"
       ]
      }
     ],
     "prompt_number": 126
    },
    {
     "cell_type": "code",
     "collapsed": false,
     "input": [
      "#CHI-SQUARED UNFINISHED"
     ],
     "language": "python",
     "metadata": {},
     "outputs": [],
     "prompt_number": 127
    },
    {
     "cell_type": "code",
     "collapsed": false,
     "input": [
      "#K-S UNFINISHED"
     ],
     "language": "python",
     "metadata": {},
     "outputs": [],
     "prompt_number": 128
    },
    {
     "cell_type": "markdown",
     "metadata": {},
     "source": [
      "Question 3"
     ]
    },
    {
     "cell_type": "markdown",
     "metadata": {},
     "source": [
      "(a) Plot the Woods-Saxon distribution \u03c1(r) and r$^2$\u03c1(r) for gold from r = 0 fm to r = 18 fm."
     ]
    },
    {
     "cell_type": "code",
     "collapsed": false,
     "input": [
      "#SETTING UP THE WOODS-SAXON DISTRIBUTION\n",
      "r = np.arange(0.,18.0,.01)\n",
      "w = 0\n",
      "R = 6.38\n",
      "a = 0.535"
     ],
     "language": "python",
     "metadata": {},
     "outputs": [],
     "prompt_number": 139
    },
    {
     "cell_type": "code",
     "collapsed": false,
     "input": [
      "#SETTING UP P(R) AND R^2P(R) \n",
      "rho = lambda r: (1+(w*r**2)/R**2)/(1+np.exp((r-R)/a))\n",
      "rsquaredrho = lambda r: (r**2)*((((1+(w*r**2)))/R**2)/(1+np.exp((r-R)/a)))"
     ],
     "language": "python",
     "metadata": {},
     "outputs": [],
     "prompt_number": 137
    },
    {
     "cell_type": "code",
     "collapsed": false,
     "input": [
      "#SETTING UP THE PLOT\n",
      "plt.plot(r,rho(r),label=r'$p(r)$',color='red')\n",
      "plt.plot(r,rsquaredrho(r),label=r'$r^2 p(r)$',color='blue')\n",
      "plt.xlabel(r'$r$',fontsize=20)\n",
      "plt.legend(loc='right',fontsize=20)\n",
      "plt.show()"
     ],
     "language": "python",
     "metadata": {},
     "outputs": [
      {
       "metadata": {},
       "output_type": "display_data",
       "png": "[encoded data removed]",
       "text": [
        "<matplotlib.figure.Figure at 0x10f78e910>"
       ]
      }
     ],
     "prompt_number": 141
    },
    {
     "cell_type": "markdown",
     "metadata": {},
     "source": [
      "(b)\n",
      "\n",
      "Let\u2019s create a realistic distribution for two gold ions, A, and B.\n",
      "First, distribute 197 nucleons for each nucleus using the Woods-Saxon distribution multiplied by the spherical coordinate weighting factor, r2. Use the distribute1d function from the tour to sample r values numerically.\n",
      "\n",
      "Then, use uniform sampling of a number u from [0,1) scaled by 2\u03c0 to obtain the azimuthal angle \u03d5 = 2\u03c0u\n",
      "Followed by uniform sampling of another number v = [0,1), transformed to \u03b8=cos\u22121(2v\u22121) to obtain the polar angle \u03b8.\n",
      "\n",
      "(Note that this is the physics definition of azimuthal and polar angles, not the math definition.)\n",
      "\n",
      "The reason for these transformations is that the volume element dV=r2sin\u03b8drd\u03b8d\u03d5 has both radial and polar angle dependence. If you do not sample in this way, your results will be bunched up at the poles and toward the outer edges of the sphere."
     ]
    },
    {
     "cell_type": "code",
     "collapsed": false,
     "input": [
      "#UNFINISHED"
     ],
     "language": "python",
     "metadata": {},
     "outputs": [],
     "prompt_number": 142
    },
    {
     "cell_type": "markdown",
     "metadata": {},
     "source": [
      "\n",
      "(c)\n",
      "\n",
      "Once you have the spherical coordinates for each of the nucleons in each nucleus, convert to cartesian coordinates. In nuclear collisions, the beam axis along which the particles travel/collide is the z axis. The polar angle \u03b8 is measured up from the positive-z axis and the azimuthal angle \u03d5 is measured up from the positive x-axis.\n",
      "\n",
      "Plot the nuclei in 2d for two different planar projections: the the beam's eye view (x-y) and the side view (x-z) side-by-side.\n",
      "Let the nucleons have radius of 1 fm, make the nucleons from each nucleus a different color, and displace them by a randomly chosen impact parameter b between 0 and 18 fm. For example, shift ion A by b/2 to the left along the x-axis and B by b/2 to the right along the x-axis."
     ]
    },
    {
     "cell_type": "code",
     "collapsed": false,
     "input": [
      "#UNFINISHED"
     ],
     "language": "python",
     "metadata": {},
     "outputs": [],
     "prompt_number": 143
    },
    {
     "cell_type": "markdown",
     "metadata": {},
     "source": [
      "(d) \n",
      "\n",
      "Since we cannot measure the impact parameter directly for each collision, we need a method to estimate the geometric overlap so that we can categorize the collisions based on the number of nucleons participating in each collision and how many nucleon-nucleon collisions occurred. Nucleons that pass close enough to each other will experience an inelastic collision that will rip the quarks right out of the nucleon. The distance that dictates when an inelastic collision occurs is governed by the interaction cross-section, which has been measured very carefully at proton colliders. The inelastic cross-section at collision energy of 200 GeV is \u03c3inel = 42 mb (1 mb = 1 millibarn = 10\u221224 cm2 = 10\u221231 m2), defining an overlap area between two nucleons.\n",
      "\n",
      "Make an interact object for your two plots in part (c) that let's you vary the impact parameter from 0 to 18 fm. On the plots, change the color of the nucleons that \"participate\" in interactions to something else. (Let the participating nucleons in nucleus A be one color and those in nucleus B be another color.)\n",
      "\n",
      "To do this, you\u2019ll need to find all the nucleons from ion A that are within a distance, D, of a nucleon from ion B using D=1\u03c0\u03c3inel\u203e\u203e\u203e\u203e\u221a, where \u03c3inel is the cross sectional area measured in millibarns. Don\u2019t forget to convert the millibarns to fm2."
     ]
    },
    {
     "cell_type": "code",
     "collapsed": false,
     "input": [
      "#UNFINISHED"
     ],
     "language": "python",
     "metadata": {},
     "outputs": [],
     "prompt_number": 144
    },
    {
     "cell_type": "code",
     "collapsed": false,
     "input": [],
     "language": "python",
     "metadata": {},
     "outputs": []
    }
   ],
   "metadata": {}
  }
 ]
}